{
  "nbformat": 4,
  "nbformat_minor": 0,
  "metadata": {
    "colab": {
      "provenance": [],
      "include_colab_link": true
    },
    "kernelspec": {
      "name": "python3",
      "display_name": "Python 3"
    },
    "language_info": {
      "name": "python"
    }
  },
  "cells": [
    {
      "cell_type": "markdown",
      "metadata": {
        "id": "view-in-github",
        "colab_type": "text"
      },
      "source": [
        "<a href=\"https://colab.research.google.com/github/leksandre/-crab-for-web2ipr_book_shop/blob/main/gDriveToMega.ipynb\" target=\"_parent\"><img src=\"https://colab.research.google.com/assets/colab-badge.svg\" alt=\"Open In Colab\"/></a>"
      ]
    },
    {
      "cell_type": "code",
      "source": [
        "# //!pip3 install mega\n",
        "# //!pip install mega.py==0.8.5\n",
        "!pip install mega.py"
      ],
      "metadata": {
        "colab": {
          "base_uri": "https://localhost:8080/"
        },
        "id": "QsXbTqMUXVm-",
        "outputId": "e27439e0-249a-4578-944b-3eca7151991c"
      },
      "execution_count": 3,
      "outputs": [
        {
          "output_type": "stream",
          "name": "stdout",
          "text": [
            "Collecting mega.py\n",
            "  Downloading mega.py-1.0.8-py2.py3-none-any.whl.metadata (6.5 kB)\n",
            "Requirement already satisfied: requests>=0.10 in /usr/local/lib/python3.10/dist-packages (from mega.py) (2.32.3)\n",
            "Collecting pycryptodome<4.0.0,>=3.9.6 (from mega.py)\n",
            "  Downloading pycryptodome-3.20.0-cp35-abi3-manylinux_2_17_x86_64.manylinux2014_x86_64.whl.metadata (3.4 kB)\n",
            "Requirement already satisfied: pathlib==1.0.1 in /usr/local/lib/python3.10/dist-packages (from mega.py) (1.0.1)\n",
            "Collecting tenacity<6.0.0,>=5.1.5 (from mega.py)\n",
            "  Downloading tenacity-5.1.5-py2.py3-none-any.whl.metadata (1.2 kB)\n",
            "Requirement already satisfied: charset-normalizer<4,>=2 in /usr/local/lib/python3.10/dist-packages (from requests>=0.10->mega.py) (3.3.2)\n",
            "Requirement already satisfied: idna<4,>=2.5 in /usr/local/lib/python3.10/dist-packages (from requests>=0.10->mega.py) (3.10)\n",
            "Requirement already satisfied: urllib3<3,>=1.21.1 in /usr/local/lib/python3.10/dist-packages (from requests>=0.10->mega.py) (2.2.3)\n",
            "Requirement already satisfied: certifi>=2017.4.17 in /usr/local/lib/python3.10/dist-packages (from requests>=0.10->mega.py) (2024.8.30)\n",
            "Requirement already satisfied: six>=1.9.0 in /usr/local/lib/python3.10/dist-packages (from tenacity<6.0.0,>=5.1.5->mega.py) (1.16.0)\n",
            "Downloading mega.py-1.0.8-py2.py3-none-any.whl (19 kB)\n",
            "Downloading pycryptodome-3.20.0-cp35-abi3-manylinux_2_17_x86_64.manylinux2014_x86_64.whl (2.1 MB)\n",
            "\u001b[2K   \u001b[90m━━━━━━━━━━━━━━━━━━━━━━━━━━━━━━━━━━━━━━━━\u001b[0m \u001b[32m2.1/2.1 MB\u001b[0m \u001b[31m24.7 MB/s\u001b[0m eta \u001b[36m0:00:00\u001b[0m\n",
            "\u001b[?25hDownloading tenacity-5.1.5-py2.py3-none-any.whl (34 kB)\n",
            "Installing collected packages: tenacity, pycryptodome, mega.py\n",
            "  Attempting uninstall: tenacity\n",
            "    Found existing installation: tenacity 9.0.0\n",
            "    Uninstalling tenacity-9.0.0:\n",
            "      Successfully uninstalled tenacity-9.0.0\n",
            "\u001b[31mERROR: pip's dependency resolver does not currently take into account all the packages that are installed. This behaviour is the source of the following dependency conflicts.\n",
            "plotly 5.24.1 requires tenacity>=6.2.0, but you have tenacity 5.1.5 which is incompatible.\u001b[0m\u001b[31m\n",
            "\u001b[0mSuccessfully installed mega.py-1.0.8 pycryptodome-3.20.0 tenacity-5.1.5\n"
          ]
        }
      ]
    },
    {
      "cell_type": "code",
      "execution_count": 4,
      "metadata": {
        "id": "OkpoikbJXL2t"
      },
      "outputs": [],
      "source": [
        "from mega import Mega\n",
        "import os"
      ]
    },
    {
      "cell_type": "code",
      "source": [
        "from re import S\n",
        "def human_size(bytes, units=[' bytes','KB','MB','GB','TB', 'PB', 'EB']):\n",
        "    \"\"\" Returns a human readable string representation of bytes \"\"\"\n",
        "    return str(bytes) + units[0] if bytes < 1024 else human_size(bytes>>10, units[1:])\n",
        "\n",
        "from pathlib import Path\n",
        "from os.path import isdir\n",
        "\n",
        "class UploadMega():\n",
        "    def __init__(self, id, password):\n",
        "        mega = Mega()\n",
        "        self.mega = mega.login(id, password)\n",
        "    def upload_single_file(self, path):\n",
        "        print(\"uploading :\", path)\n",
        "        self.mega.upload(path)\n",
        "        print(\"uploaded :\", path)\n",
        "\n",
        "    def compare_dir(self, path, newFolder = ''):\n",
        "        files = os.listdir(path)\n",
        "        j = 0\n",
        "        for i in files:\n",
        "            if isdir(i):\n",
        "              print(\"\\n\\ngo to DIR :\", i)\n",
        "              l = self.mega.find(i)\n",
        "              if l:\n",
        "                print(' exist DIR ', newFolder+ \"/\"+i , l)\n",
        "                self.compare_dir(os.path.join(path, i), newFolder+'/'+i)\n",
        "              else:\n",
        "                print(\"have to create DIR:\", i)\n",
        "            else:\n",
        "              # print(\"go to file :\", newFolder, \" / \",i)\n",
        "              l = self.mega.find(i)\n",
        "              # print('check exist file ', newFolder+ \"/\"+i , l)\n",
        "              if l:\n",
        "                # print('already exist file', i)\n",
        "                j = j+1\n",
        "\n",
        "                hasErr = False\n",
        "                s = (os.path.getsize(os.path.join(path, i)))\n",
        "                if l[1]['s'] != s:\n",
        "                  print('!!!!!----wrong file size 1', i, l[1]['s'], \"<>\", s )\n",
        "                  print(human_size(l[1]['s']))\n",
        "                  hasErr = True\n",
        "\n",
        "                s = (os.stat(os.path.join(path, i)).st_size )\n",
        "                if l[1]['s'] != s:\n",
        "                  print('!!!!!----wrong file size 2', i, l[1]['s'], \"<>\", s )\n",
        "                  print(human_size(l[1]['s']))\n",
        "                  hasErr = True\n",
        "\n",
        "                s = (Path(os.path.join(path, i)).stat().st_size)\n",
        "                if l[1]['s'] != s:\n",
        "                  print('!!!!!----wrong file size 3', i, l[1]['s'], \"<>\", s )\n",
        "                  print(human_size(l[1]['s']))\n",
        "                  hasErr = True\n",
        "\n",
        "                if hasErr:\n",
        "                  m.delete(l[0])\n",
        "                  print(\"----------replace----------------have to upload file:\", newFolder+ \"/\"+i)\n",
        "                  Folder = self.mega.find(newFolder)\n",
        "                  try:\n",
        "                    self.mega.upload(os.path.join(path, i), Folder[0])\n",
        "                  except Exception:\n",
        "                    print(\"Exception -------replace-------- \", newFolder, \" / \",i)\n",
        "\n",
        "                # print(j ,l,' exist file ', newFolder+ \"/\"+i , l)\n",
        "\n",
        "                # print(l[1]['s'])\n",
        "                # print(human_size(l[1]['s']))\n",
        "\n",
        "                # print(os.path.getsize(os.path.join(path, i)))\n",
        "                # print(os.stat(os.path.join(path, i)).st_size )\n",
        "                # print(Path(os.path.join(path, i)).stat().st_size)\n",
        "\n",
        "                pass\n",
        "              else:\n",
        "                print(\"--------------------------have to upload file:\", newFolder+ \"/\"+i)\n",
        "                Folder = self.mega.find(newFolder)\n",
        "                try:\n",
        "                  self.mega.upload(os.path.join(path, i), Folder[0])\n",
        "                except Exception:\n",
        "                  print(\"Exception --------------- \", newFolder, \" / \",i)\n",
        "\n",
        "        print(j,' end path ',path)\n",
        "\n",
        "    def upload_directory(self, path, newFolder = ''):\n",
        "        files = os.listdir(path)\n",
        "        for i in files:\n",
        "            if isdir(i):\n",
        "              if i == 'media2':\n",
        "                continue\n",
        "              print(\"uploading DIR :\", i)\n",
        "              # if len(newFolder)>0:\n",
        "              l = self.mega.find(i)\n",
        "              print(' exist DIR ', newFolder+ \"/\"+i , l)\n",
        "              if l:\n",
        "                print('already exist')\n",
        "              else:\n",
        "                self.mega.create_folder(newFolder+'/'+i)\n",
        "              self.upload_directory(os.path.join(path, i), newFolder+'/'+i)\n",
        "              print(\"uploaded DIR:\", i)\n",
        "            else:\n",
        "              print(\"uploading :\", newFolder, \" / \",i)\n",
        "              l = self.mega.find(i)\n",
        "              print(' exist file ', newFolder+ \"/\"+i , l)\n",
        "              if l:\n",
        "                print('already exist')\n",
        "                continue\n",
        "              Folder = self.mega.find(newFolder)\n",
        "              try:\n",
        "                self.mega.upload(os.path.join(path, i), Folder[0])\n",
        "              except Exception:\n",
        "                print(\"Exception --------------- \", newFolder, \" / \",i)\n",
        "              print(\"uploaded :\", i)\n",
        "\n",
        "    def upload_files_by_extension(self, path, extension):\n",
        "        files = os.listdir(path)\n",
        "        for i in files:\n",
        "            if i.split(\".\")[-1] == extension:\n",
        "                print(\"uploading :\", i)\n",
        "                self.mega.upload(os.path.join(path, i))\n",
        "                print(\"uploaded :\", i)"
      ],
      "metadata": {
        "id": "CMV47u6-XNzK"
      },
      "execution_count": 5,
      "outputs": []
    },
    {
      "cell_type": "code",
      "source": [
        "m = UploadMega();"
      ],
      "metadata": {
        "id": "6bHkhEp6Yzs-"
      },
      "execution_count": 6,
      "outputs": []
    },
    {
      "cell_type": "code",
      "source": [
        "from google.colab import drive\n",
        "drive.mount('/content/drive')"
      ],
      "metadata": {
        "colab": {
          "base_uri": "https://localhost:8080/"
        },
        "id": "JplIEhLDaKDd",
        "outputId": "a9214803-86e9-4c2f-ec16-0e930f034bf5"
      },
      "execution_count": 7,
      "outputs": [
        {
          "output_type": "stream",
          "name": "stdout",
          "text": [
            "Mounted at /content/drive\n"
          ]
        }
      ]
    },
    {
      "cell_type": "code",
      "source": [
        "%cd /content/drive/My Drive/mega/\n",
        "%ls"
      ],
      "metadata": {
        "id": "VMw7OlGvaWA8",
        "colab": {
          "base_uri": "https://localhost:8080/"
        },
        "outputId": "f3008fd3-2212-4615-cca7-3fd076c3a9a3"
      },
      "execution_count": 8,
      "outputs": [
        {
          "output_type": "stream",
          "name": "stdout",
          "text": [
            "/content/drive/My Drive/mega\n",
            "desktop.ini  \u001b[0m\u001b[01;34mmedia\u001b[0m/  \u001b[01;34mmedia2\u001b[0m/  \u001b[01;34mmedia3\u001b[0m/  \u001b[01;34mRubbish\u001b[0m/\n"
          ]
        }
      ]
    },
    {
      "cell_type": "code",
      "source": [
        "import os, os.path\n",
        "\n",
        "# simple version for working with CWD\n",
        "print(len([name for name in os.listdir('.') if os.path.isfile(name)]))\n",
        "\n",
        "# path joining version for other paths\n",
        "DIR = '/content/drive/My Drive/mega/media'\n",
        "print(len([name for name in os.listdir(DIR) if os.path.isfile(os.path.join(DIR, name))]))\n",
        "\n",
        "# path joining version for other paths\n",
        "DIR = '/content/drive/My Drive/mega/media2'\n",
        "print(len([name for name in os.listdir(DIR) if os.path.isfile(os.path.join(DIR, name))]))\n",
        "\n",
        "# path joining version for other paths\n",
        "DIR = '/content/drive/My Drive/mega/media3'\n",
        "print(len([name for name in os.listdir(DIR) if os.path.isfile(os.path.join(DIR, name))]))"
      ],
      "metadata": {
        "colab": {
          "base_uri": "https://localhost:8080/"
        },
        "id": "cN7kFrWo3DVa",
        "outputId": "7b9c0f7a-0c46-470f-d201-e388f847f6ea"
      },
      "execution_count": 9,
      "outputs": [
        {
          "output_type": "stream",
          "name": "stdout",
          "text": [
            "1\n",
            "50\n",
            "132\n",
            "535\n"
          ]
        }
      ]
    },
    {
      "cell_type": "code",
      "source": [
        "# %ls media2"
      ],
      "metadata": {
        "id": "jFn5QuzU3jLA"
      },
      "execution_count": 10,
      "outputs": []
    },
    {
      "cell_type": "code",
      "source": [
        " m.compare_dir('/content/drive/My Drive/mega/','mega')"
      ],
      "metadata": {
        "colab": {
          "base_uri": "https://localhost:8080/"
        },
        "id": "5Nbhdh28418a",
        "outputId": "d9ae9ace-c9e3-4e48-8444-4e49770dd248"
      },
      "execution_count": 11,
      "outputs": [
        {
          "output_type": "stream",
          "name": "stdout",
          "text": [
            "\n",
            "\n",
            "go to DIR : media2\n",
            " exist DIR  mega/media2 ('aFwElCbB', {'h': 'aFwElCbB', 'p': '2V5kGABQ', 'u': '9l6toXbouWk', 't': 1, 'a': {'n': 'media2'}, 'k': (1559134340, 1741178111, 3267902549, 2434543638), 'ts': 1727428052, 'key': (1559134340, 1741178111, 3267902549, 2434543638)})\n",
            "132  end path  /content/drive/My Drive/mega/media2\n",
            "\n",
            "\n",
            "go to DIR : Rubbish\n",
            " exist DIR  mega/Rubbish ('iIgDWDDY', {'h': 'iIgDWDDY', 'p': '2V5kGABQ', 'u': '9l6toXbouWk', 't': 1, 'a': {'n': 'Rubbish'}, 'k': (1468886512, 875765807, 2895259420, 3528253591), 'ts': 1727436051, 'key': (1468886512, 875765807, 2895259420, 3528253591)})\n",
            "--------------------------have to upload file: mega/Rubbish/tmp\n",
            "Exception ---------------  mega/Rubbish  /  tmp\n",
            "0  end path  /content/drive/My Drive/mega/Rubbish\n",
            "\n",
            "\n",
            "go to DIR : media\n",
            " exist DIR  mega/media ('OMpETBaZ', {'h': 'OMpETBaZ', 'p': '2V5kGABQ', 'u': '9l6toXbouWk', 't': 1, 'a': {'n': 'media'}, 'k': (897617684, 1489617407, 3296464001, 1513981383), 'ts': 1727436459, 'key': (897617684, 1489617407, 3296464001, 1513981383)})\n",
            "50  end path  /content/drive/My Drive/mega/media\n",
            "\n",
            "\n",
            "go to DIR : media3\n",
            " exist DIR  mega/media3 ('ecABUbpL', {'h': 'ecABUbpL', 'p': '2V5kGABQ', 'u': '9l6toXbouWk', 't': 1, 'a': {'n': 'media3'}, 'k': (2513751384, 1563024863, 3826992370, 1842427572), 'ts': 1727438887, 'key': (2513751384, 1563024863, 3826992370, 1842427572)})\n",
            "--------------------------have to upload file: mega/media3/IMAG1260.jpg\n",
            "Exception ---------------  mega/media3  /  IMAG1260.jpg\n",
            "534  end path  /content/drive/My Drive/mega/media3\n",
            "1  end path  /content/drive/My Drive/mega/\n"
          ]
        }
      ]
    },
    {
      "cell_type": "code",
      "source": [
        "# m.upload_directory('/content/drive/My Drive/mega/','mega')"
      ],
      "metadata": {
        "id": "mi5DNRu4eXws"
      },
      "execution_count": 12,
      "outputs": []
    },
    {
      "cell_type": "code",
      "source": [
        "print('success')"
      ],
      "metadata": {
        "colab": {
          "base_uri": "https://localhost:8080/"
        },
        "id": "8VB-nTp88gWB",
        "outputId": "a6d0ae64-1792-4551-e038-99b3b2fd4abd"
      },
      "execution_count": 13,
      "outputs": [
        {
          "output_type": "stream",
          "name": "stdout",
          "text": [
            "success\n"
          ]
        }
      ]
    }
  ]
}