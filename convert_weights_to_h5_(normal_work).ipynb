{
  "nbformat": 4,
  "nbformat_minor": 0,
  "metadata": {
    "colab": {
      "provenance": [],
      "authorship_tag": "ABX9TyPDRkAErpWcrYW2O4Oy4kd5",
      "include_colab_link": true
    },
    "kernelspec": {
      "name": "python3",
      "display_name": "Python 3"
    },
    "language_info": {
      "name": "python"
    }
  },
  "cells": [
    {
      "cell_type": "markdown",
      "metadata": {
        "id": "view-in-github",
        "colab_type": "text"
      },
      "source": [
        "<a href=\"https://colab.research.google.com/github/leksandre/-crab-for-web2ipr_book_shop/blob/main/convert_weights_to_h5_(normal_work).ipynb\" target=\"_parent\"><img src=\"https://colab.research.google.com/assets/colab-badge.svg\" alt=\"Open In Colab\"/></a>"
      ]
    },
    {
      "cell_type": "code",
      "source": [
        "!git clone https://github.com/david8862/keras-YOLOv3-model-set.git"
      ],
      "metadata": {
        "colab": {
          "base_uri": "https://localhost:8080/"
        },
        "id": "2xhweK18PPeV",
        "outputId": "a3fa92bf-826b-44c7-fb91-fe1f854c51dd"
      },
      "execution_count": null,
      "outputs": [
        {
          "output_type": "stream",
          "name": "stdout",
          "text": [
            "Cloning into 'keras-YOLOv3-model-set'...\n",
            "remote: Enumerating objects: 4159, done.\u001b[K\n",
            "remote: Counting objects: 100% (688/688), done.\u001b[K\n",
            "remote: Compressing objects: 100% (114/114), done.\u001b[K\n",
            "remote: Total 4159 (delta 628), reused 579 (delta 574), pack-reused 3471\u001b[K\n",
            "Receiving objects: 100% (4159/4159), 27.13 MiB | 21.20 MiB/s, done.\n",
            "Resolving deltas: 100% (3001/3001), done.\n"
          ]
        }
      ]
    },
    {
      "cell_type": "code",
      "source": [
        "!ls"
      ],
      "metadata": {
        "colab": {
          "base_uri": "https://localhost:8080/"
        },
        "id": "xlfWj0sGPS2z",
        "outputId": "65649817-9af7-4087-d104-3cd9d5e9d9bd"
      },
      "execution_count": null,
      "outputs": [
        {
          "output_type": "stream",
          "name": "stdout",
          "text": [
            "keras-YOLOv3-model-set\tsample_data\n"
          ]
        }
      ]
    },
    {
      "cell_type": "code",
      "source": [
        "mv keras-YOLOv3-model-set/*"
      ],
      "metadata": {
        "id": "w4EPnFiTPVQz"
      },
      "execution_count": null,
      "outputs": []
    },
    {
      "cell_type": "code",
      "execution_count": null,
      "metadata": {
        "id": "oNXyo7pSPCXC"
      },
      "outputs": [],
      "source": [
        "!apt install python3-opencv imagemagick\n",
        "!pip install Cython\n",
        "!pip install -r requirements.txt"
      ]
    },
    {
      "cell_type": "code",
      "source": [
        "!python tools/model_converter/convert.py yoloMyv3.cfg yoloMyv3_120000.weights weights/yolov3.h5"
      ],
      "metadata": {
        "id": "92NUfRNzP1vs"
      },
      "execution_count": null,
      "outputs": []
    }
  ]
}