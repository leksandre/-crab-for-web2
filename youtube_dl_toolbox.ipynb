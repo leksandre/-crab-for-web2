{
  "nbformat": 4,
  "nbformat_minor": 0,
  "metadata": {
    "colab": {
      "name": "youtube-dl toolbox.ipynb",
      "provenance": [],
      "include_colab_link": true
    },
    "kernelspec": {
      "name": "python3",
      "display_name": "Python 3"
    }
  },
  "cells": [
    {
      "cell_type": "markdown",
      "metadata": {
        "id": "view-in-github",
        "colab_type": "text"
      },
      "source": [
        "<a href=\"https://colab.research.google.com/github/leksandre/-crab-for-web2ipr_book_shop/blob/main/youtube_dl_toolbox.ipynb\" target=\"_parent\"><img src=\"https://colab.research.google.com/assets/colab-badge.svg\" alt=\"Open In Colab\"/></a>"
      ]
    },
    {
      "cell_type": "code",
      "metadata": {
        "id": "qOKysSYyVPWI",
        "colab": {
          "base_uri": "https://localhost:8080/"
        },
        "outputId": "e2b93e50-96f1-4bf8-9f97-feeaf1fe76de"
      },
      "source": [
        "#@title Video + Playlist Downloder - Simple Mode { vertical-output: true }\n",
        "url = \"https://www.youtube.com/playlist?list=PLa1tRGP3N10mkbaseapRvcG6vvE4GUdp4\" #@param {type:\"string\"}\n",
        "# max_filesize_mb = 1000 #@param { type: 'slider', min: 1, max: 1000}\n",
        "playlist_start = 1 #@param { type: 'number' }\n",
        "playlist_end = 10 #@param { type: 'number' }\n",
        "remove_everything = True #@param { type: 'boolean' }\n",
        "start_downloading_immediately = False #@param { type: 'boolean' }\n",
        "\n",
        "\n",
        "# Install + Import + Config\n",
        "try: import youtube_dl\n",
        "except:\n",
        "    ! pip install youtube-dl\n",
        "\n",
        "if remove_everything:\n",
        "    ! rm -rf *\n",
        "\n",
        "import youtube_dl\n",
        "import google\n",
        "\n",
        "\n",
        "# Download\n",
        "# with youtube_dl.YoutubeDL({\n",
        "#     'outtmpl': '%(title)s.%(ext)s',\n",
        "#     'format': '18',\n",
        "#     'playlist-start': playlist_start,\n",
        "#     'playlist-end': playlist_end,\n",
        "#     'max-filesize': f'{max_filesize_mb}M'\n",
        "# }).download(urls.split());\n",
        "\n",
        "! youtube-dl {url} --playlist-start {playlist_start} --playlist-end {playlist_end} --format 18\n",
        "! zip archive.zip *\n",
        "\n",
        "if start_downloading_immediately:\n",
        "    google.colab.files.download('archive.zip')"
      ],
      "execution_count": 3,
      "outputs": [
        {
          "output_type": "stream",
          "name": "stdout",
          "text": [
            "[youtube:tab] PLa1tRGP3N10mkbaseapRvcG6vvE4GUdp4: Downloading webpage\n",
            "[download] Downloading playlist: uznik_if\n",
            "[youtube:tab] Downloading page 1\n",
            "[youtube:tab] playlist uznik_if: Downloading 2 videos\n",
            "[download] Downloading video 1 of 2\n",
            "[youtube] nxEg_5noQ6g: Downloading webpage\n",
            "\u001b[0;31mERROR:\u001b[0m Unable to extract \u001b[0;34muploader id\u001b[0m; please report this issue on https://yt-dl.org/bug . Make sure you are using the latest version; see  https://yt-dl.org/update  on how to update. Be sure to call youtube-dl with the --verbose flag and include its complete output.\n",
            "\tzip warning: name not matched: *\n",
            "\n",
            "zip error: Nothing to do! (archive.zip)\n"
          ]
        }
      ]
    },
    {
      "cell_type": "code",
      "metadata": {
        "id": "w-zMRrNaNiSl",
        "outputId": "14d702f6-74a9-44c3-a4f2-1e1300f146a9",
        "colab": {
          "base_uri": "https://localhost:8080/"
        }
      },
      "source": [
        "! youtube-dl https://www.youtube.com/playlist?list=PLM9L_dc48Wr-CjYe9YFlJ9GXZmg7CPZS3 --playlist-start 1 --playlist-end 5"
      ],
      "execution_count": 2,
      "outputs": [
        {
          "output_type": "stream",
          "name": "stdout",
          "text": [
            "[youtube:tab] PLM9L_dc48Wr-CjYe9YFlJ9GXZmg7CPZS3: Downloading webpage\n",
            "[download] Downloading playlist: Guyton and Hall Medical physiology\n",
            "[youtube:tab] playlist Guyton and Hall Medical physiology: Downloading 5 videos\n",
            "[download] Downloading video 1 of 5\n",
            "[youtube] 7ODgYpdTKaY: Downloading webpage\n",
            "\u001b[0;31mERROR:\u001b[0m Unable to extract \u001b[0;34muploader id\u001b[0m; please report this issue on https://yt-dl.org/bug . Make sure you are using the latest version; see  https://yt-dl.org/update  on how to update. Be sure to call youtube-dl with the --verbose flag and include its complete output.\n"
          ]
        }
      ]
    }
  ]
}