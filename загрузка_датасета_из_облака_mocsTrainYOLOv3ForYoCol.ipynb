{
  "cells": [
    {
      "cell_type": "markdown",
      "metadata": {
        "id": "view-in-github",
        "colab_type": "text"
      },
      "source": [
        "<a href=\"https://colab.research.google.com/github/leksandre/-crab-for-web2ipr_book_shop/blob/main/%D0%B7%D0%B0%D0%B3%D1%80%D1%83%D0%B7%D0%BA%D0%B0_%D0%B4%D0%B0%D1%82%D0%B0%D1%81%D0%B5%D1%82%D0%B0_%D0%B8%D0%B7_%D0%BE%D0%B1%D0%BB%D0%B0%D0%BA%D0%B0_mocsTrainYOLOv3ForYoCol.ipynb\" target=\"_parent\"><img src=\"https://colab.research.google.com/assets/colab-badge.svg\" alt=\"Open In Colab\"/></a>"
      ]
    },
    {
      "cell_type": "code",
      "execution_count": null,
      "metadata": {
        "colab": {
          "base_uri": "https://localhost:8080/"
        },
        "id": "AVZgfeQjhHX5",
        "outputId": "3b4f8e23-8d9e-4a5c-a2c5-80cba9ec8f31"
      },
      "outputs": [
        {
          "output_type": "stream",
          "name": "stdout",
          "text": [
            "Mounted at /content/gdriveDisk\n"
          ]
        }
      ],
      "source": [
        "import locale\n",
        "locale.getpreferredencoding = lambda: \"UTF-8\"\n",
        "from google.colab import drive\n",
        "drive.mount('/content/gdriveDisk')"
      ]
    },
    {
      "cell_type": "code",
      "execution_count": null,
      "metadata": {
        "id": "i0Mbb9Nd1c-3"
      },
      "outputs": [],
      "source": [
        "def isEmpty(path):\n",
        "    if os.path.exists(path) and not os.path.isfile(path):\n",
        "\n",
        "        # Checking if the directory is empty or not\n",
        "        if not os.listdir(path):\n",
        "            return True\n",
        "        else:\n",
        "            return False\n",
        "    else:\n",
        "        print(\"The path is either for a file or not valid\")\n",
        "        return True\n",
        "    return True"
      ]
    },
    {
      "cell_type": "code",
      "execution_count": null,
      "metadata": {
        "id": "wu949sSHHC0c"
      },
      "outputs": [],
      "source": [
        "import os"
      ]
    },
    {
      "cell_type": "code",
      "execution_count": null,
      "metadata": {
        "colab": {
          "base_uri": "https://localhost:8080/"
        },
        "id": "RYxndAs_dYid",
        "outputId": "a69add4d-2251-489f-cd2d-14791daf623a"
      },
      "outputs": [
        {
          "output_type": "stream",
          "name": "stdout",
          "text": [
            "Cloning into 'YoCol'...\n",
            "remote: Enumerating objects: 1172, done.\u001b[K\n",
            "remote: Total 1172 (delta 0), reused 0 (delta 0), pack-reused 1172\u001b[K\n",
            "Receiving objects: 100% (1172/1172), 11.32 MiB | 15.12 MiB/s, done.\n",
            "Resolving deltas: 100% (281/281), done.\n"
          ]
        }
      ],
      "source": [
        "if not os.path.exists(\"/content/YoCol/\") or isEmpty(\"/content/YoCol/\"):\n",
        "  !git clone https://github.com/Oskop/YoCol"
      ]
    },
    {
      "cell_type": "code",
      "execution_count": null,
      "metadata": {
        "colab": {
          "base_uri": "https://localhost:8080/"
        },
        "id": "w3bQuj4vemVo",
        "outputId": "5df24250-0fbf-4e76-96bc-7f0f4e512828"
      },
      "outputs": [
        {
          "output_type": "stream",
          "name": "stdout",
          "text": [
            "Reading package lists... Done\n",
            "Building dependency tree... Done\n",
            "Reading state information... Done\n",
            "Package g++-5 is not available, but is referred to by another package.\n",
            "This may mean that the package is missing, has been obsoleted, or\n",
            "is only available from another source\n",
            "However the following packages replace it:\n",
            "  gcc-10-test-results gcc-9-test-results gcc-12-test-results gcc-11-test-results\n",
            "\n",
            "\u001b[1;31mE: \u001b[0mUnable to locate package gcc-5\u001b[0m\n",
            "\u001b[1;31mE: \u001b[0mPackage 'g++-5' has no installation candidate\u001b[0m\n"
          ]
        }
      ],
      "source": [
        "#Installing compilers\n",
        "!apt install gcc-5 g++-5 -y"
      ]
    },
    {
      "cell_type": "code",
      "execution_count": null,
      "metadata": {
        "id": "O3QDRKB0g9W3"
      },
      "outputs": [],
      "source": [
        "!ln -s /usr/bin/gcc-5 /usr/local/cuda/bin/gcc\n",
        "!ln -s /usr/bin/g++-5 /usr/local/cuda/bin/g++"
      ]
    },
    {
      "cell_type": "markdown",
      "metadata": {
        "id": "EfBYVeXGG4CI"
      },
      "source": []
    },
    {
      "cell_type": "code",
      "execution_count": null,
      "metadata": {
        "id": "msnPo5t-hEo1"
      },
      "outputs": [],
      "source": [
        "#Changing the variables to include OpenCV and GPU in the Makefile\n",
        "! cd /content/YoCol/darknet/\n",
        "# !sed -i 's/OPENCV=0/OPENCV=1/g' /content/YoCol/darknet/Makefile\n",
        "# !sed -i 's/OPENCV=1/OPENCV=0/g' /content/YoCol/darknet/Makefile\n",
        "!sed -i 's/GPU=0/GPU=4/g' /content/YoCol/darknet/Makefile\n",
        "# !sed -i 's/CUDNN=0/CUDNN=1/g' /content/YoCol/darknet/Makefile #if you want to use cudnn\n",
        "# !sed -i 's/CUDNN=1/CUDNN=0/g' /content/YoCol/darknet/Makefile #if you want to use cudnn"
      ]
    },
    {
      "cell_type": "code",
      "execution_count": null,
      "metadata": {
        "colab": {
          "base_uri": "https://localhost:8080/"
        },
        "id": "jd1BU4QfhMKe",
        "outputId": "588f7c12-6ac5-4a19-d84f-db6338dc88dd"
      },
      "outputs": [
        {
          "output_type": "stream",
          "name": "stdout",
          "text": [
            "Reading package lists... Done\n",
            "Building dependency tree... Done\n",
            "Reading state information... Done\n",
            "libopencv-dev is already the newest version (4.5.4+dfsg-9ubuntu4+jammy0).\n",
            "0 upgraded, 0 newly installed, 0 to remove and 45 not upgraded.\n"
          ]
        }
      ],
      "source": [
        "# Apparently we need to install this so that OpenCV can work without any issues\n",
        "# when we are making the file\n",
        "!apt-get install libopencv-dev"
      ]
    },
    {
      "cell_type": "code",
      "execution_count": null,
      "metadata": {
        "colab": {
          "base_uri": "https://localhost:8080/"
        },
        "id": "X3XDXy3NoWGO",
        "outputId": "b9aa907c-a960-459b-de5c-b190a336ff56"
      },
      "outputs": [
        {
          "output_type": "stream",
          "name": "stdout",
          "text": [
            "\n",
            "WARNING: apt does not have a stable CLI interface. Use with caution in scripts.\n",
            "\n",
            "libopencv-dev/jammy,now 4.5.4+dfsg-9ubuntu4+jammy0 amd64 [installed]\n"
          ]
        }
      ],
      "source": [
        "!apt list --installed | grep opencv-dev"
      ]
    },
    {
      "cell_type": "code",
      "execution_count": null,
      "metadata": {
        "id": "apgVLht-hKwA"
      },
      "outputs": [],
      "source": [
        "# !OPENCV_GENERATE_PKGCONFIG=ON"
      ]
    },
    {
      "cell_type": "code",
      "execution_count": null,
      "metadata": {
        "id": "Teq9IplJhTTy"
      },
      "outputs": [],
      "source": [
        "# pkg-config --modversion opencv4"
      ]
    },
    {
      "cell_type": "code",
      "execution_count": null,
      "metadata": {
        "id": "MFsR6jjFhM5o"
      },
      "outputs": [],
      "source": [
        "# pkg-config --cflags --libs opencv4"
      ]
    },
    {
      "cell_type": "code",
      "execution_count": null,
      "metadata": {
        "id": "1kjR_hPmg7FX"
      },
      "outputs": [],
      "source": [
        "# pkg-config --cflags opencv\n",
        "# pkg-config --libs opencv"
      ]
    },
    {
      "cell_type": "code",
      "execution_count": null,
      "metadata": {
        "id": "1qy6KWg24dK2"
      },
      "outputs": [],
      "source": [
        "# babakasd#break here"
      ]
    },
    {
      "cell_type": "code",
      "execution_count": null,
      "metadata": {
        "id": "qKiDc5IqqUC-"
      },
      "outputs": [],
      "source": [
        "# %cd /content/YoCol/darknet\n",
        "# !sh scripts/get_coco_dataset.sh"
      ]
    },
    {
      "cell_type": "code",
      "execution_count": null,
      "metadata": {
        "id": "J793KmInh2gP"
      },
      "outputs": [],
      "source": [
        "# %cd /content/YoCol/darknet/coco\n",
        "# !paste <(awk \"{pri!nt \\\"$PWD\\\"}\" <5k.part) 5k.part | tr -d '\\t' > 5k.txt\n",
        "# !paste <(awk \"{print \\\"$PWD\\\"}\" <trainvalno5k.part) trainvalno5k.part | tr -d '\\t' > trainvalno5k.txt\n",
        "# %cd /content"
      ]
    },
    {
      "cell_type": "code",
      "execution_count": null,
      "metadata": {
        "colab": {
          "base_uri": "https://localhost:8080/"
        },
        "id": "JkQbfoqKHISk",
        "outputId": "9e9a3afd-0c4a-4e3f-c08c-1dc319805992"
      },
      "outputs": [
        {
          "output_type": "stream",
          "name": "stdout",
          "text": [
            "Found existing installation: gdown 4.7.3\n",
            "Uninstalling gdown-4.7.3:\n",
            "  Successfully uninstalled gdown-4.7.3\n",
            "Collecting gdown\n",
            "  Downloading gdown-5.1.0-py3-none-any.whl (17 kB)\n",
            "Requirement already satisfied: beautifulsoup4 in /usr/local/lib/python3.10/dist-packages (from gdown) (4.12.3)\n",
            "Requirement already satisfied: filelock in /usr/local/lib/python3.10/dist-packages (from gdown) (3.13.3)\n",
            "Requirement already satisfied: requests[socks] in /usr/local/lib/python3.10/dist-packages (from gdown) (2.31.0)\n",
            "Requirement already satisfied: tqdm in /usr/local/lib/python3.10/dist-packages (from gdown) (4.66.2)\n",
            "Requirement already satisfied: soupsieve>1.2 in /usr/local/lib/python3.10/dist-packages (from beautifulsoup4->gdown) (2.5)\n",
            "Requirement already satisfied: charset-normalizer<4,>=2 in /usr/local/lib/python3.10/dist-packages (from requests[socks]->gdown) (3.3.2)\n",
            "Requirement already satisfied: idna<4,>=2.5 in /usr/local/lib/python3.10/dist-packages (from requests[socks]->gdown) (3.6)\n",
            "Requirement already satisfied: urllib3<3,>=1.21.1 in /usr/local/lib/python3.10/dist-packages (from requests[socks]->gdown) (2.0.7)\n",
            "Requirement already satisfied: certifi>=2017.4.17 in /usr/local/lib/python3.10/dist-packages (from requests[socks]->gdown) (2024.2.2)\n",
            "Requirement already satisfied: PySocks!=1.5.7,>=1.5.6 in /usr/local/lib/python3.10/dist-packages (from requests[socks]->gdown) (1.7.1)\n",
            "Installing collected packages: gdown\n",
            "Successfully installed gdown-5.1.0\n",
            "gdown 4.7.3 at /usr/local/lib/python3.10/dist-packages\n"
          ]
        }
      ],
      "source": [
        "!pip uninstall gdown -y && pip install gdown\n",
        "!gdown -V"
      ]
    },
    {
      "cell_type": "code",
      "execution_count": null,
      "metadata": {
        "colab": {
          "base_uri": "https://localhost:8080/"
        },
        "id": "d_lfNwnSphbm",
        "outputId": "bd17e56b-f180-418f-fe50-dabfa9e98961"
      },
      "outputs": [
        {
          "output_type": "stream",
          "name": "stdout",
          "text": [
            "/content\n",
            "/content\n",
            "drive  gdriveDisk  mocs_dataset  MyDrive  sample_data  YoCol\n"
          ]
        }
      ],
      "source": [
        "!mkdir drive\n",
        "!cd drive\n",
        "!mkdir MyDrive\n",
        "!cd MyDrive\n",
        "!mkdir mocs_dataset\n",
        "!cd mocs_dataset\n",
        "!pwd\n",
        "\n",
        "import os.path\n",
        "from os import path\n",
        "\n",
        "if path.exists('/content/drive/') == False:\n",
        "  os.mkdir('/content/drive/')\n",
        "if path.exists('/content/drive/MyDrive/') == False:\n",
        "  os.mkdir('/content/drive/MyDrive/')\n",
        "if path.exists('/content/drive/MyDrive/mocs_dataset') == False:\n",
        "  os.mkdir('/content/drive/MyDrive/mocs_dataset')\n",
        "\n",
        "# os.chdir('/content/drive/MyDrive/mocs_dataset')\n",
        "!pwd\n",
        "!ls"
      ]
    },
    {
      "cell_type": "code",
      "execution_count": null,
      "metadata": {
        "id": "pM1EbtoVpx6B"
      },
      "outputs": [],
      "source": [
        "# https://competitions.codalab.org/competitions/32605#participate-get-data\n",
        "# https://drive.google.com/file/d/1yYJOdXF9SbuvU_BcVsuLb-mrgmUL5Pmj/view?usp=sharing\n",
        "# https://drive.google.com/file/d/18Q7ugoRJZ8ntjM07pwqkDhWGxPvQAgBt/view?usp=sharing\n",
        "# https://drive.google.com/file/d/1Oh0rIq2YmCZHFSTWXOpedYSE06c8Sq9j/view?usp=sharing\n",
        "# https://drive.google.com/file/d/1Uj9-oZFIAk9Jy_JGMfNZlLbERplEXj-i/view?usp=sharing\n",
        "# https://drive.google.com/file/d/1kzlZLdH31nm6QsTOusuL2DJnQDQbTKDt/view?usp=sharing\n",
        "# https://drive.google.com/file/d/1Zeqr7C5p-hWNw5ta2fvD1bgLnXd-17fW/view?usp=sharing"
      ]
    },
    {
      "cell_type": "code",
      "execution_count": null,
      "metadata": {
        "id": "ruB8XdRH6LIA",
        "colab": {
          "base_uri": "https://localhost:8080/"
        },
        "outputId": "21894e94-755e-4a77-d066-301633238263"
      },
      "outputs": [
        {
          "output_type": "stream",
          "name": "stdout",
          "text": [
            "/content\n"
          ]
        }
      ],
      "source": [
        "import gdown\n",
        "%cd /content/"
      ]
    },
    {
      "cell_type": "code",
      "execution_count": null,
      "metadata": {
        "colab": {
          "base_uri": "https://localhost:8080/"
        },
        "id": "ZU_RRfCT6Ncg",
        "outputId": "4de06c4d-ad06-464f-b003-392888afed55"
      },
      "outputs": [
        {
          "output_type": "stream",
          "name": "stdout",
          "text": [
            "Downloading...\n",
            "From: https://drive.google.com/uc?id=1yYJOdXF9SbuvU_BcVsuLb-mrgmUL5Pmj\n",
            "To: /content/image_info_test.json\n",
            "\r  0% 0.00/1.32M [00:00<?, ?B/s]\r100% 1.32M/1.32M [00:00<00:00, 122MB/s]\n"
          ]
        }
      ],
      "source": [
        "if not os.path.isfile('/content/drive/MyDrive/mocs_dataset/image_info_test.json'):\n",
        "  !gdown 1yYJOdXF9SbuvU_BcVsuLb-mrgmUL5Pmj"
      ]
    },
    {
      "cell_type": "code",
      "execution_count": null,
      "metadata": {
        "id": "ZKt1XgJX6W7Z",
        "colab": {
          "base_uri": "https://localhost:8080/"
        },
        "outputId": "0edb579c-2731-4617-9b12-0ebfaf7b751e"
      },
      "outputs": [
        {
          "output_type": "stream",
          "name": "stdout",
          "text": [
            "file 1\n"
          ]
        }
      ],
      "source": [
        "if os.path.isfile('image_info_test.json'):\n",
        "  print('file 1')\n",
        "  !mv image_info_test.json /content/drive/MyDrive/mocs_dataset/\n",
        "else:\n",
        " if not os.path.isfile('/content/drive/MyDrive/mocs_dataset/image_info_test.json'):\n",
        "  print('file 2 disk!!')\n",
        "  !cp /content/gdriveDisk/MyDrive/mocs_dataset/image_info_test.json.zip /content/drive/MyDrive/mocs_dataset/\n",
        "  !unzip -o /content/drive/MyDrive/mocs_dataset/image_info_test.json.zip -d /content/drive/MyDrive/mocs_dataset/"
      ]
    },
    {
      "cell_type": "code",
      "execution_count": null,
      "metadata": {
        "colab": {
          "base_uri": "https://localhost:8080/"
        },
        "id": "hI2yL4_-6iLf",
        "outputId": "7b2df12d-c0f1-4081-8c2e-667cbebcca66"
      },
      "outputs": [
        {
          "output_type": "stream",
          "name": "stdout",
          "text": [
            "Downloading...\n",
            "From: https://drive.google.com/uc?id=18Q7ugoRJZ8ntjM07pwqkDhWGxPvQAgBt\n",
            "To: /content/instances_val.json\n",
            "100% 88.7M/88.7M [00:01<00:00, 69.9MB/s]\n"
          ]
        }
      ],
      "source": [
        "if not os.path.isfile('/content/drive/MyDrive/mocs_dataset/instances_val.json'):\n",
        "  !gdown 18Q7ugoRJZ8ntjM07pwqkDhWGxPvQAgBt"
      ]
    },
    {
      "cell_type": "code",
      "execution_count": null,
      "metadata": {
        "id": "saugn15O6h96",
        "colab": {
          "base_uri": "https://localhost:8080/"
        },
        "outputId": "b417614e-6ac4-4529-b52d-fd11651a93a9"
      },
      "outputs": [
        {
          "output_type": "stream",
          "name": "stdout",
          "text": [
            "file 1\n"
          ]
        }
      ],
      "source": [
        "if os.path.isfile('instances_val.json'):\n",
        "  print('file 1')\n",
        "  !mv instances_val.json /content/drive/MyDrive/mocs_dataset/\n",
        "else:\n",
        " if not os.path.isfile('/content/drive/MyDrive/mocs_dataset/instances_val.json'):\n",
        "  print('file 2 disk!!')\n",
        "  !cp /content/gdriveDisk/MyDrive/mocs_dataset/instances_val.json.zip /content/drive/MyDrive/mocs_dataset/\n",
        "  !unzip -o  /content/drive/MyDrive/mocs_dataset/instances_val.json.zip -d /content/drive/MyDrive/mocs_dataset/"
      ]
    },
    {
      "cell_type": "code",
      "execution_count": null,
      "metadata": {
        "colab": {
          "base_uri": "https://localhost:8080/"
        },
        "id": "Z6Ke2S416hrF",
        "outputId": "c7050794-bab1-4631-c621-f74fd5075390"
      },
      "outputs": [
        {
          "output_type": "stream",
          "name": "stdout",
          "text": [
            "Failed to retrieve file url:\n",
            "\n",
            "\tToo many users have viewed or downloaded this file recently. Please\n",
            "\ttry accessing the file again later. If the file you are trying to\n",
            "\taccess is particularly large or is shared with many people, it may\n",
            "\ttake up to 24 hours to be able to view or download the file. If you\n",
            "\tstill can't access a file after 24 hours, contact your domain\n",
            "\tadministrator.\n",
            "\n",
            "You may still be able to access the file from the browser:\n",
            "\n",
            "\thttps://drive.google.com/uc?id=1Oh0rIq2YmCZHFSTWXOpedYSE06c8Sq9j\n",
            "\n",
            "but Gdown can't. Please check connections and permissions.\n"
          ]
        }
      ],
      "source": [
        "if not os.path.isfile('/content/drive/MyDrive/mocs_dataset/instances_train.json'):\n",
        "  !gdown 1Oh0rIq2YmCZHFSTWXOpedYSE06c8Sq9j"
      ]
    },
    {
      "cell_type": "code",
      "execution_count": null,
      "metadata": {
        "id": "cShtQYNw6hdL",
        "colab": {
          "base_uri": "https://localhost:8080/"
        },
        "outputId": "c9ab9ee1-af9c-45fc-f218-1feef1032255"
      },
      "outputs": [
        {
          "output_type": "stream",
          "name": "stdout",
          "text": [
            "file 2 disk!!\n",
            "Archive:  /content/drive/MyDrive/mocs_dataset/instances_train.json.zip\n",
            "  inflating: /content/drive/MyDrive/mocs_dataset/instances_train.json  \n",
            "  inflating: /content/drive/MyDrive/mocs_dataset/__MACOSX/._instances_train.json  \n"
          ]
        }
      ],
      "source": [
        "if os.path.isfile('instances_train.json'):\n",
        "  print('file 1')\n",
        "  !mv instances_train.json /content/drive/MyDrive/mocs_dataset/\n",
        "else:\n",
        " if not os.path.isfile('/content/drive/MyDrive/mocs_dataset/instances_train.json'):\n",
        "  print('file 2 disk!!')\n",
        "  !cp /content/gdriveDisk/MyDrive/mocs_dataset/instances_train.json.zip /content/drive/MyDrive/mocs_dataset/\n",
        "  !unzip -o /content/drive/MyDrive/mocs_dataset/instances_train.json.zip -d /content/drive/MyDrive/mocs_dataset/"
      ]
    },
    {
      "cell_type": "code",
      "execution_count": null,
      "metadata": {
        "colab": {
          "base_uri": "https://localhost:8080/"
        },
        "id": "Y36GcwLd6hCb",
        "outputId": "d70825eb-8b7a-42a4-d7e3-46816fcb2bc4"
      },
      "outputs": [
        {
          "output_type": "stream",
          "name": "stdout",
          "text": [
            "Failed to retrieve file url:\n",
            "\n",
            "\tToo many users have viewed or downloaded this file recently. Please\n",
            "\ttry accessing the file again later. If the file you are trying to\n",
            "\taccess is particularly large or is shared with many people, it may\n",
            "\ttake up to 24 hours to be able to view or download the file. If you\n",
            "\tstill can't access a file after 24 hours, contact your domain\n",
            "\tadministrator.\n",
            "\n",
            "You may still be able to access the file from the browser:\n",
            "\n",
            "\thttps://drive.google.com/uc?id=1Uj9-oZFIAk9Jy_JGMfNZlLbERplEXj-i\n",
            "\n",
            "but Gdown can't. Please check connections and permissions.\n"
          ]
        }
      ],
      "source": [
        "if not os.path.isfile('/content/drive/MyDrive/mocs_dataset/instances_test.rar'):\n",
        "  !gdown 1Uj9-oZFIAk9Jy_JGMfNZlLbERplEXj-i"
      ]
    },
    {
      "cell_type": "code",
      "execution_count": null,
      "metadata": {
        "id": "OhjbVDrA6g1j",
        "colab": {
          "base_uri": "https://localhost:8080/"
        },
        "outputId": "c63c4a49-2f9e-4d6e-c131-f485db5d3935"
      },
      "outputs": [
        {
          "output_type": "stream",
          "name": "stdout",
          "text": [
            "file 2 disk!!\n"
          ]
        }
      ],
      "source": [
        "if os.path.isfile('instances_test.rar'):\n",
        "  print('file 1')\n",
        "  !mv instances_test.rar /content/drive/MyDrive/mocs_dataset/\n",
        "else:\n",
        " if not os.path.isfile('/content/drive/MyDrive/mocs_dataset/instances_test.rar'):\n",
        "  print('file 2 disk!!')"
      ]
    },
    {
      "cell_type": "code",
      "execution_count": null,
      "metadata": {
        "colab": {
          "base_uri": "https://localhost:8080/"
        },
        "id": "h0SqCET16gJy",
        "outputId": "054561d1-1096-46ae-d15a-39b55d2645bb"
      },
      "outputs": [
        {
          "output_type": "stream",
          "name": "stdout",
          "text": [
            "Failed to retrieve file url:\n",
            "\n",
            "\tToo many users have viewed or downloaded this file recently. Please\n",
            "\ttry accessing the file again later. If the file you are trying to\n",
            "\taccess is particularly large or is shared with many people, it may\n",
            "\ttake up to 24 hours to be able to view or download the file. If you\n",
            "\tstill can't access a file after 24 hours, contact your domain\n",
            "\tadministrator.\n",
            "\n",
            "You may still be able to access the file from the browser:\n",
            "\n",
            "\thttps://drive.google.com/uc?id=1kzlZLdH31nm6QsTOusuL2DJnQDQbTKDt\n",
            "\n",
            "but Gdown can't. Please check connections and permissions.\n"
          ]
        }
      ],
      "source": [
        "if not os.path.isfile('/content/drive/MyDrive/mocs_dataset/instances_train.rar'):\n",
        "  !gdown 1kzlZLdH31nm6QsTOusuL2DJnQDQbTKDt"
      ]
    },
    {
      "cell_type": "code",
      "execution_count": null,
      "metadata": {
        "id": "7mzsaOgm6f66",
        "colab": {
          "base_uri": "https://localhost:8080/"
        },
        "outputId": "b987fcec-3117-4ec7-f580-7183887b42f1"
      },
      "outputs": [
        {
          "output_type": "stream",
          "name": "stdout",
          "text": [
            "file 2 disk!!\n"
          ]
        }
      ],
      "source": [
        "if os.path.isfile('/content/drive/MyDrive/mocs_dataset/instances_train.rar'):\n",
        "  print('file 1')\n",
        "  !mv instances_train.rar /content/drive/MyDrive/mocs_dataset/\n",
        "else:\n",
        " if not os.path.isfile('/content/drive/MyDrive/mocs_dataset/instances_train.rar'):\n",
        "  print('file 2 disk!!')\n",
        "  !cp /content/gdriveDisk/MyDrive/mocs_dataset/instances_train.rar /content/drive/MyDrive/mocs_dataset/"
      ]
    },
    {
      "cell_type": "code",
      "execution_count": null,
      "metadata": {
        "id": "_oCYJL6P6ffg",
        "colab": {
          "base_uri": "https://localhost:8080/"
        },
        "outputId": "f3966d66-6ea0-4d3e-9069-1a8312c4db27"
      },
      "outputs": [
        {
          "output_type": "stream",
          "name": "stdout",
          "text": [
            "Failed to retrieve file url:\n",
            "\n",
            "\tToo many users have viewed or downloaded this file recently. Please\n",
            "\ttry accessing the file again later. If the file you are trying to\n",
            "\taccess is particularly large or is shared with many people, it may\n",
            "\ttake up to 24 hours to be able to view or download the file. If you\n",
            "\tstill can't access a file after 24 hours, contact your domain\n",
            "\tadministrator.\n",
            "\n",
            "You may still be able to access the file from the browser:\n",
            "\n",
            "\thttps://drive.google.com/uc?id=1Zeqr7C5p-hWNw5ta2fvD1bgLnXd-17fW\n",
            "\n",
            "but Gdown can't. Please check connections and permissions.\n"
          ]
        }
      ],
      "source": [
        "if not os.path.isfile('/content/drive/MyDrive/mocs_dataset/instances_val.rar'):\n",
        "  !gdown 1Zeqr7C5p-hWNw5ta2fvD1bgLnXd-17fW"
      ]
    },
    {
      "cell_type": "code",
      "execution_count": null,
      "metadata": {
        "colab": {
          "base_uri": "https://localhost:8080/"
        },
        "id": "LglK07g66dmX",
        "outputId": "01364c7a-b510-4f0b-a35c-4c9a152522d4"
      },
      "outputs": [
        {
          "output_type": "stream",
          "name": "stdout",
          "text": [
            "file 2 disk!!\n"
          ]
        }
      ],
      "source": [
        "if os.path.isfile('instances_val.rar'):\n",
        "  print('file 1')\n",
        "  !mv instances_val.rar /content/drive/MyDrive/mocs_dataset/\n",
        "else:\n",
        " if not os.path.isfile('/content/drive/MyDrive/mocs_dataset/instances_val.rar'):\n",
        "  print('file 2 disk!!')\n",
        "  !cp /content/gdriveDisk/MyDrive/mocs_dataset/instances_val.rar /content/drive/MyDrive/mocs_dataset/"
      ]
    },
    {
      "cell_type": "code",
      "execution_count": null,
      "metadata": {
        "id": "iws4ae2lpPzU"
      },
      "outputs": [],
      "source": [
        "# import gdown\n",
        "# url = 'https://drive.google.com/file/d/1yYJOdXF9SbuvU_BcVsuLb-mrgmUL5Pmj'\n",
        "# output = '/content/drive/MyDrive/mocs_dataset/image_info_test.json'\n",
        "# gdown.download(url, output, quiet=False)"
      ]
    },
    {
      "cell_type": "code",
      "execution_count": null,
      "metadata": {
        "id": "SJyGBp6Qqpss"
      },
      "outputs": [],
      "source": [
        "# import gdown\n",
        "# url = 'https://drive.google.com/file/d/18Q7ugoRJZ8ntjM07pwqkDhWGxPvQAgBt'\n",
        "# output = '/content/drive/MyDrive/mocs_dataset/instances_val.json'\n",
        "# gdown.download(url, output, quiet=False)"
      ]
    },
    {
      "cell_type": "code",
      "execution_count": null,
      "metadata": {
        "id": "xW-u2ntTq0xM"
      },
      "outputs": [],
      "source": [
        "# import gdown\n",
        "# url = 'https://drive.google.com/file/d/1Oh0rIq2YmCZHFSTWXOpedYSE06c8Sq9j'\n",
        "# output = '/content/drive/MyDrive/mocs_dataset/instances_train.json'\n",
        "# gdown.download(url, output, quiet=False)"
      ]
    },
    {
      "cell_type": "code",
      "execution_count": null,
      "metadata": {
        "id": "mBbiVfUiq_Tc"
      },
      "outputs": [],
      "source": [
        "# import gdown\n",
        "# url = 'https://drive.google.com/file/d/1Uj9-oZFIAk9Jy_JGMfNZlLbERplEXj-i'\n",
        "# output = '/content/drive/MyDrive/mocs_dataset/instances_test.rar'\n",
        "# gdown.download(url, output, quiet=False)"
      ]
    },
    {
      "cell_type": "code",
      "execution_count": null,
      "metadata": {
        "id": "ijFAsHsnq-_N"
      },
      "outputs": [],
      "source": [
        "# import gdown\n",
        "# url = 'https://drive.google.com/file/d/1kzlZLdH31nm6QsTOusuL2DJnQDQbTKDt'\n",
        "# output = '/content/drive/MyDrive/mocs_dataset/instances_train.rar'\n",
        "# gdown.download(url, output, quiet=False)"
      ]
    },
    {
      "cell_type": "code",
      "execution_count": null,
      "metadata": {
        "id": "46g-yUTcq-mA"
      },
      "outputs": [],
      "source": [
        "# import gdown\n",
        "# url = 'https://drive.google.com/file/d/1Zeqr7C5p-hWNw5ta2fvD1bgLnXd-17fW'\n",
        "# output = '/content/drive/MyDrive/mocs_dataset/instances_val.rar'\n",
        "# gdown.download(url, output, quiet=False)"
      ]
    },
    {
      "cell_type": "code",
      "execution_count": null,
      "metadata": {
        "id": "ZRpSutLbyTJn"
      },
      "outputs": [],
      "source": [
        "if os.path.isdir('/content/drive/MyDrive/mocs_dataset/instances_test/'):\n",
        "  if not isEmpty(\"/content/drive/MyDrive/mocs_dataset/instances_test/\"):\n",
        "    ! rm -rf /content/drive/MyDrive/mocs_dataset/instances_test/*\n",
        "if os.path.isdir('/content/drive/MyDrive/mocs_dataset/instances_train/'):\n",
        "  if not isEmpty(\"/content/drive/MyDrive/mocs_dataset/instances_train/\"):\n",
        "    ! rm -rf /content/drive/MyDrive/mocs_dataset/instances_train/*\n",
        "if os.path.isdir('/content/drive/MyDrive/mocs_dataset/instances_val/'):\n",
        "  if not isEmpty(\"/content/drive/MyDrive/mocs_dataset/instances_val/\"):\n",
        "    ! rm -rf /content/drive/MyDrive/mocs_dataset/instances_val/*"
      ]
    },
    {
      "cell_type": "code",
      "execution_count": null,
      "metadata": {
        "colab": {
          "base_uri": "https://localhost:8080/"
        },
        "id": "isoAIh-QbU-M",
        "outputId": "6c82c56a-fbf5-4524-dc0d-d1242a689766"
      },
      "outputs": [
        {
          "output_type": "stream",
          "name": "stdout",
          "text": [
            "\u001b[0m\u001b[01;34mdrive\u001b[0m/  \u001b[01;34mgdriveDisk\u001b[0m/  \u001b[01;34mmocs_dataset\u001b[0m/  \u001b[01;34mMyDrive\u001b[0m/  \u001b[01;34msample_data\u001b[0m/  \u001b[01;34mYoCol\u001b[0m/\n"
          ]
        }
      ],
      "source": [
        "%ls ./"
      ]
    },
    {
      "cell_type": "code",
      "execution_count": null,
      "metadata": {
        "colab": {
          "base_uri": "https://localhost:8080/"
        },
        "id": "Ao6Ajv2kb0Un",
        "outputId": "1e97e804-bb07-4681-a920-006866c94f82"
      },
      "outputs": [
        {
          "output_type": "stream",
          "name": "stdout",
          "text": [
            "/content\n"
          ]
        }
      ],
      "source": [
        "!pwd"
      ]
    },
    {
      "cell_type": "code",
      "execution_count": null,
      "metadata": {
        "id": "9mUdd_1RyoWa"
      },
      "outputs": [],
      "source": [
        "# TRAIN_IMAGE_PATH = '/content/drive/MyDrive/mocs_dataset/instances_train/'\n",
        "# TEST_IMAGE_PATH = '/content/drive/MyDrive/mocs_dataset/instances_train/'\n",
        "# TEST_IMAGE_PATH = '/content/drive/MyDrive/mocs_dataset/instances_val/'\n",
        "TRAIN_IMAGE_PATH = '/content/instances_train/'\n",
        "TEST_IMAGE_PATH = '/content/instances_train/'\n",
        "VAL_IMAGE_PATH = '/content/instances_val/'"
      ]
    },
    {
      "cell_type": "code",
      "execution_count": null,
      "metadata": {
        "id": "wbOkp5BZYalU"
      },
      "outputs": [],
      "source": [
        "if not os.path.exists(\"/content/instances_test/\") or isEmpty(\"/content/instances_test/\"):\n",
        "  if os.path.isfile('/content/drive/MyDrive/mocs_dataset/instances_test.rar'):\n",
        "    !unrar x -Y \"/content/drive/MyDrive/mocs_dataset/instances_test.rar\" \"/content/\" > /dev/null"
      ]
    },
    {
      "cell_type": "code",
      "execution_count": null,
      "metadata": {
        "id": "xx-a3sixYcAg"
      },
      "outputs": [],
      "source": [
        "if not os.path.exists(\"/content/instances_train/\") or isEmpty(\"/content/instances_train/\"):\n",
        "  if os.path.isfile('/content/drive/MyDrive/mocs_dataset/instances_train.rar'):\n",
        "    !unrar x -Y \"/content/drive/MyDrive/mocs_dataset/instances_train.rar\" \"/content/\" > /dev/null"
      ]
    },
    {
      "cell_type": "code",
      "execution_count": null,
      "metadata": {
        "id": "oljmMGde5nNI"
      },
      "outputs": [],
      "source": [
        "if not os.path.exists(\"/content/instances_val/\") or isEmpty(\"/content/instances_val/\"):\n",
        "  if os.path.isfile('/content/drive/MyDrive/mocs_dataset/instances_val.rar'):\n",
        "    !unrar x -Y \"/content/drive/MyDrive/mocs_dataset/instances_val.rar\" \"/content/\" > /dev/null"
      ]
    },
    {
      "cell_type": "code",
      "execution_count": null,
      "metadata": {
        "id": "LFP18hSxM7RI",
        "colab": {
          "base_uri": "https://localhost:8080/"
        },
        "outputId": "71fa8f99-fec8-43ae-8769-4bd8d69f2bed"
      },
      "outputs": [
        {
          "output_type": "stream",
          "name": "stdout",
          "text": [
            "Archive:  /content/drive/MyDrive/mocs_dataset/instances_train.json.zip\n",
            "  inflating: /content/instances_train.json  \n",
            "  inflating: /content/__MACOSX/._instances_train.json  \n"
          ]
        }
      ],
      "source": [
        "if os.path.isfile('/content/drive/MyDrive/mocs_dataset/instances_train.json.zip'):\n",
        "  !unzip -o /content/drive/MyDrive/mocs_dataset/instances_train.json.zip -d /content/\n",
        "\n",
        "if os.path.isfile('/content/drive/MyDrive/mocs_dataset/image_info_test.json.zip'):\n",
        "  !unzip -o /content/drive/MyDrive/mocs_dataset/image_info_test.json.zip -d /content/\n",
        "\n",
        "if os.path.isfile('/content/drive/MyDrive/mocs_dataset/instances_val.json.zip'):\n",
        "  !unzip -o /content/drive/MyDrive/mocs_dataset/instances_val.json.zip -d /content/"
      ]
    },
    {
      "cell_type": "code",
      "execution_count": null,
      "metadata": {
        "id": "rREnElU5kqGk"
      },
      "outputs": [],
      "source": [
        "import json\n",
        "cars_make_model_label = open('/content/drive/MyDrive/mocs_dataset/image_info_test.json', 'r')\n",
        "image_info_test = json.load(cars_make_model_label)"
      ]
    },
    {
      "cell_type": "code",
      "execution_count": null,
      "metadata": {
        "colab": {
          "base_uri": "https://localhost:8080/"
        },
        "id": "9bxBfw71yT4l",
        "outputId": "e8054af2-3b95-49dc-a94e-32d84853ea45"
      },
      "outputs": [
        {
          "output_type": "stream",
          "name": "stdout",
          "text": [
            "[{'supercategory': 'Construction', 'id': 1, 'name': 'Worker'}, {'supercategory': 'Construction', 'id': 2, 'name': 'Static crane'}, {'supercategory': 'Construction', 'id': 3, 'name': 'Hanging head'}, {'supercategory': 'Construction', 'id': 4, 'name': 'Crane'}, {'supercategory': 'Construction', 'id': 5, 'name': 'Roller'}, {'supercategory': 'Construction', 'id': 6, 'name': 'Bulldozer'}, {'supercategory': 'Construction', 'id': 7, 'name': 'Excavator'}, {'supercategory': 'Construction', 'id': 8, 'name': 'Truck'}, {'supercategory': 'Construction', 'id': 9, 'name': 'Loader'}, {'supercategory': 'Construction', 'id': 10, 'name': 'Pump truck'}, {'supercategory': 'Construction', 'id': 11, 'name': 'Concrete mixer'}, {'supercategory': 'Construction', 'id': 12, 'name': 'Pile driving'}, {'supercategory': 'Construction', 'id': 13, 'name': 'Other vehicle'}]\n"
          ]
        }
      ],
      "source": [
        "print(image_info_test['categories'])\n",
        "all_label = {}\n",
        "all_names = []\n",
        "all_images = {}"
      ]
    },
    {
      "cell_type": "code",
      "execution_count": null,
      "metadata": {
        "colab": {
          "base_uri": "https://localhost:8080/"
        },
        "id": "yiKWCM45TXar",
        "outputId": "e2bca98d-01d1-4a48-f55c-7de38bcc67a2"
      },
      "outputs": [
        {
          "output_type": "stream",
          "name": "stdout",
          "text": [
            "Worker\n",
            "Static crane\n",
            "Hanging head\n",
            "Crane\n",
            "Roller\n",
            "Bulldozer\n",
            "Excavator\n",
            "Truck\n",
            "Loader\n",
            "Pump truck\n",
            "Concrete mixer\n",
            "Pile driving\n",
            "Other vehicle\n",
            "{'Worker': [], 'Static crane': [], 'Hanging head': [], 'Crane': [], 'Roller': [], 'Bulldozer': [], 'Excavator': [], 'Truck': [], 'Loader': [], 'Pump truck': [], 'Concrete mixer': [], 'Pile driving': [], 'Other vehicle': []}\n"
          ]
        }
      ],
      "source": [
        "#process image_info_test.json categories\n",
        "# Initialize dictionary that will contain all label from both labels data\n",
        "for categories in image_info_test['categories']:\n",
        "  print(categories['name'])\n",
        "  all_names.append(categories['name'])\n",
        "  all_label[categories['name']] = []\n",
        "print(all_label)"
      ]
    },
    {
      "cell_type": "code",
      "execution_count": null,
      "metadata": {
        "colab": {
          "base_uri": "https://localhost:8080/"
        },
        "id": "1VI9Wq9k7VVP",
        "outputId": "4bb48b77-a064-4f3b-a142-4c7232dd2ef3"
      },
      "outputs": [
        {
          "output_type": "stream",
          "name": "stdout",
          "text": [
            "18264\n"
          ]
        }
      ],
      "source": [
        "for images in image_info_test['images']:\n",
        "  all_images[images['file_name']] = images\n",
        "print(len(all_images))"
      ]
    },
    {
      "cell_type": "code",
      "execution_count": null,
      "metadata": {
        "colab": {
          "base_uri": "https://localhost:8080/"
        },
        "id": "nONS14jUy4Me",
        "outputId": "b39a8a08-213b-4b5d-85f1-ae4be29023de"
      },
      "outputs": [
        {
          "output_type": "stream",
          "name": "stdout",
          "text": [
            "/content\n"
          ]
        }
      ],
      "source": [
        "%cd /content\n",
        "import scipy.io as scio\n",
        "\n",
        "import cv2\n",
        "# matlab_train_label = scio.loadmat('devkit/cars_train_annos.mat')\n",
        "# matlab_test_label = scio.loadmat('devkit/cars_test_annos_withlabels.mat')\n",
        "YOLO_CLASS = 13"
      ]
    },
    {
      "cell_type": "code",
      "execution_count": null,
      "metadata": {
        "id": "1-VBmD_-VmBO"
      },
      "outputs": [],
      "source": [
        "# Changing test label file name from \"file_names_test\" list to adjust\n",
        "# the key format from data.json\n",
        "# for name in file_names_test:\n",
        "#   for file_name in name:\n",
        "#     if (int(file_name.split('.')[0])+8144) < 10000:\n",
        "#       new_name = '0' + str(int(file_name.split('.')[0]) + 8144) + '.jpg'\n",
        "#       name[0] = new_name\n",
        "#       os.rename(TEST_IMAGE_PATH + file_name, TEST_IMAGE_PATH + new_name)\n",
        "#     else:\n",
        "#       new_name = str(int(file_name.split('.')[0]) + 8144) + '.jpg'\n",
        "#       name[0] = new_name\n",
        "#       os.rename(TEST_IMAGE_PATH + file_name, TEST_IMAGE_PATH + new_name)"
      ]
    },
    {
      "cell_type": "code",
      "execution_count": null,
      "metadata": {
        "id": "Mu7vIbOB7JJX"
      },
      "outputs": [],
      "source": [
        "cars_make_model_label = open('/content/drive/MyDrive/mocs_dataset/instances_train.json', 'r')\n",
        "train_label = json.load(cars_make_model_label)"
      ]
    },
    {
      "cell_type": "code",
      "execution_count": null,
      "metadata": {
        "id": "NLRFdu-DV9CN"
      },
      "outputs": [],
      "source": [
        "cars_make_model_label = open('/content/drive/MyDrive/mocs_dataset/instances_val.json', 'r')\n",
        "val_label = json.load(cars_make_model_label)"
      ]
    },
    {
      "cell_type": "code",
      "execution_count": null,
      "metadata": {
        "id": "p1kZiJZq8UL0"
      },
      "outputs": [],
      "source": [
        "cars_make_model_label = open('/content/drive/MyDrive/mocs_dataset/image_info_test.json', 'r')\n",
        "test_label = json.load(cars_make_model_label)"
      ]
    },
    {
      "cell_type": "code",
      "source": [
        "def OldProcStupidMocsYoloStruk(struck):\n",
        "  all_images = {}\n",
        "  annotations = struck['annotations']\n",
        "  images = struck['images']\n",
        "  categories = struck['categories']\n",
        "  for image in images:\n",
        "    file_name = image['file_name']\n",
        "    file_id = image['id']\n",
        "    all_images[file_name] = []\n",
        "    fileNameWithPath = TRAIN_IMAGE_PATH + file_name\n",
        "    check_file = os.path.isfile(fileNameWithPath)\n",
        "\n",
        "    if not check_file:\n",
        "      fileNameWithPath = TEST_IMAGE_PATH + file_name\n",
        "      check_file = os.path.isfile(fileNameWithPath)\n",
        "\n",
        "    if not check_file:\n",
        "      fileNameWithPath = VAL_IMAGE_PATH + file_name\n",
        "      check_file = os.path.isfile(fileNameWithPath)\n",
        "\n",
        "    if not check_file:\n",
        "      print('file not exist ',file_name)\n",
        "      continue\n",
        "\n",
        "    fileLabelPath = fileNameWithPath[:-4] + '.txt'\n",
        "    check_file = os.path.isfile(fileLabelPath)\n",
        "    if not check_file:\n",
        "      label_file = open(fileLabelPath, 'w')\n",
        "      label_file.close()\n",
        "    else:\n",
        "      pass\n",
        "      # print('annotations already exist ',file_name) #fileLabelPath\n",
        "      # continue\n",
        "\n",
        "    # time.sleep(1)\n",
        "    image = cv2.imread(fileNameWithPath)\n",
        "    height = image.shape[0]\n",
        "    width = image.shape[1]\n",
        "    filtered_list = list(filter(lambda x: x[\"image_id\"] == file_id, annotations))\n",
        "    for annotation in filtered_list:\n",
        "      if 1:\n",
        "      # if image.shape[1] >= 300:\n",
        "          filtered_cats = list(filter(lambda x: x[\"id\"] == annotation['category_id'], categories))\n",
        "          filtered_cat = filtered_cats[0]\n",
        "          obj_class = str(filtered_cat['name'])\n",
        "\n",
        "          #blabla...\n",
        "\n",
        "  return all_images"
      ],
      "metadata": {
        "id": "SAgjQqKeHjY5"
      },
      "execution_count": null,
      "outputs": []
    },
    {
      "cell_type": "code",
      "execution_count": 187,
      "metadata": {
        "id": "pSqxjjM3KQxf"
      },
      "outputs": [],
      "source": [
        "import cv2\n",
        "import os.path\n",
        "import time\n",
        "import threading\n",
        "from threading import *\n",
        "import time\n",
        "import random"
      ]
    },
    {
      "cell_type": "markdown",
      "source": [
        "![119711502-79fa4400-be14-11eb-9f08-2414b9ad223a.png](data:image/png;base64,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)"
      ],
      "metadata": {
        "id": "4P7RvOZmyKjf"
      }
    },
    {
      "cell_type": "markdown",
      "source": [
        "\"image_id\": 1,\n",
        "\n",
        "   \"bbox\": [\n",
        "                907.0,\n",
        "                245.0,\n",
        "                42.0,\n",
        "                92.0\n",
        "            ],\n",
        "\n",
        "   \"bbox\": [\n",
        "                901.0,\n",
        "                270.0,\n",
        "                51.0,\n",
        "                84.0\n",
        "            ],\n",
        "\n",
        "   \"bbox\": [\n",
        "                244.0,\n",
        "                16.0,\n",
        "                657.0,\n",
        "                496.0\n",
        "            ],\n",
        "формат сосо, координаты отсчитываются от верхнего левого угла\n",
        "Coco - [x,\n",
        "\ty,\n",
        "\twidth,\n",
        "\theight]\n"
      ],
      "metadata": {
        "id": "e3ndrLEhyXuX"
      }
    },
    {
      "cell_type": "code",
      "source": [
        "def thread_1(fileNameWithPath,fileLabelPath,file_id,file_name,annotations,categories,all_images):\n",
        "    # if os.path.isfile(fileLabelPath):\n",
        "    #   return False\n",
        "    # time.sleep(1)s\n",
        "    filtered_list = list(filter(lambda x: x[\"image_id\"] == file_id, annotations))\n",
        "    image = cv2.imread(fileNameWithPath)\n",
        "    img_height = image.shape[0]\n",
        "    img_width = image.shape[1]\n",
        "    # print(filtered_list)\n",
        "    # print('step1')\n",
        "    # print('height',img_height)\n",
        "    # print('width',img_width)\n",
        "    label_file = open(fileLabelPath, 'a')\n",
        "    for annotation in filtered_list:\n",
        "      if 1:\n",
        "          # print('step2')\n",
        "      # if image.shape[1] >= 300:\n",
        "          filtered_cats = list(filter(lambda x: x[\"id\"] == annotation['category_id'], categories))\n",
        "          # print('step3')\n",
        "          filtered_cat = filtered_cats[0]\n",
        "          # print('step4')\n",
        "          obj_class = str(filtered_cat['name'])\n",
        "          # print('step5')\n",
        "          x1 = float(annotation['bbox'][0])#x\n",
        "          # print('step6')\n",
        "          y1 = float(annotation['bbox'][1])#y\n",
        "          # print('step7')\n",
        "          box_width = float(annotation['bbox'][2])#width\n",
        "          # print('step8')\n",
        "          box_height = float(annotation['bbox'][3])#height\n",
        "          # print('step9')\n",
        "\n",
        "    # if bbox[0] < 0:\n",
        "    #   left = 0\n",
        "    # else:\n",
        "    #   left = bbox[0]\n",
        "    # if bbox[1] < 0:\n",
        "    #   top = 0\n",
        "    # else:\n",
        "    #   top = bbox[1]\n",
        "    # if bbox[2] < 0:\n",
        "    #   right = 1\n",
        "    # else:\n",
        "    #   right = bbox[2]\n",
        "    # if bbox[3] < 0:\n",
        "    #   bottom = 1\n",
        "    # else:\n",
        "    #   bottom = bbox[3]\n",
        "    # надо указывать все классы\n",
        "\n",
        "          x_center_coco = x1 + float(box_width/2)\n",
        "          y_center_coco = y1 + float(box_height/2)\n",
        "          x_center = str(round(x_center_coco / img_width,4))\n",
        "          y_center = str(round(y_center_coco / img_height,4))\n",
        "          obj_width = str(round(box_width / img_width,4))\n",
        "          obj_height = str(round(box_height / img_height,4))\n",
        "          content1 = obj_class + ' ' + x_center + ' ' + y_center + ' ' + obj_width + ' ' + obj_height\n",
        "          # all_images[file_name].append(content1)\n",
        "          label_file.write(content1 + '\\n')\n",
        "    label_file.close()\n",
        "    # print(fileLabelPath)"
      ],
      "metadata": {
        "id": "cAOmmF_Su9M2"
      },
      "execution_count": 188,
      "outputs": []
    },
    {
      "cell_type": "code",
      "execution_count": 189,
      "metadata": {
        "id": "BnUrBuUI-Xcv"
      },
      "outputs": [],
      "source": [
        "def procStupidMocsYoloStruk(struck):\n",
        "  all_images = {}\n",
        "  annotations = struck['annotations']\n",
        "  images = struck['images']\n",
        "  categories = struck['categories']\n",
        "  for image in images:\n",
        "    file_name = image['file_name']\n",
        "    # if file_name != '0000001.jpg':\n",
        "    #   continue\n",
        "    # print(file_name)\n",
        "    file_id = image['id']\n",
        "    all_images[file_name] = []\n",
        "    fileNameWithPath = TRAIN_IMAGE_PATH + file_name\n",
        "    check_file = os.path.isfile(fileNameWithPath)\n",
        "\n",
        "    if not check_file:\n",
        "      fileNameWithPath = TEST_IMAGE_PATH + file_name\n",
        "      check_file = os.path.isfile(fileNameWithPath)\n",
        "\n",
        "    if not check_file:\n",
        "      fileNameWithPath = VAL_IMAGE_PATH + file_name\n",
        "      check_file = os.path.isfile(fileNameWithPath)\n",
        "\n",
        "    if not check_file:\n",
        "      print('file not exist ',file_name)\n",
        "      continue\n",
        "\n",
        "    fileLabelPath = fileNameWithPath[:-4] + '.txt'\n",
        "    check_file = os.path.isfile(fileLabelPath)\n",
        "\n",
        "    label_file = open(fileLabelPath, 'w')\n",
        "    label_file.close()\n",
        "\n",
        "    # if not check_file:\n",
        "    #   label_file = open(fileLabelPath, 'w')\n",
        "    #   label_file.close()\n",
        "    # else:\n",
        "    #   pass\n",
        "    #   # print('annotations already exist ',file_name) #fileLabelPath\n",
        "    #   # continue\n",
        "\n",
        "\n",
        "\n",
        "    while threading.active_count()>maxactivethreads:  # countAll > 19 or and # countAll = 0\n",
        "        if random.randint(1,10)==9:\n",
        "         print('threading.active_count() process ',threading.active_count())\n",
        "        time.sleep(2)\n",
        "\n",
        "\n",
        "    if random.randint(1,300)==9:\n",
        "        print('threading.active_count() process ',threading.active_count())\n",
        "\n",
        "    # annotations2 = annotationsю.copy()\n",
        "    thread = threading.Thread(target=thread_1, args=(fileNameWithPath,fileLabelPath,file_id,file_name,annotations,categories,all_images))\n",
        "    thread.daemon = True\n",
        "    thread.start()\n",
        "\n",
        "  return all_images"
      ]
    },
    {
      "cell_type": "code",
      "execution_count": 190,
      "metadata": {
        "id": "bbM22opD7xoo",
        "colab": {
          "base_uri": "https://localhost:8080/"
        },
        "outputId": "358a5561-4873-426f-a8b4-a01ca79187db"
      },
      "outputs": [
        {
          "output_type": "stream",
          "name": "stdout",
          "text": [
            "rm: cannot remove './instances_*/*.txt': No such file or directory\n"
          ]
        }
      ],
      "source": [
        "!rm ./instances_*/*.txt"
      ]
    },
    {
      "cell_type": "code",
      "source": [
        "maxactivethreads = 50"
      ],
      "metadata": {
        "id": "ERIWtG-lxB3N"
      },
      "execution_count": 191,
      "outputs": []
    },
    {
      "cell_type": "code",
      "execution_count": 192,
      "metadata": {
        "id": "O5CrPEuP8XbZ"
      },
      "outputs": [],
      "source": [
        "allImagesStruk = [[]]"
      ]
    },
    {
      "cell_type": "code",
      "source": [],
      "metadata": {
        "id": "0K60Pwfg5M7d"
      },
      "execution_count": null,
      "outputs": []
    },
    {
      "cell_type": "code",
      "source": [],
      "metadata": {
        "id": "TWQoOcsj5eS8"
      },
      "execution_count": null,
      "outputs": []
    },
    {
      "cell_type": "code",
      "execution_count": 193,
      "metadata": {
        "id": "ZopsqPEu9M7J",
        "colab": {
          "base_uri": "https://localhost:8080/",
          "height": 1000
        },
        "outputId": "575186ff-41c2-4869-8003-6812d118ec34"
      },
      "outputs": [
        {
          "output_type": "stream",
          "name": "stdout",
          "text": [
            "threading.active_count() process  13\n",
            "threading.active_count() process  12\n",
            "threading.active_count() process  15\n",
            "threading.active_count() process  11\n",
            "threading.active_count() process  12\n",
            "threading.active_count() process  15\n",
            "threading.active_count() process  15\n",
            "threading.active_count() process  13\n",
            "threading.active_count() process  14\n",
            "threading.active_count() process  13\n",
            "threading.active_count() process  10\n",
            "threading.active_count() process  15\n",
            "threading.active_count() process  13\n",
            "threading.active_count() process  15\n",
            "threading.active_count() process  15\n",
            "threading.active_count() process  13\n",
            "threading.active_count() process  17\n",
            "threading.active_count() process  12\n",
            "threading.active_count() process  13\n",
            "threading.active_count() process  12\n",
            "threading.active_count() process  13\n",
            "threading.active_count() process  14\n",
            "threading.active_count() process  12\n",
            "threading.active_count() process  12\n",
            "threading.active_count() process  14\n",
            "threading.active_count() process  16\n",
            "threading.active_count() process  12\n",
            "threading.active_count() process  12\n",
            "threading.active_count() process  12\n",
            "threading.active_count() process  12\n",
            "threading.active_count() process  12\n",
            "threading.active_count() process  11\n",
            "threading.active_count() process  13\n",
            "threading.active_count() process  16\n",
            "threading.active_count() process  13\n",
            "threading.active_count() process  13\n",
            "threading.active_count() process  13\n",
            "threading.active_count() process  14\n",
            "threading.active_count() process  14\n",
            "threading.active_count() process  13\n",
            "threading.active_count() process  14\n",
            "threading.active_count() process  13\n",
            "threading.active_count() process  17\n",
            "threading.active_count() process  14\n",
            "threading.active_count() process  12\n"
          ]
        },
        {
          "output_type": "error",
          "ename": "KeyboardInterrupt",
          "evalue": "",
          "traceback": [
            "\u001b[0;31m---------------------------------------------------------------------------\u001b[0m",
            "\u001b[0;31mKeyboardInterrupt\u001b[0m                         Traceback (most recent call last)",
            "\u001b[0;32m<ipython-input-193-1412cdb5ee2f>\u001b[0m in \u001b[0;36m<cell line: 1>\u001b[0;34m()\u001b[0m\n\u001b[0;32m----> 1\u001b[0;31m \u001b[0mtrainStuk\u001b[0m \u001b[0;34m=\u001b[0m \u001b[0mprocStupidMocsYoloStruk\u001b[0m\u001b[0;34m(\u001b[0m\u001b[0mtrain_label\u001b[0m\u001b[0;34m)\u001b[0m\u001b[0;34m\u001b[0m\u001b[0;34m\u001b[0m\u001b[0m\n\u001b[0m",
            "\u001b[0;32m<ipython-input-189-61f884070c53>\u001b[0m in \u001b[0;36mprocStupidMocsYoloStruk\u001b[0;34m(struck)\u001b[0m\n\u001b[1;32m     29\u001b[0m     \u001b[0mcheck_file\u001b[0m \u001b[0;34m=\u001b[0m \u001b[0mos\u001b[0m\u001b[0;34m.\u001b[0m\u001b[0mpath\u001b[0m\u001b[0;34m.\u001b[0m\u001b[0misfile\u001b[0m\u001b[0;34m(\u001b[0m\u001b[0mfileLabelPath\u001b[0m\u001b[0;34m)\u001b[0m\u001b[0;34m\u001b[0m\u001b[0;34m\u001b[0m\u001b[0m\n\u001b[1;32m     30\u001b[0m \u001b[0;34m\u001b[0m\u001b[0m\n\u001b[0;32m---> 31\u001b[0;31m     \u001b[0mlabel_file\u001b[0m \u001b[0;34m=\u001b[0m \u001b[0mopen\u001b[0m\u001b[0;34m(\u001b[0m\u001b[0mfileLabelPath\u001b[0m\u001b[0;34m,\u001b[0m \u001b[0;34m'w'\u001b[0m\u001b[0;34m)\u001b[0m\u001b[0;34m\u001b[0m\u001b[0;34m\u001b[0m\u001b[0m\n\u001b[0m\u001b[1;32m     32\u001b[0m     \u001b[0mlabel_file\u001b[0m\u001b[0;34m.\u001b[0m\u001b[0mclose\u001b[0m\u001b[0;34m(\u001b[0m\u001b[0;34m)\u001b[0m\u001b[0;34m\u001b[0m\u001b[0;34m\u001b[0m\u001b[0m\n\u001b[1;32m     33\u001b[0m \u001b[0;34m\u001b[0m\u001b[0m\n",
            "\u001b[0;32m/usr/lib/python3.10/codecs.py\u001b[0m in \u001b[0;36m__init__\u001b[0;34m(self, errors)\u001b[0m\n\u001b[1;32m    184\u001b[0m     \u001b[0mremembers\u001b[0m \u001b[0mthe\u001b[0m \u001b[0mstate\u001b[0m \u001b[0mof\u001b[0m \u001b[0mthe\u001b[0m \u001b[0mencoding\u001b[0m \u001b[0mprocess\u001b[0m \u001b[0mbetween\u001b[0m \u001b[0mcalls\u001b[0m \u001b[0mto\u001b[0m \u001b[0mencode\u001b[0m\u001b[0;34m(\u001b[0m\u001b[0;34m)\u001b[0m\u001b[0;34m.\u001b[0m\u001b[0;34m\u001b[0m\u001b[0;34m\u001b[0m\u001b[0m\n\u001b[1;32m    185\u001b[0m     \"\"\"\n\u001b[0;32m--> 186\u001b[0;31m     \u001b[0;32mdef\u001b[0m \u001b[0m__init__\u001b[0m\u001b[0;34m(\u001b[0m\u001b[0mself\u001b[0m\u001b[0;34m,\u001b[0m \u001b[0merrors\u001b[0m\u001b[0;34m=\u001b[0m\u001b[0;34m'strict'\u001b[0m\u001b[0;34m)\u001b[0m\u001b[0;34m:\u001b[0m\u001b[0;34m\u001b[0m\u001b[0;34m\u001b[0m\u001b[0m\n\u001b[0m\u001b[1;32m    187\u001b[0m         \"\"\"\n\u001b[1;32m    188\u001b[0m         \u001b[0mCreates\u001b[0m \u001b[0man\u001b[0m \u001b[0mIncrementalEncoder\u001b[0m \u001b[0minstance\u001b[0m\u001b[0;34m.\u001b[0m\u001b[0;34m\u001b[0m\u001b[0;34m\u001b[0m\u001b[0m\n",
            "\u001b[0;31mKeyboardInterrupt\u001b[0m: "
          ]
        }
      ],
      "source": [
        "trainStuk = procStupidMocsYoloStruk(train_label)"
      ]
    },
    {
      "cell_type": "code",
      "source": [
        "!cat /content/instances_train/0000001.txt"
      ],
      "metadata": {
        "id": "U2c835Uk0S4i"
      },
      "execution_count": null,
      "outputs": []
    },
    {
      "cell_type": "code",
      "execution_count": null,
      "metadata": {
        "id": "TVxXweou-FlA"
      },
      "outputs": [],
      "source": [
        "len(train_label['images'])"
      ]
    },
    {
      "cell_type": "code",
      "execution_count": null,
      "metadata": {
        "id": "e6-yx6vi-Ctk"
      },
      "outputs": [],
      "source": [
        "print(len(allImagesStruk))"
      ]
    },
    {
      "cell_type": "code",
      "execution_count": null,
      "metadata": {
        "id": "YqRmhqW3F-Ud"
      },
      "outputs": [],
      "source": [
        "print(len(trainStuk))"
      ]
    },
    {
      "cell_type": "code",
      "execution_count": null,
      "metadata": {
        "id": "olRV4MSy9N6R"
      },
      "outputs": [],
      "source": [
        "valStuk = procStupidMocsYoloStruk(val_label)"
      ]
    },
    {
      "cell_type": "code",
      "source": [
        "import matplotlib.pyplot as plt\n",
        "import matplotlib.image as mpimg\n",
        "\n",
        "img = mpimg.imread('/content/instances_train/0000001.jpg') #Replace \"image.jpg\" with the path of your image\n",
        "plt.imshow(img)\n",
        "plt.axis('off')\n",
        "plt.show()"
      ],
      "metadata": {
        "id": "7yEpwsaJmTjO"
      },
      "execution_count": null,
      "outputs": []
    },
    {
      "cell_type": "code",
      "source": [
        "!mkdir insta_train\n",
        "!mkdir insta_val\n",
        "\n",
        "!cp instances_train/*.txt insta_train\n",
        "!cp instances_val/*.txt insta_val\n",
        "\n",
        "!tar czf insta_train.tar.gz insta_train\n",
        "!tar czf insta_val.tar.gz insta_val"
      ],
      "metadata": {
        "id": "slAy1APB5Jg9"
      },
      "execution_count": null,
      "outputs": []
    },
    {
      "cell_type": "code",
      "execution_count": null,
      "metadata": {
        "id": "GJeyilof98MO"
      },
      "outputs": [],
      "source": [
        "print(len(allImagesStruk))"
      ]
    },
    {
      "cell_type": "code",
      "execution_count": null,
      "metadata": {
        "id": "gfczrCa0RCpj"
      },
      "outputs": [],
      "source": [
        "# !find /content/ -iname 0009135.jpg"
      ]
    },
    {
      "cell_type": "code",
      "execution_count": null,
      "metadata": {
        "id": "01S3xkKoz73X"
      },
      "outputs": [],
      "source": [
        "# Moving COCO Images into Standford Images Directory\n",
        "# !mv /content/YoCol/darknet/coco/images/train2014/* /content/cars_train\n",
        "# !mv /content/YoCol/darknet/coco/images/val2014/* /content/casr_test"
      ]
    },
    {
      "cell_type": "code",
      "execution_count": null,
      "metadata": {
        "id": "Ti1b8NM35QF2"
      },
      "outputs": [],
      "source": [
        "# # Moving COCO Labels into Standford Images Directory\n",
        "# !mv /content/YoCol/darknet/coco/labels/train2014/* /content/cars_train\n",
        "# !mv /content/YoCol/darknet/coco/labels/val2014/* /content/cars_test"
      ]
    },
    {
      "cell_type": "markdown",
      "metadata": {
        "id": "ay5moePX82up"
      },
      "source": [
        "Darknet need to a list file of image file path that will be passes to darknet for training and validation"
      ]
    },
    {
      "cell_type": "code",
      "execution_count": null,
      "metadata": {
        "id": "T4Y4lCkC7BPr"
      },
      "outputs": [],
      "source": [
        "val_images_list = os.listdir(VAL_IMAGE_PATH)\n",
        "val_list_file = open('/content/val_list.txt', 'w')\n",
        "for img_name3 in val_images_list:\n",
        "  if img_name3.find('.jpg')>-1:\n",
        "    val_list_file.write((VAL_IMAGE_PATH + img_name3).strip() + '\\n')"
      ]
    },
    {
      "cell_type": "code",
      "execution_count": null,
      "metadata": {
        "id": "fGpShQi31BB-"
      },
      "outputs": [],
      "source": [
        "# Make list file of train and test image file path\n",
        "train_images_list = os.listdir(TRAIN_IMAGE_PATH)\n",
        "train_list_file = open('/content/train_list.txt', 'w')\n",
        "for img_name in train_images_list:\n",
        "  if img_name.find('.jpg')>-1:\n",
        "    train_list_file.write((TRAIN_IMAGE_PATH + img_name).strip() + '\\n')"
      ]
    },
    {
      "cell_type": "code",
      "execution_count": null,
      "metadata": {
        "id": "x5tGFFnL7KiU"
      },
      "outputs": [],
      "source": [
        "test_images_list = os.listdir(TEST_IMAGE_PATH)\n",
        "test_list_file = open('/content/test_list.txt', 'w')\n",
        "for img_name2 in test_images_list:\n",
        "  if img_name.find('.jpg')>-1:\n",
        "    test_list_file.write((TEST_IMAGE_PATH + img_name2).strip() + '\\n')"
      ]
    },
    {
      "cell_type": "code",
      "execution_count": null,
      "metadata": {
        "id": "WYdQCWc27Eq7"
      },
      "outputs": [],
      "source": [
        "names_file = open('/content/names.txt', 'w')\n",
        "for nameClass in all_names:\n",
        "  names_file.write(nameClass + '\\n')"
      ]
    },
    {
      "cell_type": "code",
      "execution_count": null,
      "metadata": {
        "id": "Xmhltz95vfA5"
      },
      "outputs": [],
      "source": [
        "\n",
        "import cv2"
      ]
    },
    {
      "cell_type": "code",
      "execution_count": null,
      "metadata": {
        "id": "bUla0KfPsaES"
      },
      "outputs": [],
      "source": [
        "print(os.listdir(TRAIN_IMAGE_PATH))"
      ]
    },
    {
      "cell_type": "code",
      "execution_count": null,
      "metadata": {
        "id": "HldxuO0tlHHX"
      },
      "outputs": [],
      "source": [
        "print(TEST_IMAGE_PATH)"
      ]
    },
    {
      "cell_type": "code",
      "execution_count": null,
      "metadata": {
        "id": "ZZICAcPYlCDo"
      },
      "outputs": [],
      "source": [
        "print(train_images_list)"
      ]
    },
    {
      "cell_type": "code",
      "execution_count": null,
      "metadata": {
        "id": "G-B_-zpbkxAq"
      },
      "outputs": [],
      "source": [
        "!head -n 5 /content/train_list.txt"
      ]
    },
    {
      "cell_type": "code",
      "execution_count": null,
      "metadata": {
        "id": "ubeRFdAvk8nv"
      },
      "outputs": [],
      "source": [
        "!head -n 4 /content/train_list.txt"
      ]
    },
    {
      "cell_type": "code",
      "execution_count": null,
      "metadata": {
        "id": "zfVUq_Qo3yZJ"
      },
      "outputs": [],
      "source": [
        "\n",
        "# why they create huge txt files?\n",
        "# Then we start labelling Standford Dataset based on labels data that stored in\n",
        "# \"all_label\" dictionary\n",
        "\n",
        "# for name in all_label:\n",
        "#   if int(name[:-4]) < 8145 :\n",
        "#     label_file = open(TRAIN_IMAGE_PATH + name[:-4] + '.txt', 'w')\n",
        "#   else:\n",
        "#     label_file = open(TEST_IMAGE_PATH + name[:-4] + '.txt', 'w')\n",
        "#   for label in all_label[name]:\n",
        "#     label_file.write(label + '\\n')"
      ]
    },
    {
      "cell_type": "markdown",
      "metadata": {
        "id": "Waq6FzMx5PqW"
      },
      "source": [
        "##Setting before Training for Yolov3"
      ]
    },
    {
      "cell_type": "markdown",
      "metadata": {
        "id": "JhFfVndw-BnP"
      },
      "source": [
        "Darknet need some configuration file befor training YOLO model that had \".data\" extension. This file contains some configuration such as where darknet must take list file of training and validation, classes names that will use for YOLO, and path to store .weights file"
      ]
    },
    {
      "cell_type": "code",
      "execution_count": null,
      "metadata": {
        "id": "vrJSeeIQUMfH"
      },
      "outputs": [],
      "source": [
        "!mkdir /content/bk/"
      ]
    },
    {
      "cell_type": "code",
      "execution_count": null,
      "metadata": {
        "id": "KbhmIIvF5UrP"
      },
      "outputs": [],
      "source": [
        "!mkdir /content/weight\n",
        "# valid = /content/test_list.txt\n",
        "dat = \"\"\"classes = 13\n",
        "train = /content/train_list.txt\n",
        "valid = /content/val_list.txt\n",
        "names = /content/names.txt\n",
        "backup = /content/bk/\"\"\"\n",
        "with open('/content/darknet.data','w') as dark:\n",
        "  dark.write(dat)"
      ]
    },
    {
      "cell_type": "code",
      "execution_count": null,
      "metadata": {
        "id": "WqZkvcGTgunM"
      },
      "outputs": [],
      "source": [
        "!apt-file search opencv.pc"
      ]
    },
    {
      "cell_type": "code",
      "execution_count": null,
      "metadata": {
        "id": "qnXO8sXihhun"
      },
      "outputs": [],
      "source": [
        "# !PKG_CONFIG_PATH=$PKG_CONFIG_PATH:/usr/lib/x86_64-linux-gnu/pkgconfig"
      ]
    },
    {
      "cell_type": "code",
      "execution_count": null,
      "metadata": {
        "id": "6POr2HpChpYI"
      },
      "outputs": [],
      "source": [
        "# !export PKG_CONFIG_PATH"
      ]
    },
    {
      "cell_type": "code",
      "execution_count": null,
      "metadata": {
        "id": "E7X5crbVhvX3"
      },
      "outputs": [],
      "source": [
        "# !. ~/.bashrc"
      ]
    },
    {
      "cell_type": "code",
      "execution_count": null,
      "metadata": {
        "id": "V8qKvVdTMR6L"
      },
      "outputs": [],
      "source": [
        "# !apt-get install apt-file\n",
        "# !apt update\n",
        "# !apt-file search opencv.pc"
      ]
    },
    {
      "cell_type": "code",
      "execution_count": null,
      "metadata": {
        "id": "N2gv2NmCnNRU"
      },
      "outputs": [],
      "source": [
        "%cd /content/YoCol/darknet\n"
      ]
    },
    {
      "cell_type": "code",
      "execution_count": null,
      "metadata": {
        "id": "X2Q8E3IgnOp6"
      },
      "outputs": [],
      "source": [
        "!ls"
      ]
    },
    {
      "cell_type": "code",
      "execution_count": null,
      "metadata": {
        "id": "DaL6rmY196AA"
      },
      "outputs": [],
      "source": [
        "!make\n",
        "#Check if darknet is installed properly\n",
        "!./darknet detector help"
      ]
    },
    {
      "cell_type": "code",
      "execution_count": null,
      "metadata": {
        "id": "ac9O1wgu8_wM"
      },
      "outputs": [],
      "source": [
        "%cd /content/YoCol/darknet/\n",
        "# !./darknet detector train /content/darknet.data cfg/yolov3.cfg &> /dev/null"
      ]
    },
    {
      "cell_type": "code",
      "execution_count": null,
      "metadata": {
        "id": "tjx0ngCNdh-P"
      },
      "outputs": [],
      "source": [
        "!cat /content/darknet.data"
      ]
    },
    {
      "cell_type": "code",
      "execution_count": null,
      "metadata": {
        "id": "BNPxypDfdk-F"
      },
      "outputs": [],
      "source": [
        "!head -n 3 /content/names.txt"
      ]
    },
    {
      "cell_type": "code",
      "execution_count": null,
      "metadata": {
        "id": "3lcu7sB3drBn"
      },
      "outputs": [],
      "source": [
        "!head -n 6 /content/train_list.txt"
      ]
    },
    {
      "cell_type": "code",
      "execution_count": null,
      "metadata": {
        "id": "yp4uH640d4TP"
      },
      "outputs": [],
      "source": [
        "!head -n  5 /content/test_list.txt"
      ]
    },
    {
      "cell_type": "code",
      "source": [
        "!cat /content/instances_train/0000001.txt"
      ],
      "metadata": {
        "id": "y33Isq1emFgh"
      },
      "execution_count": null,
      "outputs": []
    },
    {
      "cell_type": "code",
      "source": [
        "!cat /content/instances_train/0006662.txt"
      ],
      "metadata": {
        "id": "gGVc2BOmUJB7"
      },
      "execution_count": null,
      "outputs": []
    },
    {
      "cell_type": "code",
      "source": [
        "!cat /content/instances_train/0006661.txt"
      ],
      "metadata": {
        "id": "5RkWfeLAUJwP"
      },
      "execution_count": null,
      "outputs": []
    },
    {
      "cell_type": "code",
      "source": [
        "!cat /content/instances_train/0006660.txt"
      ],
      "metadata": {
        "id": "PkqE4rliUMCl"
      },
      "execution_count": null,
      "outputs": []
    },
    {
      "cell_type": "code",
      "execution_count": null,
      "metadata": {
        "id": "n7PU2_-WOUji"
      },
      "outputs": [],
      "source": [
        "!./darknet detector train /content/darknet.data cfg/yolov3.cfg"
      ]
    },
    {
      "cell_type": "code",
      "execution_count": null,
      "metadata": {
        "id": "n6baPOF_QHuS"
      },
      "outputs": [],
      "source": [
        "!cat /content/instances_train/0006662.txt\n"
      ]
    },
    {
      "cell_type": "code",
      "execution_count": null,
      "metadata": {
        "id": "Od9un_VhQbEu"
      },
      "outputs": [],
      "source": [
        "!ls /content/instances_train/0007915*"
      ]
    },
    {
      "cell_type": "code",
      "execution_count": null,
      "metadata": {
        "id": "pUS6s1_RtWWB"
      },
      "outputs": [],
      "source": [
        "cat /content/train_list.txt |grep 0007915"
      ]
    },
    {
      "cell_type": "code",
      "execution_count": null,
      "metadata": {
        "id": "b8SaMbOvlRmj"
      },
      "outputs": [],
      "source": [
        "!pip install matplotlib"
      ]
    },
    {
      "cell_type": "code",
      "execution_count": null,
      "metadata": {
        "id": "Tm6z0AdFlUJx"
      },
      "outputs": [],
      "source": [
        "import matplotlib.pyplot as plt\n",
        "import matplotlib.image as mpimg\n",
        "\n",
        "img = mpimg.imread('/content/instances_train/0000001.jpg') #Replace \"image.jpg\" with the path of your image\n",
        "plt.imshow(img)\n",
        "plt.axis('off')\n",
        "plt.show()"
      ]
    }
  ],
  "metadata": {
    "accelerator": "GPU",
    "colab": {
      "gpuType": "T4",
      "provenance": [],
      "include_colab_link": true
    },
    "kernelspec": {
      "display_name": "Python 3",
      "name": "python3"
    }
  },
  "nbformat": 4,
  "nbformat_minor": 0
}