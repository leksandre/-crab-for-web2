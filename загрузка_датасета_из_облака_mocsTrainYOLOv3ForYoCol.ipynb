{
  "cells": [
    {
      "cell_type": "markdown",
      "metadata": {
        "id": "view-in-github",
        "colab_type": "text"
      },
      "source": [
        "<a href=\"https://colab.research.google.com/github/leksandre/-crab-for-web2ipr_book_shop/blob/main/%D0%B7%D0%B0%D0%B3%D1%80%D1%83%D0%B7%D0%BA%D0%B0_%D0%B4%D0%B0%D1%82%D0%B0%D1%81%D0%B5%D1%82%D0%B0_%D0%B8%D0%B7_%D0%BE%D0%B1%D0%BB%D0%B0%D0%BA%D0%B0_mocsTrainYOLOv3ForYoCol.ipynb\" target=\"_parent\"><img src=\"https://colab.research.google.com/assets/colab-badge.svg\" alt=\"Open In Colab\"/></a>"
      ]
    },
    {
      "cell_type": "code",
      "execution_count": null,
      "metadata": {
        "id": "AVZgfeQjhHX5"
      },
      "outputs": [],
      "source": [
        "import locale\n",
        "locale.getpreferredencoding = lambda: \"UTF-8\"\n",
        "from google.colab import drive\n",
        "drive.mount('/content/gdriveDisk')"
      ]
    },
    {
      "cell_type": "code",
      "execution_count": null,
      "metadata": {
        "id": "i0Mbb9Nd1c-3"
      },
      "outputs": [],
      "source": [
        "def isEmpty(path):\n",
        "    if os.path.exists(path) and not os.path.isfile(path):\n",
        "\n",
        "        # Checking if the directory is empty or not\n",
        "        if not os.listdir(path):\n",
        "            return True\n",
        "        else:\n",
        "            return False\n",
        "    else:\n",
        "        print(\"The path is either for a file or not valid\")\n",
        "        return True\n",
        "    return True"
      ]
    },
    {
      "cell_type": "code",
      "execution_count": null,
      "metadata": {
        "id": "wu949sSHHC0c"
      },
      "outputs": [],
      "source": [
        "import os"
      ]
    },
    {
      "cell_type": "code",
      "execution_count": null,
      "metadata": {
        "id": "RYxndAs_dYid"
      },
      "outputs": [],
      "source": [
        "if not os.path.exists(\"/content/YoCol/\") or isEmpty(\"/content/YoCol/\"):\n",
        "  !git clone https://github.com/Oskop/YoCol"
      ]
    },
    {
      "cell_type": "code",
      "execution_count": null,
      "metadata": {
        "id": "w3bQuj4vemVo"
      },
      "outputs": [],
      "source": [
        "#Installing compilers\n",
        "!apt install gcc-5 g++-5 -y"
      ]
    },
    {
      "cell_type": "code",
      "execution_count": null,
      "metadata": {
        "id": "O3QDRKB0g9W3"
      },
      "outputs": [],
      "source": [
        "!ln -s /usr/bin/gcc-5 /usr/local/cuda/bin/gcc\n",
        "!ln -s /usr/bin/g++-5 /usr/local/cuda/bin/g++"
      ]
    },
    {
      "cell_type": "markdown",
      "metadata": {
        "id": "EfBYVeXGG4CI"
      },
      "source": []
    },
    {
      "cell_type": "code",
      "execution_count": null,
      "metadata": {
        "id": "msnPo5t-hEo1"
      },
      "outputs": [],
      "source": [
        "#Changing the variables to include OpenCV and GPU in the Makefile\n",
        "! cd /content/YoCol/darknet/\n",
        "!sed -i 's/OPENCV=0/OPENCV=1/g' /content/YoCol/darknet/Makefile\n",
        "!sed -i 's/GPU=0/GPU=4/g' /content/YoCol/darknet/Makefile\n",
        "!sed -i 's/CUDNN=0/CUDNN=1/g' /content/YoCol/darknet/Makefile #if you want to use cudnn"
      ]
    },
    {
      "cell_type": "code",
      "execution_count": null,
      "metadata": {
        "id": "jd1BU4QfhMKe"
      },
      "outputs": [],
      "source": [
        "# Apparently we need to install this so that OpenCV can work without any issues\n",
        "# when we are making the file\n",
        "!apt-get install libopencv-dev"
      ]
    },
    {
      "cell_type": "code",
      "execution_count": null,
      "metadata": {
        "id": "X3XDXy3NoWGO"
      },
      "outputs": [],
      "source": [
        "!apt list --installed | grep opencv-dev"
      ]
    },
    {
      "cell_type": "code",
      "execution_count": null,
      "metadata": {
        "id": "apgVLht-hKwA"
      },
      "outputs": [],
      "source": [
        "# !OPENCV_GENERATE_PKGCONFIG=ON"
      ]
    },
    {
      "cell_type": "code",
      "execution_count": null,
      "metadata": {
        "id": "Teq9IplJhTTy"
      },
      "outputs": [],
      "source": [
        "# pkg-config --modversion opencv4"
      ]
    },
    {
      "cell_type": "code",
      "execution_count": null,
      "metadata": {
        "id": "MFsR6jjFhM5o"
      },
      "outputs": [],
      "source": [
        "# pkg-config --cflags --libs opencv4"
      ]
    },
    {
      "cell_type": "code",
      "execution_count": null,
      "metadata": {
        "id": "1kjR_hPmg7FX"
      },
      "outputs": [],
      "source": [
        "# pkg-config --cflags opencv\n",
        "# pkg-config --libs opencv"
      ]
    },
    {
      "cell_type": "code",
      "execution_count": null,
      "metadata": {
        "id": "1qy6KWg24dK2"
      },
      "outputs": [],
      "source": [
        "# babakasd#break here"
      ]
    },
    {
      "cell_type": "code",
      "execution_count": null,
      "metadata": {
        "id": "qKiDc5IqqUC-"
      },
      "outputs": [],
      "source": [
        "# %cd /content/YoCol/darknet\n",
        "# !sh scripts/get_coco_dataset.sh"
      ]
    },
    {
      "cell_type": "code",
      "execution_count": null,
      "metadata": {
        "id": "J793KmInh2gP"
      },
      "outputs": [],
      "source": [
        "# %cd /content/YoCol/darknet/coco\n",
        "# !paste <(awk \"{pri!nt \\\"$PWD\\\"}\" <5k.part) 5k.part | tr -d '\\t' > 5k.txt\n",
        "# !paste <(awk \"{print \\\"$PWD\\\"}\" <trainvalno5k.part) trainvalno5k.part | tr -d '\\t' > trainvalno5k.txt\n",
        "# %cd /content"
      ]
    },
    {
      "cell_type": "code",
      "execution_count": null,
      "metadata": {
        "id": "JkQbfoqKHISk"
      },
      "outputs": [],
      "source": [
        "!pip uninstall gdown -y && pip install gdown\n",
        "!gdown -V"
      ]
    },
    {
      "cell_type": "code",
      "execution_count": null,
      "metadata": {
        "id": "d_lfNwnSphbm"
      },
      "outputs": [],
      "source": [
        "!mkdir drive\n",
        "!cd drive\n",
        "!mkdir MyDrive\n",
        "!cd MyDrive\n",
        "!mkdir mocs_dataset\n",
        "!cd mocs_dataset\n",
        "!pwd\n",
        "\n",
        "import os.path\n",
        "from os import path\n",
        "\n",
        "if path.exists('/content/drive/') == False:\n",
        "  os.mkdir('/content/drive/')\n",
        "if path.exists('/content/drive/MyDrive/') == False:\n",
        "  os.mkdir('/content/drive/MyDrive/')\n",
        "if path.exists('/content/drive/MyDrive/mocs_dataset') == False:\n",
        "  os.mkdir('/content/drive/MyDrive/mocs_dataset')\n",
        "\n",
        "# os.chdir('/content/drive/MyDrive/mocs_dataset')\n",
        "!pwd\n",
        "!ls"
      ]
    },
    {
      "cell_type": "code",
      "execution_count": null,
      "metadata": {
        "id": "pM1EbtoVpx6B"
      },
      "outputs": [],
      "source": [
        "# https://competitions.codalab.org/competitions/32605#participate-get-data\n",
        "# https://drive.google.com/file/d/1yYJOdXF9SbuvU_BcVsuLb-mrgmUL5Pmj/view?usp=sharing\n",
        "# https://drive.google.com/file/d/18Q7ugoRJZ8ntjM07pwqkDhWGxPvQAgBt/view?usp=sharing\n",
        "# https://drive.google.com/file/d/1Oh0rIq2YmCZHFSTWXOpedYSE06c8Sq9j/view?usp=sharing\n",
        "# https://drive.google.com/file/d/1Uj9-oZFIAk9Jy_JGMfNZlLbERplEXj-i/view?usp=sharing\n",
        "# https://drive.google.com/file/d/1kzlZLdH31nm6QsTOusuL2DJnQDQbTKDt/view?usp=sharing\n",
        "# https://drive.google.com/file/d/1Zeqr7C5p-hWNw5ta2fvD1bgLnXd-17fW/view?usp=sharing"
      ]
    },
    {
      "cell_type": "code",
      "execution_count": null,
      "metadata": {
        "id": "ruB8XdRH6LIA"
      },
      "outputs": [],
      "source": [
        "import gdown"
      ]
    },
    {
      "cell_type": "code",
      "execution_count": null,
      "metadata": {
        "id": "ZU_RRfCT6Ncg"
      },
      "outputs": [],
      "source": [
        "!gdown 1yYJOdXF9SbuvU_BcVsuLb-mrgmUL5Pmj"
      ]
    },
    {
      "cell_type": "code",
      "execution_count": null,
      "metadata": {
        "id": "ZKt1XgJX6W7Z"
      },
      "outputs": [],
      "source": [
        "if os.path.isfile('image_info_test.json'):\n",
        "  print('file 1')\n",
        "  !mv image_info_test.json /content/drive/MyDrive/mocs_dataset/\n",
        "else:\n",
        "  print('file 2 disk!!')\n",
        "  !cp /content/gdriveDisk/MyDrive/mocs_dataset/image_info_test.json.zip /content/drive/MyDrive/mocs_dataset/\n",
        "  !unzip -o /content/drive/MyDrive/mocs_dataset/image_info_test.json.zip -d /content/drive/MyDrive/mocs_dataset/"
      ]
    },
    {
      "cell_type": "code",
      "execution_count": null,
      "metadata": {
        "id": "hI2yL4_-6iLf"
      },
      "outputs": [],
      "source": [
        "!gdown 18Q7ugoRJZ8ntjM07pwqkDhWGxPvQAgBt"
      ]
    },
    {
      "cell_type": "code",
      "execution_count": null,
      "metadata": {
        "id": "saugn15O6h96"
      },
      "outputs": [],
      "source": [
        "if os.path.isfile('instances_val.json'):\n",
        "  print('file 1')\n",
        "  !mv instances_val.json /content/drive/MyDrive/mocs_dataset/\n",
        "else:\n",
        "  print('file 2 disk!!')\n",
        "  !cp /content/gdriveDisk/MyDrive/mocs_dataset/instances_val.json.zip /content/drive/MyDrive/mocs_dataset/\n",
        "  !unzip -o  /content/drive/MyDrive/mocs_dataset/instances_val.json.zip -d /content/drive/MyDrive/mocs_dataset/"
      ]
    },
    {
      "cell_type": "code",
      "execution_count": null,
      "metadata": {
        "id": "Z6Ke2S416hrF"
      },
      "outputs": [],
      "source": [
        "!gdown 1Oh0rIq2YmCZHFSTWXOpedYSE06c8Sq9j"
      ]
    },
    {
      "cell_type": "code",
      "execution_count": null,
      "metadata": {
        "id": "cShtQYNw6hdL"
      },
      "outputs": [],
      "source": [
        "if os.path.isfile('instances_train.json'):\n",
        "  print('file 1')\n",
        "  !mv instances_train.json /content/drive/MyDrive/mocs_dataset/\n",
        "else:\n",
        "  print('file 2 disk!!')\n",
        "  !cp /content/gdriveDisk/MyDrive/mocs_dataset/instances_train.json.zip /content/drive/MyDrive/mocs_dataset/\n",
        "  !unzip -o /content/drive/MyDrive/mocs_dataset/instances_train.json.zip -d /content/drive/MyDrive/mocs_dataset/"
      ]
    },
    {
      "cell_type": "code",
      "execution_count": null,
      "metadata": {
        "id": "Y36GcwLd6hCb"
      },
      "outputs": [],
      "source": [
        "!gdown 1Uj9-oZFIAk9Jy_JGMfNZlLbERplEXj-i"
      ]
    },
    {
      "cell_type": "code",
      "execution_count": null,
      "metadata": {
        "id": "OhjbVDrA6g1j"
      },
      "outputs": [],
      "source": [
        "if os.path.isfile('instances_test.rar'):\n",
        "  print('file 1')\n",
        "  !mv instances_test.rar /content/drive/MyDrive/mocs_dataset/\n",
        "else:\n",
        "  print('file 2 disk!!')"
      ]
    },
    {
      "cell_type": "code",
      "execution_count": null,
      "metadata": {
        "id": "h0SqCET16gJy"
      },
      "outputs": [],
      "source": [
        "!gdown 1kzlZLdH31nm6QsTOusuL2DJnQDQbTKDt"
      ]
    },
    {
      "cell_type": "code",
      "execution_count": null,
      "metadata": {
        "id": "7mzsaOgm6f66"
      },
      "outputs": [],
      "source": [
        "if os.path.isfile('instances_train.rar'):\n",
        "  print('file 1')\n",
        "  !mv instances_train.rar /content/drive/MyDrive/mocs_dataset/\n",
        "else:\n",
        "  print('file 2 disk!!')\n",
        "  !cp /content/gdriveDisk/MyDrive/mocs_dataset/instances_train.rar /content/drive/MyDrive/mocs_dataset/"
      ]
    },
    {
      "cell_type": "code",
      "execution_count": null,
      "metadata": {
        "id": "_oCYJL6P6ffg"
      },
      "outputs": [],
      "source": [
        "!gdown 1Zeqr7C5p-hWNw5ta2fvD1bgLnXd-17fW"
      ]
    },
    {
      "cell_type": "code",
      "execution_count": null,
      "metadata": {
        "id": "LglK07g66dmX"
      },
      "outputs": [],
      "source": [
        "if os.path.isfile('instances_val.rar'):\n",
        "  print('file 1')\n",
        "  !mv instances_val.rar /content/drive/MyDrive/mocs_dataset/\n",
        "else:\n",
        "  print('file 2 disk!!')\n",
        "  !cp /content/gdriveDisk/MyDrive/mocs_dataset/instances_val.rar /content/drive/MyDrive/mocs_dataset/"
      ]
    },
    {
      "cell_type": "code",
      "execution_count": null,
      "metadata": {
        "id": "iws4ae2lpPzU"
      },
      "outputs": [],
      "source": [
        "# import gdown\n",
        "# url = 'https://drive.google.com/file/d/1yYJOdXF9SbuvU_BcVsuLb-mrgmUL5Pmj'\n",
        "# output = '/content/drive/MyDrive/mocs_dataset/image_info_test.json'\n",
        "# gdown.download(url, output, quiet=False)"
      ]
    },
    {
      "cell_type": "code",
      "execution_count": null,
      "metadata": {
        "id": "SJyGBp6Qqpss"
      },
      "outputs": [],
      "source": [
        "# import gdown\n",
        "# url = 'https://drive.google.com/file/d/18Q7ugoRJZ8ntjM07pwqkDhWGxPvQAgBt'\n",
        "# output = '/content/drive/MyDrive/mocs_dataset/instances_val.json'\n",
        "# gdown.download(url, output, quiet=False)"
      ]
    },
    {
      "cell_type": "code",
      "execution_count": null,
      "metadata": {
        "id": "xW-u2ntTq0xM"
      },
      "outputs": [],
      "source": [
        "# import gdown\n",
        "# url = 'https://drive.google.com/file/d/1Oh0rIq2YmCZHFSTWXOpedYSE06c8Sq9j'\n",
        "# output = '/content/drive/MyDrive/mocs_dataset/instances_train.json'\n",
        "# gdown.download(url, output, quiet=False)"
      ]
    },
    {
      "cell_type": "code",
      "execution_count": null,
      "metadata": {
        "id": "mBbiVfUiq_Tc"
      },
      "outputs": [],
      "source": [
        "# import gdown\n",
        "# url = 'https://drive.google.com/file/d/1Uj9-oZFIAk9Jy_JGMfNZlLbERplEXj-i'\n",
        "# output = '/content/drive/MyDrive/mocs_dataset/instances_test.rar'\n",
        "# gdown.download(url, output, quiet=False)"
      ]
    },
    {
      "cell_type": "code",
      "execution_count": null,
      "metadata": {
        "id": "ijFAsHsnq-_N"
      },
      "outputs": [],
      "source": [
        "# import gdown\n",
        "# url = 'https://drive.google.com/file/d/1kzlZLdH31nm6QsTOusuL2DJnQDQbTKDt'\n",
        "# output = '/content/drive/MyDrive/mocs_dataset/instances_train.rar'\n",
        "# gdown.download(url, output, quiet=False)"
      ]
    },
    {
      "cell_type": "code",
      "execution_count": null,
      "metadata": {
        "id": "46g-yUTcq-mA"
      },
      "outputs": [],
      "source": [
        "# import gdown\n",
        "# url = 'https://drive.google.com/file/d/1Zeqr7C5p-hWNw5ta2fvD1bgLnXd-17fW'\n",
        "# output = '/content/drive/MyDrive/mocs_dataset/instances_val.rar'\n",
        "# gdown.download(url, output, quiet=False)"
      ]
    },
    {
      "cell_type": "code",
      "execution_count": null,
      "metadata": {
        "id": "ZRpSutLbyTJn"
      },
      "outputs": [],
      "source": [
        "if os.path.isdir('/content/drive/MyDrive/mocs_dataset/instances_test/'):\n",
        "  if not isEmpty(\"/content/drive/MyDrive/mocs_dataset/instances_test/\"):\n",
        "    ! rm -rf /content/drive/MyDrive/mocs_dataset/instances_test/*\n",
        "if os.path.isdir('/content/drive/MyDrive/mocs_dataset/instances_train/'):\n",
        "  if not isEmpty(\"/content/drive/MyDrive/mocs_dataset/instances_train/\"):\n",
        "    ! rm -rf /content/drive/MyDrive/mocs_dataset/instances_train/*\n",
        "if os.path.isdir('/content/drive/MyDrive/mocs_dataset/instances_val/'):\n",
        "  if not isEmpty(\"/content/drive/MyDrive/mocs_dataset/instances_val/\"):\n",
        "    ! rm -rf /content/drive/MyDrive/mocs_dataset/instances_val/*"
      ]
    },
    {
      "cell_type": "code",
      "execution_count": null,
      "metadata": {
        "id": "isoAIh-QbU-M"
      },
      "outputs": [],
      "source": [
        "%ls ./"
      ]
    },
    {
      "cell_type": "code",
      "execution_count": null,
      "metadata": {
        "id": "Ao6Ajv2kb0Un"
      },
      "outputs": [],
      "source": [
        "!pwd"
      ]
    },
    {
      "cell_type": "code",
      "execution_count": null,
      "metadata": {
        "id": "bbM22opD7xoo"
      },
      "outputs": [],
      "source": [
        "!rm ./instances_*/*.txt"
      ]
    },
    {
      "cell_type": "code",
      "execution_count": null,
      "metadata": {
        "id": "9mUdd_1RyoWa"
      },
      "outputs": [],
      "source": [
        "# TRAIN_IMAGE_PATH = '/content/drive/MyDrive/mocs_dataset/instances_train/'\n",
        "# TEST_IMAGE_PATH = '/content/drive/MyDrive/mocs_dataset/instances_train/'\n",
        "# TEST_IMAGE_PATH = '/content/drive/MyDrive/mocs_dataset/instances_val/'\n",
        "TRAIN_IMAGE_PATH = '/content/instances_train/'\n",
        "TEST_IMAGE_PATH = '/content/instances_train/'\n",
        "VAL_IMAGE_PATH = '/content/instances_val/'"
      ]
    },
    {
      "cell_type": "code",
      "execution_count": null,
      "metadata": {
        "id": "wbOkp5BZYalU"
      },
      "outputs": [],
      "source": [
        "if not os.path.exists(\"/content/instances_test/\") or isEmpty(\"/content/instances_test/\"):\n",
        "  if os.path.isfile('/content/drive/MyDrive/mocs_dataset/instances_test.rar'):\n",
        "    !unrar x -Y \"/content/drive/MyDrive/mocs_dataset/instances_test.rar\" \"/content/\""
      ]
    },
    {
      "cell_type": "code",
      "execution_count": null,
      "metadata": {
        "id": "xx-a3sixYcAg"
      },
      "outputs": [],
      "source": [
        "if not os.path.exists(\"/content/instances_train/\") or isEmpty(\"/content/instances_train/\"):\n",
        "  if os.path.isfile('/content/drive/MyDrive/mocs_dataset/instances_train.rar'):\n",
        "    !unrar x -Y \"/content/drive/MyDrive/mocs_dataset/instances_train.rar\" \"/content/\""
      ]
    },
    {
      "cell_type": "code",
      "execution_count": null,
      "metadata": {
        "id": "oljmMGde5nNI"
      },
      "outputs": [],
      "source": [
        "if not os.path.exists(\"/content/instances_val/\") or isEmpty(\"/content/instances_val/\"):\n",
        "  if os.path.isfile('/content/drive/MyDrive/mocs_dataset/instances_val.rar'):\n",
        "    !unrar x -Y \"/content/drive/MyDrive/mocs_dataset/instances_val.rar\" \"/content/\""
      ]
    },
    {
      "cell_type": "code",
      "execution_count": null,
      "metadata": {
        "id": "LFP18hSxM7RI"
      },
      "outputs": [],
      "source": [
        "if os.path.isfile('/content/drive/MyDrive/mocs_dataset/instances_train.json.zip'):\n",
        "  !unzip -o /content/drive/MyDrive/mocs_dataset/instances_train.json.zip -d /content/\n",
        "\n",
        "if os.path.isfile('/content/drive/MyDrive/mocs_dataset/image_info_test.json.zip'):\n",
        "  !unzip -o /content/drive/MyDrive/mocs_dataset/image_info_test.json.zip -d /content/\n",
        "\n",
        "if os.path.isfile('/content/drive/MyDrive/mocs_dataset/instances_val.json.zip'):\n",
        "  !unzip -o /content/drive/MyDrive/mocs_dataset/instances_val.json.zip -d /content/"
      ]
    },
    {
      "cell_type": "code",
      "execution_count": null,
      "metadata": {
        "id": "nAdxS4LWko9e"
      },
      "outputs": [],
      "source": [
        "#not completed\n",
        "# !unrar x -Y \"/content/drive/MyDrive/mocs_dataset/instances_val.rar\" \"/content/\""
      ]
    },
    {
      "cell_type": "code",
      "execution_count": null,
      "metadata": {
        "id": "EQWWVVOVGhwI"
      },
      "outputs": [],
      "source": []
    },
    {
      "cell_type": "code",
      "execution_count": null,
      "metadata": {
        "id": "rREnElU5kqGk"
      },
      "outputs": [],
      "source": [
        "import json\n",
        "cars_make_model_label = open('/content/drive/MyDrive/mocs_dataset/image_info_test.json', 'r')\n",
        "image_info_test = json.load(cars_make_model_label)"
      ]
    },
    {
      "cell_type": "code",
      "execution_count": null,
      "metadata": {
        "id": "9bxBfw71yT4l"
      },
      "outputs": [],
      "source": [
        "print(image_info_test['categories'])\n",
        "all_label = {}\n",
        "all_names = []\n",
        "all_images = {}"
      ]
    },
    {
      "cell_type": "code",
      "execution_count": null,
      "metadata": {
        "id": "yiKWCM45TXar"
      },
      "outputs": [],
      "source": [
        "#process image_info_test.json categories\n",
        "# Initialize dictionary that will contain all label from both labels data\n",
        "for categories in image_info_test['categories']:\n",
        "  print(categories['name'])\n",
        "  all_names.append(categories['name'])\n",
        "  all_label[categories['name']] = []\n",
        "print(all_label)"
      ]
    },
    {
      "cell_type": "code",
      "execution_count": null,
      "metadata": {
        "id": "1VI9Wq9k7VVP"
      },
      "outputs": [],
      "source": [
        "for images in image_info_test['images']:\n",
        "  all_images[images['file_name']] = images\n",
        "print(len(all_images))"
      ]
    },
    {
      "cell_type": "code",
      "execution_count": null,
      "metadata": {
        "id": "nONS14jUy4Me"
      },
      "outputs": [],
      "source": [
        "%cd /content\n",
        "import scipy.io as scio\n",
        "\n",
        "import cv2\n",
        "# matlab_train_label = scio.loadmat('devkit/cars_train_annos.mat')\n",
        "# matlab_test_label = scio.loadmat('devkit/cars_test_annos_withlabels.mat')\n",
        "YOLO_CLASS = 13"
      ]
    },
    {
      "cell_type": "code",
      "execution_count": null,
      "metadata": {
        "id": "1-VBmD_-VmBO"
      },
      "outputs": [],
      "source": [
        "# Changing test label file name from \"file_names_test\" list to adjust\n",
        "# the key format from data.json\n",
        "# for name in file_names_test:\n",
        "#   for file_name in name:\n",
        "#     if (int(file_name.split('.')[0])+8144) < 10000:\n",
        "#       new_name = '0' + str(int(file_name.split('.')[0]) + 8144) + '.jpg'\n",
        "#       name[0] = new_name\n",
        "#       os.rename(TEST_IMAGE_PATH + file_name, TEST_IMAGE_PATH + new_name)\n",
        "#     else:\n",
        "#       new_name = str(int(file_name.split('.')[0]) + 8144) + '.jpg'\n",
        "#       name[0] = new_name\n",
        "#       os.rename(TEST_IMAGE_PATH + file_name, TEST_IMAGE_PATH + new_name)"
      ]
    },
    {
      "cell_type": "code",
      "execution_count": null,
      "metadata": {
        "id": "Mu7vIbOB7JJX"
      },
      "outputs": [],
      "source": [
        "cars_make_model_label = open('/content/drive/MyDrive/mocs_dataset/instances_train.json', 'r')\n",
        "train_label = json.load(cars_make_model_label)"
      ]
    },
    {
      "cell_type": "code",
      "execution_count": null,
      "metadata": {
        "id": "NLRFdu-DV9CN"
      },
      "outputs": [],
      "source": [
        "cars_make_model_label = open('/content/drive/MyDrive/mocs_dataset/instances_val.json', 'r')\n",
        "val_label = json.load(cars_make_model_label)"
      ]
    },
    {
      "cell_type": "code",
      "execution_count": null,
      "metadata": {
        "id": "p1kZiJZq8UL0"
      },
      "outputs": [],
      "source": [
        "cars_make_model_label = open('/content/drive/MyDrive/mocs_dataset/image_info_test.json', 'r')\n",
        "test_label = json.load(cars_make_model_label)"
      ]
    },
    {
      "cell_type": "code",
      "execution_count": null,
      "metadata": {
        "id": "pSqxjjM3KQxf"
      },
      "outputs": [],
      "source": [
        "import cv2\n",
        "import os.path\n",
        "import time"
      ]
    },
    {
      "cell_type": "code",
      "execution_count": null,
      "metadata": {
        "id": "BnUrBuUI-Xcv"
      },
      "outputs": [],
      "source": [
        "def procStupidMocsYoloStruk(struck):\n",
        "  all_images = {}\n",
        "  annotations = struck['annotations']\n",
        "  images = struck['images']\n",
        "  categories = struck['categories']\n",
        "  for image in images:\n",
        "    file_name = image['file_name']\n",
        "    file_id = image['id']\n",
        "    all_images[file_name] = []\n",
        "    fileNameWithPath = TRAIN_IMAGE_PATH + file_name\n",
        "    check_file = os.path.isfile(fileNameWithPath)\n",
        "\n",
        "    if not check_file:\n",
        "      fileNameWithPath = TEST_IMAGE_PATH + file_name\n",
        "      check_file = os.path.isfile(fileNameWithPath)\n",
        "\n",
        "    if not check_file:\n",
        "      fileNameWithPath = VAL_IMAGE_PATH + file_name\n",
        "      check_file = os.path.isfile(fileNameWithPath)\n",
        "\n",
        "    if not check_file:\n",
        "      print('file not exist ',file_name)\n",
        "      continue\n",
        "\n",
        "    fileLabelPath = fileNameWithPath[:-4] + '.txt'\n",
        "    check_file = os.path.isfile(fileLabelPath)\n",
        "    if not check_file:\n",
        "      label_file = open(fileLabelPath, 'w')\n",
        "      label_file.close()\n",
        "    else:\n",
        "      pass\n",
        "      # print('annotations already exist ',file_name) #fileLabelPath\n",
        "      # continue\n",
        "\n",
        "    # time.sleep(1)\n",
        "    image = cv2.imread(fileNameWithPath)\n",
        "    height = image.shape[0]\n",
        "    width = image.shape[1]\n",
        "    filtered_list = list(filter(lambda x: x[\"image_id\"] == file_id, annotations))\n",
        "    for annotation in filtered_list:\n",
        "      if 1:\n",
        "      # if image.shape[1] >= 300:\n",
        "          filtered_cats = list(filter(lambda x: x[\"id\"] == annotation['category_id'], categories))\n",
        "          filtered_cat = filtered_cats[0]\n",
        "          obj_class = str(filtered_cat['name'])\n",
        "          x1 = float(annotation['bbox'][0])\n",
        "          x2 = float(annotation['bbox'][1])\n",
        "          y1 = float(annotation['bbox'][2])\n",
        "          y2 = float(annotation['bbox'][3])\n",
        "\n",
        "    # if bbox[0] < 0:\n",
        "    #   left = 0\n",
        "    # else:\n",
        "    #   left = bbox[0]\n",
        "    # if bbox[1] < 0:\n",
        "    #   top = 0\n",
        "    # else:\n",
        "    #   top = bbox[1]\n",
        "    # if bbox[2] < 0:\n",
        "    #   right = 1\n",
        "    # else:\n",
        "    #   right = bbox[2]\n",
        "    # if bbox[3] < 0:\n",
        "    #   bottom = 1\n",
        "    # else:\n",
        "    #   bottom = bbox[3]\n",
        "    # надо указывать все классы\n",
        "\n",
        "          x_center = str(((x2-x1) / 2) / width)\n",
        "          y_center = str(((y2-y1) / 2) / height)\n",
        "          obj_width = str((x2-x1) / width)\n",
        "          obj_height = str((y2-y1) / height)\n",
        "          content1 = obj_class + ' ' + x_center + ' ' + y_center + ' ' + obj_width + ' ' + obj_height\n",
        "          all_images[file_name].append(content1)\n",
        "          label_file = open(fileLabelPath, 'a')\n",
        "          label_file.write(content1 + '\\n')\n",
        "\n",
        "  return all_images"
      ]
    },
    {
      "cell_type": "code",
      "execution_count": null,
      "metadata": {
        "id": "O5CrPEuP8XbZ"
      },
      "outputs": [],
      "source": [
        "allImagesStruk = [[]]"
      ]
    },
    {
      "cell_type": "code",
      "execution_count": null,
      "metadata": {
        "id": "ZopsqPEu9M7J"
      },
      "outputs": [],
      "source": [
        "trainStuk = procStupidMocsYoloStruk(train_label)"
      ]
    },
    {
      "cell_type": "code",
      "execution_count": null,
      "metadata": {
        "id": "TVxXweou-FlA"
      },
      "outputs": [],
      "source": [
        "len(train_label['images'])"
      ]
    },
    {
      "cell_type": "code",
      "execution_count": null,
      "metadata": {
        "id": "e6-yx6vi-Ctk"
      },
      "outputs": [],
      "source": [
        "print(len(allImagesStruk))"
      ]
    },
    {
      "cell_type": "code",
      "execution_count": null,
      "metadata": {
        "id": "YqRmhqW3F-Ud"
      },
      "outputs": [],
      "source": [
        "print(len(trainStuk))"
      ]
    },
    {
      "cell_type": "code",
      "execution_count": null,
      "metadata": {
        "id": "olRV4MSy9N6R"
      },
      "outputs": [],
      "source": [
        "valStuk = procStupidMocsYoloStruk(val_label)"
      ]
    },
    {
      "cell_type": "code",
      "execution_count": null,
      "metadata": {
        "id": "GJeyilof98MO"
      },
      "outputs": [],
      "source": [
        "print(len(allImagesStruk))"
      ]
    },
    {
      "cell_type": "code",
      "execution_count": null,
      "metadata": {
        "id": "gfczrCa0RCpj"
      },
      "outputs": [],
      "source": [
        "# !find /content/ -iname 0009135.jpg"
      ]
    },
    {
      "cell_type": "code",
      "execution_count": null,
      "metadata": {
        "id": "01S3xkKoz73X"
      },
      "outputs": [],
      "source": [
        "# Moving COCO Images into Standford Images Directory\n",
        "# !mv /content/YoCol/darknet/coco/images/train2014/* /content/cars_train\n",
        "# !mv /content/YoCol/darknet/coco/images/val2014/* /content/casr_test"
      ]
    },
    {
      "cell_type": "code",
      "execution_count": null,
      "metadata": {
        "id": "Ti1b8NM35QF2"
      },
      "outputs": [],
      "source": [
        "# # Moving COCO Labels into Standford Images Directory\n",
        "# !mv /content/YoCol/darknet/coco/labels/train2014/* /content/cars_train\n",
        "# !mv /content/YoCol/darknet/coco/labels/val2014/* /content/cars_test"
      ]
    },
    {
      "cell_type": "markdown",
      "metadata": {
        "id": "ay5moePX82up"
      },
      "source": [
        "Darknet need to a list file of image file path that will be passes to darknet for training and validation"
      ]
    },
    {
      "cell_type": "code",
      "execution_count": null,
      "metadata": {
        "id": "T4Y4lCkC7BPr"
      },
      "outputs": [],
      "source": [
        "val_images_list = os.listdir(VAL_IMAGE_PATH)\n",
        "val_list_file = open('/content/val_list.txt', 'w')\n",
        "for img_name3 in val_images_list:\n",
        "  if img_name3.find('.jpg')>-1:\n",
        "    val_list_file.write((VAL_IMAGE_PATH + img_name3).strip() + '\\n')"
      ]
    },
    {
      "cell_type": "code",
      "execution_count": null,
      "metadata": {
        "id": "fGpShQi31BB-"
      },
      "outputs": [],
      "source": [
        "# Make list file of train and test image file path\n",
        "train_images_list = os.listdir(TRAIN_IMAGE_PATH)\n",
        "train_list_file = open('/content/train_list.txt', 'w')\n",
        "for img_name in train_images_list:\n",
        "  if img_name.find('.jpg')>-1:\n",
        "    train_list_file.write((TRAIN_IMAGE_PATH + img_name).strip() + '\\n')"
      ]
    },
    {
      "cell_type": "code",
      "execution_count": null,
      "metadata": {
        "id": "x5tGFFnL7KiU"
      },
      "outputs": [],
      "source": [
        "test_images_list = os.listdir(TEST_IMAGE_PATH)\n",
        "test_list_file = open('/content/test_list.txt', 'w')\n",
        "for img_name2 in test_images_list:\n",
        "  if img_name.find('.jpg')>-1:\n",
        "    test_list_file.write((TEST_IMAGE_PATH + img_name2).strip() + '\\n')"
      ]
    },
    {
      "cell_type": "code",
      "execution_count": null,
      "metadata": {
        "id": "WYdQCWc27Eq7"
      },
      "outputs": [],
      "source": [
        "names_file = open('/content/names.txt', 'w')\n",
        "for nameClass in all_names:\n",
        "  names_file.write(nameClass + '\\n')"
      ]
    },
    {
      "cell_type": "code",
      "execution_count": null,
      "metadata": {
        "id": "Xmhltz95vfA5"
      },
      "outputs": [],
      "source": [
        "\n",
        "import cv2"
      ]
    },
    {
      "cell_type": "code",
      "execution_count": null,
      "metadata": {
        "id": "bUla0KfPsaES"
      },
      "outputs": [],
      "source": [
        "print(os.listdir(TRAIN_IMAGE_PATH))"
      ]
    },
    {
      "cell_type": "code",
      "execution_count": null,
      "metadata": {
        "id": "HldxuO0tlHHX"
      },
      "outputs": [],
      "source": [
        "print(TEST_IMAGE_PATH)"
      ]
    },
    {
      "cell_type": "code",
      "execution_count": null,
      "metadata": {
        "id": "ZZICAcPYlCDo"
      },
      "outputs": [],
      "source": [
        "print(train_images_list)"
      ]
    },
    {
      "cell_type": "code",
      "execution_count": null,
      "metadata": {
        "id": "G-B_-zpbkxAq"
      },
      "outputs": [],
      "source": [
        "!head -n 5 /content/train_list.txt"
      ]
    },
    {
      "cell_type": "code",
      "execution_count": null,
      "metadata": {
        "id": "ubeRFdAvk8nv"
      },
      "outputs": [],
      "source": [
        "!head -n 4 /content/train_list.txt"
      ]
    },
    {
      "cell_type": "code",
      "execution_count": null,
      "metadata": {
        "id": "zfVUq_Qo3yZJ"
      },
      "outputs": [],
      "source": [
        "\n",
        "# why they create huge txt files?\n",
        "# Then we start labelling Standford Dataset based on labels data that stored in\n",
        "# \"all_label\" dictionary\n",
        "\n",
        "# for name in all_label:\n",
        "#   if int(name[:-4]) < 8145 :\n",
        "#     label_file = open(TRAIN_IMAGE_PATH + name[:-4] + '.txt', 'w')\n",
        "#   else:\n",
        "#     label_file = open(TEST_IMAGE_PATH + name[:-4] + '.txt', 'w')\n",
        "#   for label in all_label[name]:\n",
        "#     label_file.write(label + '\\n')"
      ]
    },
    {
      "cell_type": "markdown",
      "metadata": {
        "id": "Waq6FzMx5PqW"
      },
      "source": [
        "##Setting before Training for Yolov3"
      ]
    },
    {
      "cell_type": "markdown",
      "metadata": {
        "id": "JhFfVndw-BnP"
      },
      "source": [
        "Darknet need some configuration file befor training YOLO model that had \".data\" extension. This file contains some configuration such as where darknet must take list file of training and validation, classes names that will use for YOLO, and path to store .weights file"
      ]
    },
    {
      "cell_type": "code",
      "execution_count": null,
      "metadata": {
        "id": "vrJSeeIQUMfH"
      },
      "outputs": [],
      "source": [
        "!mkdir /content/bk/"
      ]
    },
    {
      "cell_type": "code",
      "execution_count": null,
      "metadata": {
        "id": "KbhmIIvF5UrP"
      },
      "outputs": [],
      "source": [
        "!mkdir /content/weight\n",
        "# valid = /content/test_list.txt\n",
        "dat = \"\"\"classes = 13\n",
        "train = /content/train_list.txt\n",
        "valid = /content/val_list.txt\n",
        "names = /content/names.txt\n",
        "backup = /content/bk/\"\"\"\n",
        "with open('/content/darknet.data','w') as dark:\n",
        "  dark.write(dat)"
      ]
    },
    {
      "cell_type": "code",
      "execution_count": null,
      "metadata": {
        "id": "WqZkvcGTgunM"
      },
      "outputs": [],
      "source": [
        "!apt-file search opencv.pc"
      ]
    },
    {
      "cell_type": "code",
      "execution_count": null,
      "metadata": {
        "id": "qnXO8sXihhun"
      },
      "outputs": [],
      "source": [
        "# !PKG_CONFIG_PATH=$PKG_CONFIG_PATH:/usr/lib/x86_64-linux-gnu/pkgconfig"
      ]
    },
    {
      "cell_type": "code",
      "execution_count": null,
      "metadata": {
        "id": "6POr2HpChpYI"
      },
      "outputs": [],
      "source": [
        "# !export PKG_CONFIG_PATH"
      ]
    },
    {
      "cell_type": "code",
      "execution_count": null,
      "metadata": {
        "id": "E7X5crbVhvX3"
      },
      "outputs": [],
      "source": [
        "# !. ~/.bashrc"
      ]
    },
    {
      "cell_type": "code",
      "execution_count": null,
      "metadata": {
        "id": "V8qKvVdTMR6L"
      },
      "outputs": [],
      "source": [
        "# !apt-get install apt-file\n",
        "# !apt update\n",
        "# !apt-file search opencv.pc"
      ]
    },
    {
      "cell_type": "code",
      "execution_count": null,
      "metadata": {
        "id": "N2gv2NmCnNRU"
      },
      "outputs": [],
      "source": [
        "%cd /content/YoCol/darknet\n"
      ]
    },
    {
      "cell_type": "code",
      "execution_count": null,
      "metadata": {
        "id": "X2Q8E3IgnOp6"
      },
      "outputs": [],
      "source": [
        "!ls"
      ]
    },
    {
      "cell_type": "code",
      "execution_count": null,
      "metadata": {
        "id": "DaL6rmY196AA"
      },
      "outputs": [],
      "source": [
        "!make\n",
        "#Check if darknet is installed properly\n",
        "!./darknet detector help"
      ]
    },
    {
      "cell_type": "code",
      "execution_count": null,
      "metadata": {
        "id": "ac9O1wgu8_wM"
      },
      "outputs": [],
      "source": [
        "%cd /content/YoCol/darknet/\n",
        "# !./darknet detector train /content/darknet.data cfg/yolov3.cfg &> /dev/null"
      ]
    },
    {
      "cell_type": "code",
      "execution_count": null,
      "metadata": {
        "id": "tjx0ngCNdh-P"
      },
      "outputs": [],
      "source": [
        "!cat /content/darknet.data"
      ]
    },
    {
      "cell_type": "code",
      "execution_count": null,
      "metadata": {
        "id": "BNPxypDfdk-F"
      },
      "outputs": [],
      "source": [
        "!head -n 3 /content/names.txt"
      ]
    },
    {
      "cell_type": "code",
      "execution_count": null,
      "metadata": {
        "id": "3lcu7sB3drBn"
      },
      "outputs": [],
      "source": [
        "!head -n 6 /content/train_list.txt"
      ]
    },
    {
      "cell_type": "code",
      "execution_count": null,
      "metadata": {
        "id": "yp4uH640d4TP"
      },
      "outputs": [],
      "source": [
        "!head -n  5 /content/test_list.txt"
      ]
    },
    {
      "cell_type": "code",
      "execution_count": null,
      "metadata": {
        "id": "n7PU2_-WOUji"
      },
      "outputs": [],
      "source": [
        "!./darknet detector train /content/darknet.data cfg/yolov3.cfg"
      ]
    },
    {
      "cell_type": "code",
      "execution_count": null,
      "metadata": {
        "id": "n6baPOF_QHuS"
      },
      "outputs": [],
      "source": [
        "!cat /content/instances_train/0006662.txt\n"
      ]
    },
    {
      "cell_type": "code",
      "execution_count": null,
      "metadata": {
        "id": "Od9un_VhQbEu"
      },
      "outputs": [],
      "source": [
        "!ls /content/instances_train/0007915*"
      ]
    },
    {
      "cell_type": "code",
      "execution_count": null,
      "metadata": {
        "id": "pUS6s1_RtWWB"
      },
      "outputs": [],
      "source": [
        "cat /content/train_list.txt |grep 0007915"
      ]
    },
    {
      "cell_type": "code",
      "execution_count": null,
      "metadata": {
        "id": "b8SaMbOvlRmj"
      },
      "outputs": [],
      "source": [
        "!pip install matplotlib"
      ]
    },
    {
      "cell_type": "code",
      "execution_count": null,
      "metadata": {
        "id": "Tm6z0AdFlUJx"
      },
      "outputs": [],
      "source": [
        "import matplotlib.pyplot as plt\n",
        "import matplotlib.image as mpimg\n",
        "\n",
        "img = mpimg.imread('/content/instances_train/0006662.jpg') #Replace \"image.jpg\" with the path of your image\n",
        "plt.imshow(img)\n",
        "plt.axis('off')\n",
        "plt.show()"
      ]
    }
  ],
  "metadata": {
    "accelerator": "GPU",
    "colab": {
      "gpuType": "T4",
      "provenance": [],
      "include_colab_link": true
    },
    "kernelspec": {
      "display_name": "Python 3",
      "name": "python3"
    }
  },
  "nbformat": 4,
  "nbformat_minor": 0
}