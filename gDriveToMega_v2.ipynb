{
  "nbformat": 4,
  "nbformat_minor": 0,
  "metadata": {
    "colab": {
      "provenance": [],
      "authorship_tag": "ABX9TyPoeEze/HU5MmtNlR7e5Me6",
      "include_colab_link": true
    },
    "kernelspec": {
      "name": "python3",
      "display_name": "Python 3"
    },
    "language_info": {
      "name": "python"
    }
  },
  "cells": [
    {
      "cell_type": "markdown",
      "metadata": {
        "id": "view-in-github",
        "colab_type": "text"
      },
      "source": [
        "<a href=\"https://colab.research.google.com/github/leksandre/-crab-for-web2ipr_book_shop/blob/main/gDriveToMega_v2.ipynb\" target=\"_parent\"><img src=\"https://colab.research.google.com/assets/colab-badge.svg\" alt=\"Open In Colab\"/></a>"
      ]
    },
    {
      "cell_type": "code",
      "source": [
        "# //!pip3 install mega\n",
        "# //!pip install mega.py==0.8.5\n",
        "!pip install mega.py"
      ],
      "metadata": {
        "colab": {
          "base_uri": "https://localhost:8080/"
        },
        "id": "QsXbTqMUXVm-",
        "outputId": "785fefe5-10a9-4fd8-fb6c-9fbe30464215"
      },
      "execution_count": 1,
      "outputs": [
        {
          "output_type": "stream",
          "name": "stdout",
          "text": [
            "Collecting mega.py\n",
            "  Downloading mega.py-1.0.8-py2.py3-none-any.whl.metadata (6.5 kB)\n",
            "Requirement already satisfied: requests>=0.10 in /usr/local/lib/python3.10/dist-packages (from mega.py) (2.32.3)\n",
            "Collecting pycryptodome<4.0.0,>=3.9.6 (from mega.py)\n",
            "  Downloading pycryptodome-3.20.0-cp35-abi3-manylinux_2_17_x86_64.manylinux2014_x86_64.whl.metadata (3.4 kB)\n",
            "Requirement already satisfied: pathlib==1.0.1 in /usr/local/lib/python3.10/dist-packages (from mega.py) (1.0.1)\n",
            "Collecting tenacity<6.0.0,>=5.1.5 (from mega.py)\n",
            "  Downloading tenacity-5.1.5-py2.py3-none-any.whl.metadata (1.2 kB)\n",
            "Requirement already satisfied: charset-normalizer<4,>=2 in /usr/local/lib/python3.10/dist-packages (from requests>=0.10->mega.py) (3.3.2)\n",
            "Requirement already satisfied: idna<4,>=2.5 in /usr/local/lib/python3.10/dist-packages (from requests>=0.10->mega.py) (3.10)\n",
            "Requirement already satisfied: urllib3<3,>=1.21.1 in /usr/local/lib/python3.10/dist-packages (from requests>=0.10->mega.py) (2.2.3)\n",
            "Requirement already satisfied: certifi>=2017.4.17 in /usr/local/lib/python3.10/dist-packages (from requests>=0.10->mega.py) (2024.8.30)\n",
            "Requirement already satisfied: six>=1.9.0 in /usr/local/lib/python3.10/dist-packages (from tenacity<6.0.0,>=5.1.5->mega.py) (1.16.0)\n",
            "Downloading mega.py-1.0.8-py2.py3-none-any.whl (19 kB)\n",
            "Downloading pycryptodome-3.20.0-cp35-abi3-manylinux_2_17_x86_64.manylinux2014_x86_64.whl (2.1 MB)\n",
            "\u001b[2K   \u001b[90m━━━━━━━━━━━━━━━━━━━━━━━━━━━━━━━━━━━━━━━━\u001b[0m \u001b[32m2.1/2.1 MB\u001b[0m \u001b[31m17.4 MB/s\u001b[0m eta \u001b[36m0:00:00\u001b[0m\n",
            "\u001b[?25hDownloading tenacity-5.1.5-py2.py3-none-any.whl (34 kB)\n",
            "Installing collected packages: tenacity, pycryptodome, mega.py\n",
            "  Attempting uninstall: tenacity\n",
            "    Found existing installation: tenacity 9.0.0\n",
            "    Uninstalling tenacity-9.0.0:\n",
            "      Successfully uninstalled tenacity-9.0.0\n",
            "\u001b[31mERROR: pip's dependency resolver does not currently take into account all the packages that are installed. This behaviour is the source of the following dependency conflicts.\n",
            "plotly 5.24.1 requires tenacity>=6.2.0, but you have tenacity 5.1.5 which is incompatible.\u001b[0m\u001b[31m\n",
            "\u001b[0mSuccessfully installed mega.py-1.0.8 pycryptodome-3.20.0 tenacity-5.1.5\n"
          ]
        }
      ]
    },
    {
      "cell_type": "code",
      "execution_count": 2,
      "metadata": {
        "id": "OkpoikbJXL2t"
      },
      "outputs": [],
      "source": [
        "from mega import Mega\n",
        "import os"
      ]
    },
    {
      "cell_type": "code",
      "source": [
        "%mkdir /content/tmp1"
      ],
      "metadata": {
        "id": "1Gdamb-1uqv5"
      },
      "execution_count": 3,
      "outputs": []
    },
    {
      "cell_type": "code",
      "source": [
        "from re import S\n",
        "def human_size(bytes, units=[' bytes','KB','MB','GB','TB', 'PB', 'EB']):\n",
        "    \"\"\" Returns a human readable string representation of bytes \"\"\"\n",
        "    return str(bytes) + units[0] if bytes < 1024 else human_size(bytes>>10, units[1:])\n",
        "\n",
        "from pathlib import Path\n",
        "from os.path import isdir\n",
        "import shutil\n",
        "errors = {}\n",
        "class UploadMega():\n",
        "    def __init__(self, id, password):\n",
        "        mega = Mega()\n",
        "        self.mega = mega.login(id, password)\n",
        "    def upload_single_file(self, path):\n",
        "        print(\"uploading :\", path)\n",
        "        self.mega.upload(path)\n",
        "        print(\"uploaded :\", path)\n",
        "\n",
        "    def compare_dir(self, path, newFolder = ''):\n",
        "        files = os.listdir(path)\n",
        "        j = 0\n",
        "        for i in files:\n",
        "            if isdir(i):\n",
        "              if i == 'Google Фото':\n",
        "                continue\n",
        "              print(\"\\n\\ngo to DIR :\", i)\n",
        "              l = self.mega.find(i)\n",
        "              if l:\n",
        "                print(' exist DIR ', newFolder+ \"/\"+i , l)\n",
        "                self.compare_dir(os.path.join(path, i), newFolder+'/'+i)\n",
        "              else:\n",
        "                print(\"have to create DIR:\", i)\n",
        "            else:\n",
        "              # print(\"go to file :\", newFolder, \" / \",i)\n",
        "              l = self.mega.find(i)\n",
        "              # print('check exist file ', newFolder+ \"/\"+i , l)\n",
        "              if l:\n",
        "                # print('already exist file', i)\n",
        "                j = j+1\n",
        "\n",
        "                hasErr = False\n",
        "                s = (os.path.getsize(os.path.join(path, i)))\n",
        "                if l[1]['s'] != s:\n",
        "                  print('!!!!!----wrong file size 1', i, l[1]['s'], \"<>\", s )\n",
        "                  print(human_size(l[1]['s']))\n",
        "                  hasErr = True\n",
        "\n",
        "                s = (os.stat(os.path.join(path, i)).st_size )\n",
        "                if l[1]['s'] != s:\n",
        "                  print('!!!!!----wrong file size 2', i, l[1]['s'], \"<>\", s )\n",
        "                  print(human_size(l[1]['s']))\n",
        "                  hasErr = True\n",
        "\n",
        "                s = (Path(os.path.join(path, i)).stat().st_size)\n",
        "                if l[1]['s'] != s:\n",
        "                  print('!!!!!----wrong file size 3', i, l[1]['s'], \"<>\", s )\n",
        "                  print(human_size(l[1]['s']))\n",
        "                  hasErr = True\n",
        "\n",
        "                if hasErr:\n",
        "                  m.delete(l[0])\n",
        "                  print(\"----------replace----------------have to upload file:\", newFolder+ \"/\"+i)\n",
        "                  Folder = self.mega.find(newFolder)\n",
        "                  try:\n",
        "                    self.mega.upload(os.path.join(path, i), Folder[0])\n",
        "                  except KeyError as e:\n",
        "                    print(\"Exception -------replace-------- \", newFolder, \" / \",i)\n",
        "                    print(' over KeyError  ' + str(e))\n",
        "                  except Exception as e:\n",
        "                    print(\"Exception -------replace-------- \", newFolder, \" / \",i)\n",
        "                    print(' over KeyError Exception  ' + str(e))\n",
        "\n",
        "                # print(j ,l,' exist file ', newFolder+ \"/\"+i , l)\n",
        "\n",
        "                # print(l[1]['s'])\n",
        "                # print(human_size(l[1]['s']))\n",
        "\n",
        "                # print(os.path.getsize(os.path.join(path, i)))\n",
        "                # print(os.stat(os.path.join(path, i)).st_size )\n",
        "                # print(Path(os.path.join(path, i)).stat().st_size)\n",
        "\n",
        "                pass\n",
        "              else:\n",
        "                print(\"--------------------------have to upload file:\", newFolder+ \"/\"+i)\n",
        "                Folder = self.mega.find(newFolder)\n",
        "                try:\n",
        "                  self.mega.upload(os.path.join(path, i), Folder[0])\n",
        "                except KeyError as e:\n",
        "                    # print(\"Exception --------------- \", newFolder, \" / \",i)\n",
        "                    print(' over KeyError  ' + str(e))\n",
        "                except Exception as e:\n",
        "                    # print(\"Exception --------------- \", newFolder, \" / \",i)\n",
        "                    print(' over KeyError Exception  ' + str(e))\n",
        "\n",
        "                    file = os.path.join(path, i)\n",
        "\n",
        "                    filename, file_extension = os.path.splitext(file)\n",
        "                    if file_extension not in errors:\n",
        "                      errors[file_extension] = 0\n",
        "                    errors[file_extension] = errors[file_extension] + 1\n",
        "                    # try:\n",
        "                    #     shutil.copyfile(file, '/content/tmp1')\n",
        "                    # except Exception as e:\n",
        "                    #     # print(\"Exception -------shutil-------- \", newFolder, \" / \",i)\n",
        "                    #     print(' over KeyError Exception  ' + str(e))\n",
        "\n",
        "                    # try:\n",
        "                    #\n",
        "                    #   %cp \"{file}\" /content/tmp1\n",
        "                    # except Exception as e:\n",
        "                    #     # print(\"Exception -------cp-------- \", newFolder, \" / \",i)\n",
        "                    #     print(' over KeyError Exception  ' + str(e))\n",
        "\n",
        "\n",
        "        print(j,' end path ',path)\n",
        "\n",
        "    def upload_directory(self, path, newFolder = ''):\n",
        "        files = os.listdir(path)\n",
        "        for i in files:\n",
        "            if isdir(i):\n",
        "              if i == 'Google Фото':\n",
        "                continue\n",
        "              print(\"uploading DIR :\", i)\n",
        "              # if len(newFolder)>0:\n",
        "              l = self.mega.find(i)\n",
        "              print(' exist DIR ', newFolder+ \"/\"+i , l)\n",
        "              if l:\n",
        "                print('already exist')\n",
        "              else:\n",
        "                self.mega.create_folder(newFolder+'/'+i)\n",
        "              self.upload_directory(os.path.join(path, i), newFolder+'/'+i)\n",
        "              print(\"uploaded DIR:\", i)\n",
        "            else:\n",
        "              print(\"uploading :\", newFolder, \" / \",i)\n",
        "              l = self.mega.find(i)\n",
        "              print(' exist file ', newFolder+ \"/\"+i , l)\n",
        "              if l:\n",
        "                print('already exist')\n",
        "                continue\n",
        "              Folder = self.mega.find(newFolder)\n",
        "              try:\n",
        "                self.mega.upload(os.path.join(path, i), Folder[0])\n",
        "              except Exception:\n",
        "                print(\"Exception --------------- \", newFolder, \" / \",i)\n",
        "              print(\"uploaded :\", i)\n",
        "\n",
        "    def upload_files_by_extension(self, path, extension):\n",
        "        files = os.listdir(path)\n",
        "        for i in files:\n",
        "            if i.split(\".\")[-1] == extension:\n",
        "                print(\"uploading :\", i)\n",
        "                self.mega.upload(os.path.join(path, i))\n",
        "                print(\"uploaded :\", i)\n",
        "\n",
        "print(errors)"
      ],
      "metadata": {
        "colab": {
          "base_uri": "https://localhost:8080/"
        },
        "id": "CMV47u6-XNzK",
        "outputId": "cbadd93f-5fdc-4559-b5e7-46a2f802bbfa"
      },
      "execution_count": 12,
      "outputs": [
        {
          "output_type": "stream",
          "name": "stdout",
          "text": [
            "{}\n"
          ]
        }
      ]
    },
    {
      "cell_type": "code",
      "source": [
        "m = UploadMega();"
      ],
      "metadata": {
        "id": "6bHkhEp6Yzs-"
      },
      "execution_count": 13,
      "outputs": []
    },
    {
      "cell_type": "code",
      "source": [
        "from google.colab import drive\n",
        "drive.mount('/content/drive')"
      ],
      "metadata": {
        "colab": {
          "base_uri": "https://localhost:8080/"
        },
        "id": "JplIEhLDaKDd",
        "outputId": "0a27876e-57c4-4ef1-cfa9-858adaf61679"
      },
      "execution_count": 14,
      "outputs": [
        {
          "output_type": "stream",
          "name": "stdout",
          "text": [
            "Drive already mounted at /content/drive; to attempt to forcibly remount, call drive.mount(\"/content/drive\", force_remount=True).\n"
          ]
        }
      ]
    },
    {
      "cell_type": "code",
      "source": [
        "%cd /content/drive/My Drive/mega2/\n",
        "# %ls"
      ],
      "metadata": {
        "colab": {
          "base_uri": "https://localhost:8080/"
        },
        "id": "VMw7OlGvaWA8",
        "outputId": "b6c6907c-a7d9-41d3-9d17-4f6eb8edb2f1"
      },
      "execution_count": 15,
      "outputs": [
        {
          "output_type": "stream",
          "name": "stdout",
          "text": [
            "/content/drive/My Drive/mega2\n"
          ]
        }
      ]
    },
    {
      "cell_type": "code",
      "source": [
        "import os, os.path\n",
        "\n",
        "# simple version for working with CWD\n",
        "print(len([name for name in os.listdir('.') if os.path.isfile(name)]))\n",
        "\n",
        "# path joining version for other paths\n",
        "DIR = '/content/drive/My Drive/mega2/'\n",
        "print(len([name for name in os.listdir(DIR) if os.path.isfile(os.path.join(DIR, name))]))"
      ],
      "metadata": {
        "colab": {
          "base_uri": "https://localhost:8080/"
        },
        "id": "cN7kFrWo3DVa",
        "outputId": "db89cd23-1955-4e4f-bd40-c4c4efd3bb35"
      },
      "execution_count": 16,
      "outputs": [
        {
          "output_type": "stream",
          "name": "stdout",
          "text": [
            "398\n",
            "398\n"
          ]
        }
      ]
    },
    {
      "cell_type": "code",
      "source": [
        "files = m.mega.get_files()"
      ],
      "metadata": {
        "id": "u1RMwOpu9Yak"
      },
      "execution_count": 17,
      "outputs": []
    },
    {
      "cell_type": "code",
      "source": [
        "print(files)"
      ],
      "metadata": {
        "id": "DxEpf8-d9hcg"
      },
      "execution_count": null,
      "outputs": []
    },
    {
      "cell_type": "code",
      "source": [
        " m.compare_dir('/content/drive/My Drive/mega2/','mega2')"
      ],
      "metadata": {
        "id": "-H-cpSQBAKOU"
      },
      "execution_count": null,
      "outputs": []
    },
    {
      "cell_type": "code",
      "source": [
        "# m.upload_directory('/content/drive/My Drive/mega2/', 'mega2')"
      ],
      "metadata": {
        "id": "mi5DNRu4eXws"
      },
      "execution_count": 20,
      "outputs": []
    },
    {
      "cell_type": "code",
      "source": [
        "print(errors)"
      ],
      "metadata": {
        "colab": {
          "base_uri": "https://localhost:8080/"
        },
        "id": "d6VcKOPxKYyV",
        "outputId": "225bb6f2-a1ab-4f9c-c84c-22e265a130a3"
      },
      "execution_count": 22,
      "outputs": [
        {
          "output_type": "stream",
          "name": "stdout",
          "text": [
            "{'.gdoc': 75, '.gsheet': 59, '.gslides': 7, '.zip': 3, '.pt': 18, '.gz': 1, '': 1}\n"
          ]
        }
      ]
    },
    {
      "cell_type": "code",
      "source": [
        "print('success')"
      ],
      "metadata": {
        "id": "8VB-nTp88gWB",
        "colab": {
          "base_uri": "https://localhost:8080/"
        },
        "outputId": "4d30840a-1c06-474e-99c5-4fc8b5f86656"
      },
      "execution_count": 21,
      "outputs": [
        {
          "output_type": "stream",
          "name": "stdout",
          "text": [
            "success\n"
          ]
        }
      ]
    },
    {
      "cell_type": "code",
      "source": [
        "files11 = m.mega.get_files()"
      ],
      "metadata": {
        "id": "GvBLmZsgMCG2"
      },
      "execution_count": 33,
      "outputs": []
    },
    {
      "cell_type": "code",
      "source": [
        "print(files11)"
      ],
      "metadata": {
        "id": "wUNiBiwdNbCq"
      },
      "execution_count": null,
      "outputs": []
    },
    {
      "cell_type": "code",
      "source": [
        "for i in range(0,10):\n",
        "  str1=\"(\"+str(i)+\")\"\n",
        "  print(str1)\n",
        "  for key in files11:\n",
        "    name1 = files11[key]['a']['n']\n",
        "    if name1.find(str1)>-1:\n",
        "      print(key, \"->\", name1)\n",
        "      l = m.mega.find(name1)\n",
        "      newName1 = name1.replace(str1,'')\n",
        "      if l:\n",
        "        print(' rename ', name1,\"->\",newName1)\n",
        "        m.mega.rename(l, newName1)"
      ],
      "metadata": {
        "id": "pQEYkWQVOAc8"
      },
      "execution_count": null,
      "outputs": []
    },
    {
      "cell_type": "code",
      "source": [
        "files11 = m.mega.get_files()\n",
        "str1 = \" .\"\n",
        "for key in files11:\n",
        "    name1 = files11[key]['a']['n']\n",
        "    if name1.find(str1)>-1:\n",
        "      # print(key, \"->\", name1)\n",
        "      newName2 = name1.replace(str1,'.')\n",
        "      s1 = files11[key]['s']\n",
        "      for key2 in files11:\n",
        "        name2 = files11[key2]['a']['n']\n",
        "        if name2==newName2:\n",
        "          s2 = files11[key2]['s']\n",
        "          if s2!=s1:\n",
        "            print(' compare ', newName2,\"(\",s2,\")<->\",name1,\"(\",s1,\")\")\n",
        "          else:\n",
        "            l = m.mega.find(name1)\n",
        "            if l:\n",
        "              print(' rename ', name1,\"->\",newName2)\n",
        "              m.mega.rename(l, newName1)"
      ],
      "metadata": {
        "id": "0Sj4P0dpSFH_"
      },
      "execution_count": null,
      "outputs": []
    }
  ]
}