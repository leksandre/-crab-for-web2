{
  "cells": [
    {
      "cell_type": "markdown",
      "metadata": {
        "id": "view-in-github",
        "colab_type": "text"
      },
      "source": [
        "<a href=\"https://colab.research.google.com/github/leksandre/-crab-for-web2ipr_book_shop/blob/main/%D0%B4%D0%BB%D1%8F_%D0%BC%D0%BE%D0%B5%D0%B3%D0%BE_Mac_ObjectDetection_with_ImageAI_(RetinaNet_YOLOv3_TinyYOLOv3).ipynb\" target=\"_parent\"><img src=\"https://colab.research.google.com/assets/colab-badge.svg\" alt=\"Open In Colab\"/></a>"
      ]
    },
    {
      "cell_type": "markdown",
      "metadata": {
        "id": "FveKjvz5P79U"
      },
      "source": [
        "#ObjectDetection with ImageAI\n",
        "## Install ImageAI\n",
        "\n",
        "[Object Detection with 10 lines of code](https://towardsdatascience.com/object-detection-with-10-lines-of-code-d6cb4d86f606)\n",
        "\n",
        "[Document](https://imageai.readthedocs.io/en/latest/)"
      ]
    },
    {
      "cell_type": "code",
      "source": [
        "#convert model to h5 with keras-YOLOv3-model-set\n",
        "\n",
        "# after that use fuzy repo to compile valid format\n",
        "\n",
        "# import keras_retinanet.models\n",
        "# model = keras_retinanet.models.backbone('resnet50').retinanet(80)\n",
        "# model.load_weights(model_path, by_name=True)\n",
        "# model.save('/content/retinanet_resnet501111.h5')\n"
      ],
      "metadata": {
        "id": "6-_MaNfKM0Dg"
      },
      "execution_count": null,
      "outputs": []
    },
    {
      "cell_type": "code",
      "execution_count": null,
      "metadata": {
        "id": "-UBDspnGkzCK"
      },
      "outputs": [],
      "source": [
        "#install python 3.8\n",
        "!sudo apt-get update -y\n",
        "!sudo apt-get install python3.8\n",
        "!sudo apt-get install pip\n",
        "\n",
        "#change alternatives\n",
        "!sudo update-alternatives --install /usr/bin/python3 python3 /usr/bin/python3.8 1\n",
        "# !sudo update-alternatives --install /usr/bin/python3 python3 /usr/bin/python3.9 2\n",
        "!apt install python3.8-distutils\n",
        "\n",
        "# #3.9.16"
      ]
    },
    {
      "cell_type": "code",
      "execution_count": null,
      "metadata": {
        "id": "NSWnG5IclLNC"
      },
      "outputs": [],
      "source": [
        "!python3 -V"
      ]
    },
    {
      "cell_type": "code",
      "execution_count": null,
      "metadata": {
        "id": "JpuJwcqQivyJ"
      },
      "outputs": [],
      "source": [
        "!python --version"
      ]
    },
    {
      "cell_type": "code",
      "execution_count": null,
      "metadata": {
        "id": "SzqmRb0ikG8v"
      },
      "outputs": [],
      "source": [
        "!pip uninstall tensorflow -y\n"
      ]
    },
    {
      "cell_type": "code",
      "execution_count": null,
      "metadata": {
        "id": "mtE3bWqZkSBQ"
      },
      "outputs": [],
      "source": [
        "!pip  install \"tensorflow==2.4.0\"\n",
        "!pip  install \"tensorflow-cpu==2.4.0\"\n",
        "!pip  install \"tensorflow-gpu==2.4.0\"\n",
        "!pip  install \"tf-nightly-cpu==2.4.0\"\n",
        "!pip  install \"tf-nightly-gpu==2.4.0\"\n",
        "!pip  install \"tf-nightly==2.4.0\"\n",
        "!pip   install keras==2.4.3 numpy==1.19.3 pillow==7.0.0 scipy==1.4.1 h5py==2.10.0 matplotlib==3.3.2 opencv-python keras-resnet==0.2.0\n",
        "!pip install \"imageai == 2.1.6\""
      ]
    },
    {
      "cell_type": "code",
      "execution_count": null,
      "metadata": {
        "id": "LQey7xeSjdNJ"
      },
      "outputs": [],
      "source": [
        "import tensorflow as tf\n",
        "print(tf.__version__)"
      ]
    },
    {
      "cell_type": "code",
      "execution_count": null,
      "metadata": {
        "id": "M_uqo7YIjA4p"
      },
      "outputs": [],
      "source": [
        "!nvcc --version"
      ]
    },
    {
      "cell_type": "code",
      "execution_count": null,
      "metadata": {
        "id": "fyPJbGdsNmiB"
      },
      "outputs": [],
      "source": [
        "!pip show keras"
      ]
    },
    {
      "cell_type": "code",
      "execution_count": null,
      "metadata": {
        "id": "yzBfzNQONq_Q"
      },
      "outputs": [],
      "source": [
        "!pip show tensorflow"
      ]
    },
    {
      "cell_type": "code",
      "execution_count": null,
      "metadata": {
        "id": "KQ11p-znjG6w"
      },
      "outputs": [],
      "source": [
        "import tensorflow as tf\n",
        "print(tf.__version__)\n",
        "device_name = tf.test.gpu_device_name()\n",
        "if device_name != '/device:GPU:0':\n",
        "  print('GPU device not found')\n",
        "print('Found GPU at: {}'.format(device_name))"
      ]
    },
    {
      "cell_type": "code",
      "execution_count": null,
      "metadata": {
        "id": "lOHS0FMhN4Hy"
      },
      "outputs": [],
      "source": [
        "!wget https://github.com/OlafenwaMoses/ImageAI/releases/download/1.0/resnet50_coco_best_v2.0.1.h5\n",
        "\n",
        "!wget https://github.com/OlafenwaMoses/ImageAI/releases/download/1.0/yolo.h5\n",
        "\n",
        "!wget https://github.com/OlafenwaMoses/ImageAI/releases/download/1.0/yolo-tiny.h5\n"
      ]
    },
    {
      "cell_type": "code",
      "execution_count": null,
      "metadata": {
        "id": "KWjy5yopPJf8"
      },
      "outputs": [],
      "source": [
        "! wget https://blog.keras.io/img/simple-keras-rest-api/dog.jpg\n",
        "!ls"
      ]
    },
    {
      "cell_type": "code",
      "execution_count": null,
      "metadata": {
        "id": "_gfXpwB1Qngi"
      },
      "outputs": [],
      "source": [
        "from PIL import Image\n",
        "Image.open(\"dog.jpg\")"
      ]
    },
    {
      "cell_type": "code",
      "source": [
        "os.environ[\"CUDA_DEVICE_ORDER\"] = \"PCI_BUS_ID\"\n",
        "os.environ[\"CUDA_VISIBLE_DEVICES\"] = \"\""
      ],
      "metadata": {
        "id": "e-ZReD_0josj"
      },
      "execution_count": null,
      "outputs": []
    },
    {
      "cell_type": "markdown",
      "metadata": {
        "id": "yqUVTke7V-Vd"
      },
      "source": [
        "## Object Detection with ImageAI(RetinaNet)"
      ]
    },
    {
      "cell_type": "code",
      "source": [
        "\n",
        "os.environ[\"CUDA_DEVICE_ORDER\"] = \"PCI_BUS_ID\"\n",
        "os.environ[\"CUDA_VISIBLE_DEVICES\"] = \"\"\n",
        "\n",
        "from imageai.Detection import ObjectDetection\n",
        "import os\n",
        "import time\n",
        "execution_path = os.getcwd()\n",
        "retina = ObjectDetection()\n",
        "retina.setModelTypeAsRetinaNet()\n",
        "retina.setModelPath( os.path.join(execution_path , \"resnet50_coco_best_v2.1.0_.h5\"))\n",
        "retina.loadModel()\n",
        "detections = retina.detectObjectsFromImage(input_image=os.path.join(execution_path , \"2image.jpeg\"), output_image_path=os.path.join(execution_path , \"imagenew.jpg\"))\n",
        "\n"
      ],
      "metadata": {
        "id": "PJpRkrbwihRS"
      },
      "execution_count": null,
      "outputs": []
    },
    {
      "cell_type": "code",
      "execution_count": null,
      "metadata": {
        "id": "vc3Zml1_V9X3"
      },
      "outputs": [],
      "source": [
        "from imageai.Detection import ObjectDetection\n",
        "import os\n",
        "import time\n",
        "\n",
        "\n",
        "# from imageai.Detection.Custom import CustomObjectDetection\n",
        "# retina = CustomObjectDetection()\n",
        "\n",
        "execution_path = os.getcwd()\n",
        "\n",
        "retina = ObjectDetection()\n",
        "retina.setModelTypeAsRetinaNet()\n",
        "retina.setModelPath( os.path.join(execution_path , \"yoloMyv3_120000_weights_.h5\"))\n",
        "retina.setModelPath( os.path.join(execution_path , \"yoloMyv3_120000_weights_new.h5\"))\n",
        "retina.setModelPath( os.path.join(execution_path , \"resnet50_coco_03_.h5\"))\n",
        "retina.setModelPath( os.path.join(execution_path , \"resnet50_coco_03_new.h5\"))\n",
        "retina.setModelPath( os.path.join(execution_path , \"resnet50_coco_best_v2.0.1_.h5\"))\n",
        "retina.setModelPath( os.path.join(execution_path , \"resnet50_coco_best_v2.0.1_new.h5\"))\n",
        "retina.setModelPath( os.path.join(execution_path , \"resnet50_coco_best_v2.1.0_.h5\")) # единственно нормально работающая модель\n",
        "retina.setModelPath( os.path.join(execution_path , \"resnet50_coco_best_v2.1.0_new.h5\"))\n",
        "retina.loadModel()"
      ]
    },
    {
      "cell_type": "code",
      "execution_count": null,
      "metadata": {
        "id": "SiDuLzSzWhZm"
      },
      "outputs": [],
      "source": [
        "start = time.time()\n",
        "detections = retina.detectObjectsFromImage(input_image=os.path.join(execution_path , \"2image.jpeg\"), output_image_path=os.path.join(execution_path , \"imagenew.jpg\"))\n",
        "# detections = retina.detectCustomObjectsFromImage(input_image=os.path.join(execution_path , \"2image.jpeg\"), output_image_path=os.path.join(execution_path , \"imagenew.jpg\"))\n",
        "# detections = retina.detectObjectsFromImage(input_image=os.path.join(execution_path , \"dog.jpg\"), output_image_path=os.path.join(execution_path , \"imagenew.jpg\"))\n",
        "print('sec',time.time() - start)\n",
        "for eachObject in detections:\n",
        "    print(eachObject[\"name\"] , \" : \" , eachObject[\"percentage_probability\"] )\n",
        "Image.open(\"imagenew.jpg\")\n"
      ]
    },
    {
      "cell_type": "markdown",
      "metadata": {
        "id": "oM6ZsAITQOYI"
      },
      "source": [
        "## Object Detection with ImageAI(YOLOv3)"
      ]
    },
    {
      "cell_type": "code",
      "execution_count": null,
      "metadata": {
        "id": "Y44FqVoLNl7j"
      },
      "outputs": [],
      "source": [
        "yolo = ObjectDetection()\n",
        "yolo.setModelTypeAsYOLOv3()\n",
        "yolo.setModelPath( os.path.join(execution_path , \"yolo.h5\"))\n"
      ]
    },
    {
      "cell_type": "code",
      "execution_count": null,
      "metadata": {
        "id": "Jo-JivfgSAso"
      },
      "outputs": [],
      "source": [
        "yolo.loadModel()"
      ]
    },
    {
      "cell_type": "code",
      "execution_count": null,
      "metadata": {
        "id": "JdNJLPH6NsgY"
      },
      "outputs": [],
      "source": [
        "start = time.time()\n",
        "detections = yolo.detectObjectsFromImage(input_image=os.path.join(execution_path , \"2image.jpeg\"), output_image_path=os.path.join(execution_path , \"imagenew.jpg\"))\n",
        "print('sec',time.time() - start)\n",
        "for eachObject in detections:\n",
        "    print(eachObject[\"name\"] , \" : \" , eachObject[\"percentage_probability\"] )\n",
        "Image.open(\"imagenew.jpg\")\n"
      ]
    },
    {
      "cell_type": "markdown",
      "metadata": {
        "id": "gEqSq8BFWreh"
      },
      "source": [
        "## Object Detection with ImageAI(TinyYOLOv3)"
      ]
    },
    {
      "cell_type": "code",
      "execution_count": null,
      "metadata": {
        "id": "mdNf-asbVV3X"
      },
      "outputs": [],
      "source": [
        "tiny = ObjectDetection()\n",
        "tiny.setModelTypeAsTinyYOLOv3()\n",
        "tiny.setModelPath( os.path.join(execution_path , \"yoloMyv3_120000_weights_.h5\"))\n",
        "tiny.setModelPath( os.path.join(execution_path , \"yolo-tiny.h5\"))\n"
      ]
    },
    {
      "cell_type": "code",
      "execution_count": null,
      "metadata": {
        "id": "FxvG3OsZSCYb"
      },
      "outputs": [],
      "source": [
        "tiny.loadModel()"
      ]
    },
    {
      "cell_type": "code",
      "execution_count": null,
      "metadata": {
        "id": "UUMxmfZyWwnj"
      },
      "outputs": [],
      "source": [
        "start = time.time()\n",
        "detections = tiny.detectObjectsFromImage(input_image=os.path.join(execution_path , \"2image.jpeg\"), output_image_path=os.path.join(execution_path , \"imagenew.jpg\"))\n",
        "print('sec',time.time() - start)\n",
        "\n",
        "for eachObject in detections:\n",
        "    print(eachObject[\"name\"] , \" : \" , eachObject[\"percentage_probability\"] )\n",
        "Image.open(\"imagenew.jpg\")\n"
      ]
    }
  ],
  "metadata": {
    "colab": {
      "provenance": [],
      "include_colab_link": true
    },
    "kernelspec": {
      "display_name": "Python 3",
      "name": "python3"
    }
  },
  "nbformat": 4,
  "nbformat_minor": 0
}