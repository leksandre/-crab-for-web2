{
  "nbformat": 4,
  "nbformat_minor": 0,
  "metadata": {
    "colab": {
      "provenance": [],
      "include_colab_link": true
    },
    "kernelspec": {
      "name": "python3",
      "display_name": "Python 3"
    },
    "accelerator": "GPU"
  },
  "cells": [
    {
      "cell_type": "markdown",
      "metadata": {
        "id": "view-in-github",
        "colab_type": "text"
      },
      "source": [
        "<a href=\"https://colab.research.google.com/github/leksandre/-crab-for-web2ipr_book_shop/blob/main/mocsTrainYOLOv3ForYoCol(normal_work).ipynb\" target=\"_parent\"><img src=\"https://colab.research.google.com/assets/colab-badge.svg\" alt=\"Open In Colab\"/></a>"
      ]
    },
    {
      "cell_type": "markdown",
      "metadata": {
        "id": "9hLmHrgkdgLA"
      },
      "source": [
        "# Training YOLOv3 From Scratch with Darknet"
      ]
    },
    {
      "cell_type": "code",
      "source": [
        "from google.colab import drive\n",
        "drive.mount('/content/')"
      ],
      "metadata": {
        "colab": {
          "base_uri": "https://localhost:8080/",
          "height": 193
        },
        "id": "j-OPjabVazql",
        "outputId": "300f4834-23fe-4435-80dd-694337593453"
      },
      "execution_count": null,
      "outputs": [
        {
          "output_type": "stream",
          "name": "stdout",
          "text": [
            "Drive already mounted at /content/drive; to attempt to forcibly remount, call drive.mount(\"/content/drive\", force_remount=True).\n"
          ]
        },
        {
          "output_type": "error",
          "ename": "AttributeError",
          "evalue": "module 'google.colab.drive' has no attribute 'unmount'",
          "traceback": [
            "\u001b[0;31m---------------------------------------------------------------------------\u001b[0m",
            "\u001b[0;31mAttributeError\u001b[0m                            Traceback (most recent call last)",
            "\u001b[0;32m<ipython-input-12-c49a73cd4885>\u001b[0m in \u001b[0;36m<cell line: 3>\u001b[0;34m()\u001b[0m\n\u001b[1;32m      1\u001b[0m \u001b[0;32mfrom\u001b[0m \u001b[0mgoogle\u001b[0m\u001b[0;34m.\u001b[0m\u001b[0mcolab\u001b[0m \u001b[0;32mimport\u001b[0m \u001b[0mdrive\u001b[0m\u001b[0;34m\u001b[0m\u001b[0;34m\u001b[0m\u001b[0m\n\u001b[1;32m      2\u001b[0m \u001b[0mdrive\u001b[0m\u001b[0;34m.\u001b[0m\u001b[0mmount\u001b[0m\u001b[0;34m(\u001b[0m\u001b[0;34m'/content/drive'\u001b[0m\u001b[0;34m)\u001b[0m\u001b[0;34m\u001b[0m\u001b[0;34m\u001b[0m\u001b[0m\n\u001b[0;32m----> 3\u001b[0;31m \u001b[0mdrive\u001b[0m\u001b[0;34m.\u001b[0m\u001b[0munmount\u001b[0m\u001b[0;34m(\u001b[0m\u001b[0;34m'/content/drive'\u001b[0m\u001b[0;34m)\u001b[0m\u001b[0;34m\u001b[0m\u001b[0;34m\u001b[0m\u001b[0m\n\u001b[0m",
            "\u001b[0;31mAttributeError\u001b[0m: module 'google.colab.drive' has no attribute 'unmount'"
          ]
        }
      ]
    },
    {
      "cell_type": "code",
      "source": [
        "! cd /content/drive/MyDrive/"
      ],
      "metadata": {
        "id": "t9l8GKZkbSvv"
      },
      "execution_count": null,
      "outputs": []
    },
    {
      "cell_type": "code",
      "source": [
        "! cd /content/drive/MyDrive/mocs_dataset/"
      ],
      "metadata": {
        "id": "7zPw3YhYbdfb"
      },
      "execution_count": null,
      "outputs": []
    },
    {
      "cell_type": "code",
      "source": [
        "%ls ./"
      ],
      "metadata": {
        "colab": {
          "base_uri": "https://localhost:8080/"
        },
        "id": "isoAIh-QbU-M",
        "outputId": "efedb863-adf0-4734-a63d-5f92279769d8"
      },
      "execution_count": null,
      "outputs": [
        {
          "output_type": "stream",
          "name": "stdout",
          "text": [
            "\u001b[0m\u001b[01;34mdrive\u001b[0m/  \u001b[01;34msample_data\u001b[0m/\n"
          ]
        }
      ]
    },
    {
      "cell_type": "code",
      "source": [
        "!pwd"
      ],
      "metadata": {
        "colab": {
          "base_uri": "https://localhost:8080/"
        },
        "id": "Ao6Ajv2kb0Un",
        "outputId": "ba3a36e2-f619-43ae-830e-a1f7c9c0c630"
      },
      "execution_count": null,
      "outputs": [
        {
          "output_type": "stream",
          "name": "stdout",
          "text": [
            "/content\n"
          ]
        }
      ]
    },
    {
      "cell_type": "code",
      "metadata": {
        "id": "RYxndAs_dYid",
        "colab": {
          "base_uri": "https://localhost:8080/"
        },
        "outputId": "2f49f3b4-f445-4351-9d52-523d35a409ae"
      },
      "source": [
        "!git clone https://github.com/Oskop/YoCol"
      ],
      "execution_count": null,
      "outputs": [
        {
          "output_type": "stream",
          "name": "stdout",
          "text": [
            "Cloning into 'YoCol'...\n",
            "remote: Enumerating objects: 1172, done.\u001b[K\n",
            "remote: Total 1172 (delta 0), reused 0 (delta 0), pack-reused 1172\u001b[K\n",
            "Receiving objects: 100% (1172/1172), 11.32 MiB | 26.96 MiB/s, done.\n",
            "Resolving deltas: 100% (281/281), done.\n"
          ]
        }
      ]
    },
    {
      "cell_type": "markdown",
      "metadata": {
        "id": "A-1xgy1QfYZw"
      },
      "source": [
        "## Setup Environment For Darknet"
      ]
    },
    {
      "cell_type": "markdown",
      "metadata": {
        "id": "AkUV_R7A6NgM"
      },
      "source": [
        "Since Google Colab has pre-installed CUDA 10, then we can skip CUDA configuration and go to next step"
      ]
    },
    {
      "cell_type": "code",
      "metadata": {
        "id": "w3bQuj4vemVo",
        "colab": {
          "base_uri": "https://localhost:8080/"
        },
        "outputId": "8541c358-4531-4076-f625-8914498afb90"
      },
      "source": [
        "#Installing compilers\n",
        "!apt install gcc-5 g++-5 -y"
      ],
      "execution_count": null,
      "outputs": [
        {
          "output_type": "stream",
          "name": "stdout",
          "text": [
            "Reading package lists... Done\n",
            "Building dependency tree... Done\n",
            "Reading state information... Done\n",
            "Package g++-5 is not available, but is referred to by another package.\n",
            "This may mean that the package is missing, has been obsoleted, or\n",
            "is only available from another source\n",
            "However the following packages replace it:\n",
            "  gcc-10-test-results gcc-9-test-results gcc-12-test-results gcc-11-test-results\n",
            "\n",
            "\u001b[1;31mE: \u001b[0mUnable to locate package gcc-5\u001b[0m\n",
            "\u001b[1;31mE: \u001b[0mPackage 'g++-5' has no installation candidate\u001b[0m\n"
          ]
        }
      ]
    },
    {
      "cell_type": "code",
      "metadata": {
        "id": "O3QDRKB0g9W3"
      },
      "source": [
        "!ln -s /usr/bin/gcc-5 /usr/local/cuda/bin/gcc\n",
        "!ln -s /usr/bin/g++-5 /usr/local/cuda/bin/g++"
      ],
      "execution_count": null,
      "outputs": []
    },
    {
      "cell_type": "markdown",
      "source": [],
      "metadata": {
        "id": "EfBYVeXGG4CI"
      }
    },
    {
      "cell_type": "code",
      "metadata": {
        "id": "msnPo5t-hEo1",
        "colab": {
          "base_uri": "https://localhost:8080/"
        },
        "outputId": "71ca8cd8-15dc-4b58-c36e-f6eb34a64686"
      },
      "source": [
        "#Changing the variables to include OpenCV and GPU in the Makefile\n",
        "! cd /content/YoCol/darknet/\n",
        "!sed -i 's/OPENCV=0/OPENCV=1/g' Makefile\n",
        "!sed -i 's/GPU=0/GPU=1/g' Makefile\n",
        "#!sed -i 's/CUDNN=0/CUDNN=1/g' Makefile if you want to use cudnn"
      ],
      "execution_count": null,
      "outputs": [
        {
          "output_type": "stream",
          "name": "stdout",
          "text": [
            "sed: can't read Makefile: No such file or directory\n",
            "sed: can't read Makefile: No such file or directory\n"
          ]
        }
      ]
    },
    {
      "cell_type": "code",
      "metadata": {
        "id": "jd1BU4QfhMKe",
        "colab": {
          "base_uri": "https://localhost:8080/"
        },
        "outputId": "75276a2e-3c6a-42ab-9eda-3da57b4ca9e1"
      },
      "source": [
        "# Apparently we need to install this so that OpenCV can work without any issues\n",
        "# when we are making the file\n",
        "!apt-get install libopencv-dev"
      ],
      "execution_count": null,
      "outputs": [
        {
          "output_type": "stream",
          "name": "stdout",
          "text": [
            "Reading package lists... Done\n",
            "Building dependency tree... Done\n",
            "Reading state information... Done\n",
            "libopencv-dev is already the newest version (4.5.4+dfsg-9ubuntu4+jammy0).\n",
            "0 upgraded, 0 newly installed, 0 to remove and 35 not upgraded.\n"
          ]
        }
      ]
    },
    {
      "cell_type": "markdown",
      "metadata": {
        "id": "mibkWf-0h4BD"
      },
      "source": [
        "## Get Dataset"
      ]
    },
    {
      "cell_type": "markdown",
      "metadata": {
        "id": "W8Ju4jVPAeAE"
      },
      "source": [
        "### Download and Extract Challenge Dataset"
      ]
    },
    {
      "cell_type": "markdown",
      "metadata": {
        "id": "gEBGN2m_svDb"
      },
      "source": [
        "Downloading and extracting Standford car dataset and extracting to /content"
      ]
    },
    {
      "cell_type": "code",
      "metadata": {
        "id": "6y1Chofrh7ZV",
        "colab": {
          "base_uri": "https://localhost:8080/"
        },
        "outputId": "eb93b5f3-cd81-4669-8607-6e364853e767"
      },
      "source": [
        "%cd /content\n",
        "!wget http://imagenet.stanford.edu/internal/car196/cars_train.tgz\n",
        "!wget http://imagenet.stanford.edu/internal/car196/cars_test.tgz\n",
        "!wget https://ai.stanford.edu/~jkrause/cars/car_devkit.tgz\n",
        "!tar zxf car_devkit.tgz\n",
        "!tar zxf cars_train.tgz\n",
        "!tar zxf cars_test.tgz\n",
        "!wget http://imagenet.stanford.edu/internal/car196/cars_test_annos_withlabels.mat -O devkit/cars_test_annos_withlabels.mat"
      ],
      "execution_count": null,
      "outputs": [
        {
          "output_type": "stream",
          "name": "stdout",
          "text": [
            "/content\n",
            "--2024-03-01 10:40:15--  http://imagenet.stanford.edu/internal/car196/cars_train.tgz\n",
            "Resolving imagenet.stanford.edu (imagenet.stanford.edu)... 171.64.68.16\n",
            "Connecting to imagenet.stanford.edu (imagenet.stanford.edu)|171.64.68.16|:80... connected.\n",
            "HTTP request sent, awaiting response... 301 Moved Permanently\n",
            "Location: https://image-net.org/internal/car196/cars_train.tgz [following]\n",
            "--2024-03-01 10:40:15--  https://image-net.org/internal/car196/cars_train.tgz\n",
            "Resolving image-net.org (image-net.org)... 171.64.68.16\n",
            "Connecting to image-net.org (image-net.org)|171.64.68.16|:443... connected.\n",
            "HTTP request sent, awaiting response... 404 Not Found\n",
            "2024-03-01 10:40:16 ERROR 404: Not Found.\n",
            "\n",
            "--2024-03-01 10:40:16--  http://imagenet.stanford.edu/internal/car196/cars_test.tgz\n",
            "Resolving imagenet.stanford.edu (imagenet.stanford.edu)... 171.64.68.16\n",
            "Connecting to imagenet.stanford.edu (imagenet.stanford.edu)|171.64.68.16|:80... connected.\n",
            "HTTP request sent, awaiting response... 301 Moved Permanently\n",
            "Location: https://image-net.org/internal/car196/cars_test.tgz [following]\n",
            "--2024-03-01 10:40:16--  https://image-net.org/internal/car196/cars_test.tgz\n",
            "Resolving image-net.org (image-net.org)... 171.64.68.16\n",
            "Connecting to image-net.org (image-net.org)|171.64.68.16|:443... connected.\n",
            "HTTP request sent, awaiting response... 404 Not Found\n",
            "2024-03-01 10:40:16 ERROR 404: Not Found.\n",
            "\n",
            "--2024-03-01 10:40:16--  https://ai.stanford.edu/~jkrause/cars/car_devkit.tgz\n",
            "Resolving ai.stanford.edu (ai.stanford.edu)... 171.64.68.10\n",
            "Connecting to ai.stanford.edu (ai.stanford.edu)|171.64.68.10|:443... connected.\n",
            "HTTP request sent, awaiting response... 404 Not Found\n",
            "2024-03-01 10:40:17 ERROR 404: Not Found.\n",
            "\n",
            "tar (child): car_devkit.tgz: Cannot open: No such file or directory\n",
            "tar (child): Error is not recoverable: exiting now\n",
            "tar: Child returned status 2\n",
            "tar: Error is not recoverable: exiting now\n",
            "tar (child): cars_train.tgz: Cannot open: No such file or directory\n",
            "tar (child): Error is not recoverable: exiting now\n",
            "tar: Child returned status 2\n",
            "tar: Error is not recoverable: exiting now\n",
            "tar (child): cars_test.tgz: Cannot open: No such file or directory\n",
            "tar (child): Error is not recoverable: exiting now\n",
            "tar: Child returned status 2\n",
            "tar: Error is not recoverable: exiting now\n",
            "devkit/cars_test_annos_withlabels.mat: No such file or directory\n"
          ]
        }
      ]
    },
    {
      "cell_type": "markdown",
      "metadata": {
        "id": "-RbpEdd8uJ5W"
      },
      "source": [
        "###Download and Extract COCO Dataset"
      ]
    },
    {
      "cell_type": "markdown",
      "metadata": {
        "id": "_Anx1Bn0nu7p"
      },
      "source": [
        "Include COCO dataset that handled with get_coco_dataset.sh script so we don't need to convert label format from COCO format to YOLOv3 format. This step is an optional so you can skip if you think there's no need to including COCO dataset into training process. But if you not include COCO dataset, then you must use yolov3.weights from official site to continue the training process because the number of classes for this config is including COCO 80 classes"
      ]
    },
    {
      "cell_type": "code",
      "metadata": {
        "id": "qKiDc5IqqUC-",
        "colab": {
          "base_uri": "https://localhost:8080/"
        },
        "outputId": "a7da1bf4-51a5-4302-cade-ed701f99986e"
      },
      "source": [
        "%cd /content/YoCol/darknet\n",
        "!sh scripts/get_coco_dataset.sh"
      ],
      "execution_count": null,
      "outputs": [
        {
          "output_type": "stream",
          "name": "stdout",
          "text": [
            "[Errno 2] No such file or directory: '/content/YoCol/darknet'\n",
            "/content\n",
            "sh: 0: cannot open scripts/get_coco_dataset.sh: No such file\n"
          ]
        }
      ]
    },
    {
      "cell_type": "code",
      "source": [
        "from google.colab import drive\n",
        "drive.mount('/content/drive')"
      ],
      "metadata": {
        "colab": {
          "base_uri": "https://localhost:8080/"
        },
        "id": "PB3mcJJqIiWE",
        "outputId": "34028d93-7f7f-4330-9e5e-e6ef7e5998a0"
      },
      "execution_count": null,
      "outputs": [
        {
          "output_type": "stream",
          "name": "stdout",
          "text": [
            "Drive already mounted at /content/drive; to attempt to forcibly remount, call drive.mount(\"/content/drive\", force_remount=True).\n"
          ]
        }
      ]
    },
    {
      "cell_type": "code",
      "metadata": {
        "id": "J793KmInh2gP",
        "colab": {
          "base_uri": "https://localhost:8080/"
        },
        "outputId": "10efe186-7928-4706-ba07-ab75176c2ada"
      },
      "source": [
        "%cd /content/YoCol/darknet/coco\n",
        "!paste <(awk \"{pri!nt \\\"$PWD\\\"}\" <5k.part) 5k.part | tr -d '\\t' > 5k.txt\n",
        "!paste <(awk \"{print \\\"$PWD\\\"}\" <trainvalno5k.part) trainvalno5k.part | tr -d '\\t' > trainvalno5k.txt\n",
        "%cd /content"
      ],
      "execution_count": null,
      "outputs": [
        {
          "output_type": "stream",
          "name": "stdout",
          "text": [
            "[Errno 2] No such file or directory: '/content/YoCol/darknet/coco'\n",
            "/content\n",
            "paste: 5k.part: No such file or directory\n",
            "/bin/bash: line 1: 5k.part: No such file or directory\n",
            "paste: trainvalno5k.part: No such file or directory\n",
            "/bin/bash: line 1: trainvalno5k.part: No such file or directory\n",
            "/content\n"
          ]
        }
      ]
    },
    {
      "cell_type": "markdown",
      "metadata": {
        "id": "D4jRPnT9kfE7"
      },
      "source": [
        "### Labeling"
      ]
    },
    {
      "cell_type": "markdown",
      "metadata": {
        "id": "Bvnc7yMSSxdg"
      },
      "source": [
        "We load the MATLAB annotations file first, then adding to a new dictionary that store both the Standford labels and COCO labels."
      ]
    },
    {
      "cell_type": "code",
      "metadata": {
        "id": "7csAF3-adjBr",
        "colab": {
          "base_uri": "https://localhost:8080/",
          "height": 426
        },
        "outputId": "483e5c14-a306-429a-a333-322613e6f35c"
      },
      "source": [
        "%cd /content\n",
        "import scipy.io as scio\n",
        "import os\n",
        "import cv2\n",
        "matlab_train_label = scio.loadmat('devkit/cars_train_annos.mat')\n",
        "matlab_test_label = scio.loadmat('devkit/cars_test_annos_withlabels.mat')\n",
        "YOLO_CLASS = 79\n",
        "TRAIN_IMAGE_PATH = '/content/cars_train/'\n",
        "TEST_IMAGE_PATH = '/content/cars_test/'"
      ],
      "execution_count": null,
      "outputs": [
        {
          "output_type": "stream",
          "name": "stdout",
          "text": [
            "/content\n"
          ]
        },
        {
          "output_type": "error",
          "ename": "FileNotFoundError",
          "evalue": "[Errno 2] No such file or directory: 'devkit/cars_train_annos.mat'",
          "traceback": [
            "\u001b[0;31m---------------------------------------------------------------------------\u001b[0m",
            "\u001b[0;31mFileNotFoundError\u001b[0m                         Traceback (most recent call last)",
            "\u001b[0;32m/usr/local/lib/python3.10/dist-packages/scipy/io/matlab/_mio.py\u001b[0m in \u001b[0;36m_open_file\u001b[0;34m(file_like, appendmat, mode)\u001b[0m\n\u001b[1;32m     38\u001b[0m     \u001b[0;32mtry\u001b[0m\u001b[0;34m:\u001b[0m\u001b[0;34m\u001b[0m\u001b[0;34m\u001b[0m\u001b[0m\n\u001b[0;32m---> 39\u001b[0;31m         \u001b[0;32mreturn\u001b[0m \u001b[0mopen\u001b[0m\u001b[0;34m(\u001b[0m\u001b[0mfile_like\u001b[0m\u001b[0;34m,\u001b[0m \u001b[0mmode\u001b[0m\u001b[0;34m)\u001b[0m\u001b[0;34m,\u001b[0m \u001b[0;32mTrue\u001b[0m\u001b[0;34m\u001b[0m\u001b[0;34m\u001b[0m\u001b[0m\n\u001b[0m\u001b[1;32m     40\u001b[0m     \u001b[0;32mexcept\u001b[0m \u001b[0mOSError\u001b[0m \u001b[0;32mas\u001b[0m \u001b[0me\u001b[0m\u001b[0;34m:\u001b[0m\u001b[0;34m\u001b[0m\u001b[0;34m\u001b[0m\u001b[0m\n",
            "\u001b[0;31mFileNotFoundError\u001b[0m: [Errno 2] No such file or directory: 'devkit/cars_train_annos.mat'",
            "\nDuring handling of the above exception, another exception occurred:\n",
            "\u001b[0;31mFileNotFoundError\u001b[0m                         Traceback (most recent call last)",
            "\u001b[0;32m<ipython-input-17-8c21e7a4e4af>\u001b[0m in \u001b[0;36m<cell line: 5>\u001b[0;34m()\u001b[0m\n\u001b[1;32m      3\u001b[0m \u001b[0;32mimport\u001b[0m \u001b[0mos\u001b[0m\u001b[0;34m\u001b[0m\u001b[0;34m\u001b[0m\u001b[0m\n\u001b[1;32m      4\u001b[0m \u001b[0;32mimport\u001b[0m \u001b[0mcv2\u001b[0m\u001b[0;34m\u001b[0m\u001b[0;34m\u001b[0m\u001b[0m\n\u001b[0;32m----> 5\u001b[0;31m \u001b[0mmatlab_train_label\u001b[0m \u001b[0;34m=\u001b[0m \u001b[0mscio\u001b[0m\u001b[0;34m.\u001b[0m\u001b[0mloadmat\u001b[0m\u001b[0;34m(\u001b[0m\u001b[0;34m'devkit/cars_train_annos.mat'\u001b[0m\u001b[0;34m)\u001b[0m\u001b[0;34m\u001b[0m\u001b[0;34m\u001b[0m\u001b[0m\n\u001b[0m\u001b[1;32m      6\u001b[0m \u001b[0mmatlab_test_label\u001b[0m \u001b[0;34m=\u001b[0m \u001b[0mscio\u001b[0m\u001b[0;34m.\u001b[0m\u001b[0mloadmat\u001b[0m\u001b[0;34m(\u001b[0m\u001b[0;34m'devkit/cars_test_annos_withlabels.mat'\u001b[0m\u001b[0;34m)\u001b[0m\u001b[0;34m\u001b[0m\u001b[0;34m\u001b[0m\u001b[0m\n\u001b[1;32m      7\u001b[0m \u001b[0mYOLO_CLASS\u001b[0m \u001b[0;34m=\u001b[0m \u001b[0;36m79\u001b[0m\u001b[0;34m\u001b[0m\u001b[0;34m\u001b[0m\u001b[0m\n",
            "\u001b[0;32m/usr/local/lib/python3.10/dist-packages/scipy/io/matlab/_mio.py\u001b[0m in \u001b[0;36mloadmat\u001b[0;34m(file_name, mdict, appendmat, **kwargs)\u001b[0m\n\u001b[1;32m    223\u001b[0m     \"\"\"\n\u001b[1;32m    224\u001b[0m     \u001b[0mvariable_names\u001b[0m \u001b[0;34m=\u001b[0m \u001b[0mkwargs\u001b[0m\u001b[0;34m.\u001b[0m\u001b[0mpop\u001b[0m\u001b[0;34m(\u001b[0m\u001b[0;34m'variable_names'\u001b[0m\u001b[0;34m,\u001b[0m \u001b[0;32mNone\u001b[0m\u001b[0;34m)\u001b[0m\u001b[0;34m\u001b[0m\u001b[0;34m\u001b[0m\u001b[0m\n\u001b[0;32m--> 225\u001b[0;31m     \u001b[0;32mwith\u001b[0m \u001b[0m_open_file_context\u001b[0m\u001b[0;34m(\u001b[0m\u001b[0mfile_name\u001b[0m\u001b[0;34m,\u001b[0m \u001b[0mappendmat\u001b[0m\u001b[0;34m)\u001b[0m \u001b[0;32mas\u001b[0m \u001b[0mf\u001b[0m\u001b[0;34m:\u001b[0m\u001b[0;34m\u001b[0m\u001b[0;34m\u001b[0m\u001b[0m\n\u001b[0m\u001b[1;32m    226\u001b[0m         \u001b[0mMR\u001b[0m\u001b[0;34m,\u001b[0m \u001b[0m_\u001b[0m \u001b[0;34m=\u001b[0m \u001b[0mmat_reader_factory\u001b[0m\u001b[0;34m(\u001b[0m\u001b[0mf\u001b[0m\u001b[0;34m,\u001b[0m \u001b[0;34m**\u001b[0m\u001b[0mkwargs\u001b[0m\u001b[0;34m)\u001b[0m\u001b[0;34m\u001b[0m\u001b[0;34m\u001b[0m\u001b[0m\n\u001b[1;32m    227\u001b[0m         \u001b[0mmatfile_dict\u001b[0m \u001b[0;34m=\u001b[0m \u001b[0mMR\u001b[0m\u001b[0;34m.\u001b[0m\u001b[0mget_variables\u001b[0m\u001b[0;34m(\u001b[0m\u001b[0mvariable_names\u001b[0m\u001b[0;34m)\u001b[0m\u001b[0;34m\u001b[0m\u001b[0;34m\u001b[0m\u001b[0m\n",
            "\u001b[0;32m/usr/lib/python3.10/contextlib.py\u001b[0m in \u001b[0;36m__enter__\u001b[0;34m(self)\u001b[0m\n\u001b[1;32m    133\u001b[0m         \u001b[0;32mdel\u001b[0m \u001b[0mself\u001b[0m\u001b[0;34m.\u001b[0m\u001b[0margs\u001b[0m\u001b[0;34m,\u001b[0m \u001b[0mself\u001b[0m\u001b[0;34m.\u001b[0m\u001b[0mkwds\u001b[0m\u001b[0;34m,\u001b[0m \u001b[0mself\u001b[0m\u001b[0;34m.\u001b[0m\u001b[0mfunc\u001b[0m\u001b[0;34m\u001b[0m\u001b[0;34m\u001b[0m\u001b[0m\n\u001b[1;32m    134\u001b[0m         \u001b[0;32mtry\u001b[0m\u001b[0;34m:\u001b[0m\u001b[0;34m\u001b[0m\u001b[0;34m\u001b[0m\u001b[0m\n\u001b[0;32m--> 135\u001b[0;31m             \u001b[0;32mreturn\u001b[0m \u001b[0mnext\u001b[0m\u001b[0;34m(\u001b[0m\u001b[0mself\u001b[0m\u001b[0;34m.\u001b[0m\u001b[0mgen\u001b[0m\u001b[0;34m)\u001b[0m\u001b[0;34m\u001b[0m\u001b[0;34m\u001b[0m\u001b[0m\n\u001b[0m\u001b[1;32m    136\u001b[0m         \u001b[0;32mexcept\u001b[0m \u001b[0mStopIteration\u001b[0m\u001b[0;34m:\u001b[0m\u001b[0;34m\u001b[0m\u001b[0;34m\u001b[0m\u001b[0m\n\u001b[1;32m    137\u001b[0m             \u001b[0;32mraise\u001b[0m \u001b[0mRuntimeError\u001b[0m\u001b[0;34m(\u001b[0m\u001b[0;34m\"generator didn't yield\"\u001b[0m\u001b[0;34m)\u001b[0m \u001b[0;32mfrom\u001b[0m \u001b[0;32mNone\u001b[0m\u001b[0;34m\u001b[0m\u001b[0;34m\u001b[0m\u001b[0m\n",
            "\u001b[0;32m/usr/local/lib/python3.10/dist-packages/scipy/io/matlab/_mio.py\u001b[0m in \u001b[0;36m_open_file_context\u001b[0;34m(file_like, appendmat, mode)\u001b[0m\n\u001b[1;32m     15\u001b[0m \u001b[0;34m@\u001b[0m\u001b[0mcontextmanager\u001b[0m\u001b[0;34m\u001b[0m\u001b[0;34m\u001b[0m\u001b[0m\n\u001b[1;32m     16\u001b[0m \u001b[0;32mdef\u001b[0m \u001b[0m_open_file_context\u001b[0m\u001b[0;34m(\u001b[0m\u001b[0mfile_like\u001b[0m\u001b[0;34m,\u001b[0m \u001b[0mappendmat\u001b[0m\u001b[0;34m,\u001b[0m \u001b[0mmode\u001b[0m\u001b[0;34m=\u001b[0m\u001b[0;34m'rb'\u001b[0m\u001b[0;34m)\u001b[0m\u001b[0;34m:\u001b[0m\u001b[0;34m\u001b[0m\u001b[0;34m\u001b[0m\u001b[0m\n\u001b[0;32m---> 17\u001b[0;31m     \u001b[0mf\u001b[0m\u001b[0;34m,\u001b[0m \u001b[0mopened\u001b[0m \u001b[0;34m=\u001b[0m \u001b[0m_open_file\u001b[0m\u001b[0;34m(\u001b[0m\u001b[0mfile_like\u001b[0m\u001b[0;34m,\u001b[0m \u001b[0mappendmat\u001b[0m\u001b[0;34m,\u001b[0m \u001b[0mmode\u001b[0m\u001b[0;34m)\u001b[0m\u001b[0;34m\u001b[0m\u001b[0;34m\u001b[0m\u001b[0m\n\u001b[0m\u001b[1;32m     18\u001b[0m     \u001b[0;32mtry\u001b[0m\u001b[0;34m:\u001b[0m\u001b[0;34m\u001b[0m\u001b[0;34m\u001b[0m\u001b[0m\n\u001b[1;32m     19\u001b[0m         \u001b[0;32myield\u001b[0m \u001b[0mf\u001b[0m\u001b[0;34m\u001b[0m\u001b[0;34m\u001b[0m\u001b[0m\n",
            "\u001b[0;32m/usr/local/lib/python3.10/dist-packages/scipy/io/matlab/_mio.py\u001b[0m in \u001b[0;36m_open_file\u001b[0;34m(file_like, appendmat, mode)\u001b[0m\n\u001b[1;32m     43\u001b[0m             \u001b[0;32mif\u001b[0m \u001b[0mappendmat\u001b[0m \u001b[0;32mand\u001b[0m \u001b[0;32mnot\u001b[0m \u001b[0mfile_like\u001b[0m\u001b[0;34m.\u001b[0m\u001b[0mendswith\u001b[0m\u001b[0;34m(\u001b[0m\u001b[0;34m'.mat'\u001b[0m\u001b[0;34m)\u001b[0m\u001b[0;34m:\u001b[0m\u001b[0;34m\u001b[0m\u001b[0;34m\u001b[0m\u001b[0m\n\u001b[1;32m     44\u001b[0m                 \u001b[0mfile_like\u001b[0m \u001b[0;34m+=\u001b[0m \u001b[0;34m'.mat'\u001b[0m\u001b[0;34m\u001b[0m\u001b[0;34m\u001b[0m\u001b[0m\n\u001b[0;32m---> 45\u001b[0;31m             \u001b[0;32mreturn\u001b[0m \u001b[0mopen\u001b[0m\u001b[0;34m(\u001b[0m\u001b[0mfile_like\u001b[0m\u001b[0;34m,\u001b[0m \u001b[0mmode\u001b[0m\u001b[0;34m)\u001b[0m\u001b[0;34m,\u001b[0m \u001b[0;32mTrue\u001b[0m\u001b[0;34m\u001b[0m\u001b[0;34m\u001b[0m\u001b[0m\n\u001b[0m\u001b[1;32m     46\u001b[0m         \u001b[0;32melse\u001b[0m\u001b[0;34m:\u001b[0m\u001b[0;34m\u001b[0m\u001b[0;34m\u001b[0m\u001b[0m\n\u001b[1;32m     47\u001b[0m             raise OSError(\n",
            "\u001b[0;31mFileNotFoundError\u001b[0m: [Errno 2] No such file or directory: 'devkit/cars_train_annos.mat'"
          ]
        }
      ]
    },
    {
      "cell_type": "code",
      "metadata": {
        "id": "BkHxOlv4To5C"
      },
      "source": [
        "# Store train labels data to another list for easy calling data\n",
        "file_names_train = matlab_train_label['annotations']['fname'][0]\n",
        "obj_classes_train = matlab_train_label['annotations']['class'][0]\n",
        "bboxes_x1_train = matlab_train_label['annotations']['bbox_x1'][0]\n",
        "bboxes_x2_train = matlab_train_label['annotations']['bbox_x2'][0]\n",
        "bboxes_y1_train = matlab_train_label['annotations']['bbox_y1'][0]\n",
        "bboxes_y2_train = matlab_train_label['annotations']['bbox_y2'][0]"
      ],
      "execution_count": null,
      "outputs": []
    },
    {
      "cell_type": "code",
      "metadata": {
        "id": "7V0lEM85Tpr5"
      },
      "source": [
        "# Store test labels data to another list for easy calling data\n",
        "file_names_test = matlab_test_label['annotations']['fname'][0]\n",
        "obj_classes_test = matlab_test_label['annotations']['class'][0]\n",
        "bboxes_x1_test = matlab_test_label['annotations']['bbox_x1'][0]\n",
        "bboxes_x2_test = matlab_test_label['annotations']['bbox_x2'][0]\n",
        "bboxes_y1_test = matlab_test_label['annotations']['bbox_y1'][0]\n",
        "bboxes_y2_test = matlab_test_label['annotations']['bbox_y2'][0]"
      ],
      "execution_count": null,
      "outputs": []
    },
    {
      "cell_type": "code",
      "metadata": {
        "id": "rREnElU5kqGk"
      },
      "source": [
        "# load labels that i've already annotate to train and test\n",
        "# standford images with YOLOv3 (contain 80 classes of COCO classes,\n",
        "# 196 classes from Sandford classes are not include in this data.json file)\n",
        "import json\n",
        "cars_make_model_label = open('/content/YoCol/data.json', 'r')\n",
        "standford_label = json.load(cars_make_model_label)"
      ],
      "execution_count": null,
      "outputs": []
    },
    {
      "cell_type": "code",
      "metadata": {
        "id": "yiKWCM45TXar"
      },
      "source": [
        "# Initialize dictionary that will contain all label from both labels data\n",
        "for names in standford_label:\n",
        "  all_label[names] = []"
      ],
      "execution_count": null,
      "outputs": []
    },
    {
      "cell_type": "code",
      "metadata": {
        "id": "1-VBmD_-VmBO"
      },
      "source": [
        "# Changing test label file name from \"file_names_test\" list to adjust\n",
        "# the key format from data.json\n",
        "for name in file_names_test:\n",
        "  for file_name in name:\n",
        "    if (int(file_name.split('.')[0])+8144) < 10000:\n",
        "      new_name = '0' + str(int(file_name.split('.')[0]) + 8144) + '.jpg'\n",
        "      name[0] = new_name\n",
        "      os.rename(TEST_IMAGE_PATH + file_name, TEST_IMAGE_PATH + new_name)\n",
        "    else:\n",
        "      new_name = str(int(file_name.split('.')[0]) + 8144) + '.jpg'\n",
        "      name[0] = new_name\n",
        "      os.rename(TEST_IMAGE_PATH + file_name, TEST_IMAGE_PATH + new_name)"
      ],
      "execution_count": null,
      "outputs": []
    },
    {
      "cell_type": "code",
      "metadata": {
        "id": "mbfS4z3nRdyb"
      },
      "source": [
        "# Looping into train labels data and change its format to YOLO annotation format\n",
        "for (i, name) in enumerate(file_names_train):\n",
        "  file_name = name[0]\n",
        "  image = cv2.imread(TRAIN_IMAGE_PATH + file_name)\n",
        "  height = image.shape[0]\n",
        "  width = image.shape[1]\n",
        "  if image.shape[1] >= 300:\n",
        "      obj_class = str(obj_classes[i][0][0] + YOLO_CLASS)\n",
        "      x1 = float(bboxes_x1_train[i][0])\n",
        "      x2 = float(bboxes_x2_train[i][0])\n",
        "      y1 = float(bboxes_y1_train[i][0])\n",
        "      y2 = float(bboxes_y2_train[i][0])\n",
        "      x_center = str(((x2-x1) / 2) / width)\n",
        "      y_center = str(((y2-y1) / 2) / height)\n",
        "      obj_width = str((x2-x1) / width)\n",
        "      obj_height = str((y2-y1) / height)\n",
        "      all_label[file_name].append(obj_class + ' ' + x_center + ' ' + y_center +\n",
        "                                  ' ' + obj_width + ' ' + obj_height)"
      ],
      "execution_count": null,
      "outputs": []
    },
    {
      "cell_type": "code",
      "metadata": {
        "id": "vM8gBLFtR5kp"
      },
      "source": [
        "# Looping into test labels data and change its format to YOLO annotation format\n",
        "for (i, name) in enumerate(file_names_test):\n",
        "  file_name2 = name[0]\n",
        "  image = cv2.imread(TEST_IMAGE_PATH + file_name2)\n",
        "  height = image.shape[0]\n",
        "  width = image.shape[1]\n",
        "  if image.shape[1] >= 300:\n",
        "      obj_class = str(obj_classes[i][0][0] + YOLO_CLASS)\n",
        "      x1 = float(bboxes_x1_test[i][0])\n",
        "      x2 = float(bboxes_x2_test[i][0])\n",
        "      y1 = float(bboxes_y1_test[i][0])\n",
        "      y2 = float(bboxes_y2_test[i][0])\n",
        "      x_center = str(((x2-x1) / 2) / width)\n",
        "      y_center = str(((y2-y1) / 2) / height)\n",
        "      obj_width = str((x2-x1) / width)\n",
        "      obj_height = str((y2-y1) / height)\n",
        "      all_label[file_name2].append(obj_class + ' ' + x_center + ' ' + y_center +\n",
        "                                  ' ' + obj_width + ' ' + obj_height)"
      ],
      "execution_count": null,
      "outputs": []
    },
    {
      "cell_type": "code",
      "metadata": {
        "id": "5XhDtBL8SV9G"
      },
      "source": [
        "# Loop over standford_label and adjust annotation format to YOLO format\n",
        "import cv2\n",
        "for file_name in standford_label:\n",
        "#   if file_name in train_file_directory:\n",
        "  for bbox in standford_label[file_name]:\n",
        "    image = cv2.imread(TRAIN_IMAGE_PATH + file_name)\n",
        "    height = image.shape[0]\n",
        "    width = image.shape[1]\n",
        "    if bbox[0] < 0:\n",
        "      left = 0\n",
        "    else:\n",
        "      left = bbox[0]\n",
        "    if bbox[1] < 0:\n",
        "      top = 0\n",
        "    else:\n",
        "      top = bbox[1]\n",
        "    if bbox[2] < 0:\n",
        "      right = 1\n",
        "    else:\n",
        "      right = bbox[2]\n",
        "    if bbox[3] < 0:\n",
        "      bottom = 1\n",
        "    else:\n",
        "      bottom = bbox[3]\n",
        "    x_center = str(((right - left) / 2) / width)\n",
        "    y_center = str(((bottom - top) / 2) / height)\n",
        "    obj_width = str((right - left) / width)\n",
        "    obj_height = str((bottom - top) / height)\n",
        "    obj_class = str(bbox[4])\n",
        "    all_label[file_name].append(obj_class + ' ' + x_center + ' ' + y_center\n",
        "                                + ' ' + obj_width + ' ' + obj_height)"
      ],
      "execution_count": null,
      "outputs": []
    },
    {
      "cell_type": "markdown",
      "metadata": {
        "id": "-DAZ_xme67Zs"
      },
      "source": [
        "Then we move COCO Training and Validation images and its labels into Standford Images Directory. Labels data are moved to image directory because darknet will detect our label in same directory as images"
      ]
    },
    {
      "cell_type": "code",
      "metadata": {
        "id": "01S3xkKoz73X"
      },
      "source": [
        "# Moving COCO Images into Standford Images Directory\n",
        "!mv /content/YoCol/darknet/coco/images/train2014/* /content/cars_train\n",
        "!mv /content/YoCol/darknet/coco/images/val2014/* /content/casr_test"
      ],
      "execution_count": null,
      "outputs": []
    },
    {
      "cell_type": "code",
      "metadata": {
        "id": "Ti1b8NM35QF2"
      },
      "source": [
        "# # Moving COCO Labels into Standford Images Directory\n",
        "!mv /content/YoCol/darknet/coco/labels/train2014/* /content/cars_train\n",
        "!mv /content/YoCol/darknet/coco/labels/val2014/* /content/cars_test"
      ],
      "execution_count": null,
      "outputs": []
    },
    {
      "cell_type": "markdown",
      "metadata": {
        "id": "ay5moePX82up"
      },
      "source": [
        "Darknet need to a list file of image file path that will be passes to darknet for training and validation"
      ]
    },
    {
      "cell_type": "code",
      "metadata": {
        "id": "fGpShQi31BB-"
      },
      "source": [
        "# Make list file of train and test image file path\n",
        "train_images_list = os.listdir(TRAIN_IMAGE_PATH)\n",
        "test_images_list = os.listdir(TEST_IMAGE_PATH)\n",
        "train_list_file = open('/content/train_list.txt', 'w')\n",
        "test_list_file = open('/content/test_list.txt', 'w')\n",
        "for img_name in train_images_list:\n",
        "  train_list_file.write(TRAIN_IMAGE_PATH + img_name + '\\n')\n",
        "for img_name2 in test_images_list:\n",
        "  test_list_file.write(TEST_IMAGE_PATH + img_name2 + '\\n')"
      ],
      "execution_count": null,
      "outputs": []
    },
    {
      "cell_type": "code",
      "metadata": {
        "id": "zfVUq_Qo3yZJ"
      },
      "source": [
        "# Then we start labelling Standford Dataset based on labels data that stored in\n",
        "# \"all_label\" dictionary\n",
        "for name in all_label:\n",
        "  if int(name[:-4]) < 8145 :\n",
        "    label_file = open(TRAIN_IMAGE_PATH + name[:-4] + '.txt', 'w')\n",
        "  else:\n",
        "    label_file = open(TEST_IMAGE_PATH + name[:-4] + '.txt', 'w')\n",
        "  for label in all_label[name]:\n",
        "    label_file.write(label + '\\n')"
      ],
      "execution_count": null,
      "outputs": []
    },
    {
      "cell_type": "markdown",
      "metadata": {
        "id": "Waq6FzMx5PqW"
      },
      "source": [
        "##Setting before Training for Yolov3"
      ]
    },
    {
      "cell_type": "markdown",
      "metadata": {
        "id": "JhFfVndw-BnP"
      },
      "source": [
        "Darknet need some configuration file befor training YOLO model that had \".data\" extension. This file contains some configuration such as where darknet must take list file of training and validation, classes names that will use for YOLO, and path to store .weights file"
      ]
    },
    {
      "cell_type": "code",
      "metadata": {
        "id": "KbhmIIvF5UrP"
      },
      "source": [
        "!mkdir /content/weight\n",
        "dat = \"\"\"classes = 196\n",
        "train = /content/train_list.txt\n",
        "valid = /content/test_list.txt\n",
        "names = /content/YoCol/data/yocol.names\n",
        "backup = /content/\"\"\"\n",
        "with open('/content/darknet.data','w') as dark:\n",
        "  dark.write(dat)"
      ],
      "execution_count": null,
      "outputs": []
    },
    {
      "cell_type": "markdown",
      "metadata": {
        "id": "ak-2SGhL_xEJ"
      },
      "source": [
        "####Compile Darknet"
      ]
    },
    {
      "cell_type": "code",
      "metadata": {
        "id": "DaL6rmY196AA"
      },
      "source": [
        "%cd /content/YoCol/darknet\n",
        "!make\n",
        "#Check if darknet is installed properly\n",
        "!./darknet detector help"
      ],
      "execution_count": null,
      "outputs": []
    },
    {
      "cell_type": "markdown",
      "metadata": {
        "id": "VBPAxHeI7B_f"
      },
      "source": [
        "##Start Training Yolov3"
      ]
    },
    {
      "cell_type": "markdown",
      "metadata": {
        "id": "Dtp73noL5zsJ"
      },
      "source": [
        "The training is start from scratch because we include both dataset and want to not only detect Standford Car classes name but also 80 COCO classes name"
      ]
    },
    {
      "cell_type": "code",
      "metadata": {
        "id": "ac9O1wgu8_wM"
      },
      "source": [
        "%cd /content/YoCol/darknet/\n",
        "!./darknet detector train /content/darknet.data cfg/yolov3.cfg &> /dev/null"
      ],
      "execution_count": null,
      "outputs": []
    }
  ]
}