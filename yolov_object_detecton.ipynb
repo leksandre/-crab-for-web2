{
  "nbformat": 4,
  "nbformat_minor": 0,
  "metadata": {
    "colab": {
      "provenance": [],
      "authorship_tag": "ABX9TyO4b9OQ5fUO8Qy9WHL/Ugcz",
      "include_colab_link": true
    },
    "kernelspec": {
      "name": "python3",
      "display_name": "Python 3"
    },
    "language_info": {
      "name": "python"
    }
  },
  "cells": [
    {
      "cell_type": "markdown",
      "metadata": {
        "id": "view-in-github",
        "colab_type": "text"
      },
      "source": [
        "<a href=\"https://colab.research.google.com/github/leksandre/-crab-for-web2ipr_book_shop/blob/main/yolov_object_detecton.ipynb\" target=\"_parent\"><img src=\"https://colab.research.google.com/assets/colab-badge.svg\" alt=\"Open In Colab\"/></a>"
      ]
    },
    {
      "cell_type": "code",
      "execution_count": null,
      "metadata": {
        "id": "g-YtYxiJfrUJ"
      },
      "outputs": [],
      "source": [
        "!pip install imageai --upgrade"
      ]
    },
    {
      "cell_type": "code",
      "source": [
        "from imageai.Detection import ObjectDetection\n",
        "import os\n",
        "\n",
        "execution_path = os.getcwd()\n",
        "detector = ObjectDetection()"
      ],
      "metadata": {
        "id": "dNwd4qgBGFNJ"
      },
      "execution_count": 2,
      "outputs": []
    },
    {
      "cell_type": "code",
      "source": [
        "!wget -O /content/yolov3.pt https://github.com/OlafenwaMoses/ImageAI/releases/download/3.0.0-pretrained/yolov3.pt\n",
        "detector.setModelTypeAsYOLOv3()\n",
        "detector.setModelPath( os.path.join(execution_path , \"yolov3.pt\"))"
      ],
      "metadata": {
        "id": "0ZfC6ZPGfx06"
      },
      "execution_count": null,
      "outputs": []
    },
    {
      "cell_type": "code",
      "source": [
        "# !wget -O /content/resnet50_coco_best_v2.1.0.h5 https://github.com/fizyr/keras-retinanet/releases/download/0.5.1/resnet50_coco_best_v2.1.0.h5\n",
        "# detector.setModelTypeAsRetinaNet()\n",
        "# detector.setModelPath( os.path.join(execution_path , \"resnet50_coco_best_v2.1.0.h5\"))"
      ],
      "metadata": {
        "id": "Pt10FdakGPcK"
      },
      "execution_count": 4,
      "outputs": []
    },
    {
      "cell_type": "code",
      "source": [
        "detector.loadModel()\n",
        "detections = detector.detectObjectsFromImage(input_image=os.path.join(execution_path , \"image.jpg\"), output_image_path=os.path.join(execution_path , \"imagenew.jpg\"), minimum_percentage_probability=30)\n",
        "\n",
        "for eachObject in detections:\n",
        "    print(eachObject[\"name\"] , \" : \", eachObject[\"percentage_probability\"], \" : \", eachObject[\"box_points\"] )\n",
        "    print(\"--------------------------------\")"
      ],
      "metadata": {
        "colab": {
          "base_uri": "https://localhost:8080/"
        },
        "id": "8U8ParxQGJpO",
        "outputId": "f417ef49-868b-4b5d-a9a7-9dd14cfa8ebb"
      },
      "execution_count": 5,
      "outputs": [
        {
          "output_type": "stream",
          "name": "stdout",
          "text": [
            "person  :  99.88  :  [443, 689, 470, 732]\n",
            "--------------------------------\n",
            "person  :  99.8  :  [485, 688, 515, 736]\n",
            "--------------------------------\n",
            "person  :  99.62  :  [372, 688, 400, 743]\n",
            "--------------------------------\n",
            "person  :  99.61  :  [1007, 631, 1027, 677]\n",
            "--------------------------------\n",
            "person  :  92.38  :  [207, 624, 225, 646]\n",
            "--------------------------------\n",
            "person  :  99.77  :  [419, 689, 443, 733]\n",
            "--------------------------------\n",
            "boat  :  98.94  :  [108, 514, 161, 531]\n",
            "--------------------------------\n",
            "boat  :  99.27  :  [732, 556, 779, 572]\n",
            "--------------------------------\n",
            "boat  :  99.81  :  [362, 536, 427, 557]\n",
            "--------------------------------\n",
            "boat  :  95.77  :  [243, 667, 568, 787]\n",
            "--------------------------------\n",
            "umbrella  :  99.48  :  [333, 648, 457, 689]\n",
            "--------------------------------\n",
            "chair  :  89.23  :  [1669, 852, 1912, 1049]\n",
            "--------------------------------\n"
          ]
        }
      ]
    }
  ]
}