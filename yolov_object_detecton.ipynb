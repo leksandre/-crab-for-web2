{
  "nbformat": 4,
  "nbformat_minor": 0,
  "metadata": {
    "colab": {
      "provenance": [],
      "authorship_tag": "ABX9TyNlknXoz3fjj4b6EVI05zjO",
      "include_colab_link": true
    },
    "kernelspec": {
      "name": "python3",
      "display_name": "Python 3"
    },
    "language_info": {
      "name": "python"
    }
  },
  "cells": [
    {
      "cell_type": "markdown",
      "metadata": {
        "id": "view-in-github",
        "colab_type": "text"
      },
      "source": [
        "<a href=\"https://colab.research.google.com/github/leksandre/-crab-for-web2ipr_book_shop/blob/main/yolov_object_detecton.ipynb\" target=\"_parent\"><img src=\"https://colab.research.google.com/assets/colab-badge.svg\" alt=\"Open In Colab\"/></a>"
      ]
    },
    {
      "cell_type": "code",
      "execution_count": null,
      "metadata": {
        "id": "g-YtYxiJfrUJ"
      },
      "outputs": [],
      "source": [
        "!wget -O /content/yolov3.pt https://github.com/OlafenwaMoses/ImageAI/releases/download/3.0.0-pretrained/yolov3.pt\n",
        "!pip install imageai --upgrade\n"
      ]
    },
    {
      "cell_type": "code",
      "source": [
        "from imageai.Detection import ObjectDetection\n",
        "import os\n",
        "\n",
        "execution_path = os.getcwd()\n",
        "\n",
        "detector = ObjectDetection()\n",
        "detector.setModelTypeAsYOLOv3()\n",
        "detector.setModelPath( os.path.join(execution_path , \"yolov3.pt\"))\n",
        "detector.loadModel()\n",
        "detections = detector.detectObjectsFromImage(input_image=os.path.join(execution_path , \"image.jpg\"), output_image_path=os.path.join(execution_path , \"imagenew.jpg\"), minimum_percentage_probability=30)\n",
        "\n",
        "for eachObject in detections:\n",
        "    print(eachObject[\"name\"] , \" : \", eachObject[\"percentage_probability\"], \" : \", eachObject[\"box_points\"] )\n",
        "    print(\"--------------------------------\")"
      ],
      "metadata": {
        "colab": {
          "base_uri": "https://localhost:8080/"
        },
        "id": "0ZfC6ZPGfx06",
        "outputId": "eb5ef775-c45b-49a1-9731-d13ca19594a4"
      },
      "execution_count": 2,
      "outputs": [
        {
          "output_type": "stream",
          "name": "stdout",
          "text": [
            "person  :  99.9  :  [295, 459, 313, 488]\n",
            "--------------------------------\n",
            "person  :  99.84  :  [324, 459, 343, 490]\n",
            "--------------------------------\n",
            "person  :  99.7  :  [248, 459, 266, 496]\n",
            "--------------------------------\n",
            "person  :  99.59  :  [671, 420, 685, 451]\n",
            "--------------------------------\n",
            "person  :  99.16  :  [1047, 566, 1143, 718]\n",
            "--------------------------------\n",
            "person  :  94.54  :  [138, 416, 150, 431]\n",
            "--------------------------------\n",
            "person  :  99.79  :  [279, 459, 295, 489]\n",
            "--------------------------------\n",
            "boat  :  99.85  :  [241, 357, 283, 372]\n",
            "--------------------------------\n",
            "boat  :  95.65  :  [161, 446, 379, 525]\n",
            "--------------------------------\n",
            "boat  :  98.75  :  [73, 342, 108, 353]\n",
            "--------------------------------\n",
            "umbrella  :  99.44  :  [221, 432, 305, 459]\n",
            "--------------------------------\n",
            "chair  :  84.25  :  [1113, 569, 1275, 698]\n",
            "--------------------------------\n"
          ]
        }
      ]
    }
  ]
}