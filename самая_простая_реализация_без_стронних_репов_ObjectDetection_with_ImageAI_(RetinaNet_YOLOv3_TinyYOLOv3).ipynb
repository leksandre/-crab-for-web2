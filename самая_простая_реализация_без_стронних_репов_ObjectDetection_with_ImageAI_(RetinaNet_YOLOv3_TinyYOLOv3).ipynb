{
  "cells": [
    {
      "cell_type": "markdown",
      "metadata": {
        "id": "view-in-github",
        "colab_type": "text"
      },
      "source": [
        "<a href=\"https://colab.research.google.com/github/leksandre/-crab-for-web2ipr_book_shop/blob/main/%D1%81%D0%B0%D0%BC%D0%B0%D1%8F_%D0%BF%D1%80%D0%BE%D1%81%D1%82%D0%B0%D1%8F_%D1%80%D0%B5%D0%B0%D0%BB%D0%B8%D0%B7%D0%B0%D1%86%D0%B8%D1%8F_%D0%B1%D0%B5%D0%B7_%D1%81%D1%82%D1%80%D0%BE%D0%BD%D0%BD%D0%B8%D1%85_%D1%80%D0%B5%D0%BF%D0%BE%D0%B2_ObjectDetection_with_ImageAI_(RetinaNet_YOLOv3_TinyYOLOv3).ipynb\" target=\"_parent\"><img src=\"https://colab.research.google.com/assets/colab-badge.svg\" alt=\"Open In Colab\"/></a>"
      ]
    },
    {
      "cell_type": "markdown",
      "metadata": {
        "id": "FveKjvz5P79U"
      },
      "source": [
        "#ObjectDetection with ImageAI\n",
        "## Install ImageAI\n",
        "\n",
        "[Object Detection with 10 lines of code](https://towardsdatascience.com/object-detection-with-10-lines-of-code-d6cb4d86f606)\n",
        "\n",
        "[Document](https://imageai.readthedocs.io/en/latest/)"
      ]
    },
    {
      "cell_type": "code",
      "execution_count": null,
      "metadata": {
        "id": "qxIfn0TnmMah"
      },
      "outputs": [],
      "source": [
        "# %tensorflow_version 1.x\n",
        "# import tensorflow as tf\n",
        "# print(tf.__version__)"
      ]
    },
    {
      "cell_type": "code",
      "execution_count": null,
      "metadata": {
        "id": "Y3s165G3mU1y"
      },
      "outputs": [],
      "source": [
        "# !pip uninstall tensorflow -y\n",
        "# !pip install  tensorflow==1.14"
      ]
    },
    {
      "cell_type": "code",
      "execution_count": null,
      "metadata": {
        "id": "SzqmRb0ikG8v"
      },
      "outputs": [],
      "source": [
        "!pip uninstall tensorflow -y\n"
      ]
    },
    {
      "cell_type": "code",
      "execution_count": null,
      "metadata": {
        "id": "-UBDspnGkzCK"
      },
      "outputs": [],
      "source": [
        "#install python 3.8\n",
        "!sudo apt-get update -y\n",
        "!sudo apt-get install python3.8\n",
        "!sudo apt-get install pip\n",
        "\n",
        "#change alternatives\n",
        "!sudo update-alternatives --install /usr/bin/python3 python3 /usr/bin/python3.8 1\n",
        "# !sudo update-alternatives --install /usr/bin/python3 python3 /usr/bin/python3.9 2\n",
        "!apt install python3.8-distutils\n",
        "\n",
        "# #3.9.16"
      ]
    },
    {
      "cell_type": "code",
      "execution_count": null,
      "metadata": {
        "id": "NSWnG5IclLNC"
      },
      "outputs": [],
      "source": [
        "!python3 -V"
      ]
    },
    {
      "cell_type": "code",
      "execution_count": null,
      "metadata": {
        "id": "mtE3bWqZkSBQ"
      },
      "outputs": [],
      "source": [
        "# !pip install tensorflow==2.2.0-beta1\n",
        "!pip install tensorflow==2.2.0\n"
      ]
    },
    {
      "cell_type": "code",
      "execution_count": null,
      "metadata": {
        "id": "LQey7xeSjdNJ"
      },
      "outputs": [],
      "source": [
        "import tensorflow as tf\n",
        "print(tf.__version__)"
      ]
    },
    {
      "cell_type": "code",
      "execution_count": null,
      "metadata": {
        "id": "M_uqo7YIjA4p"
      },
      "outputs": [],
      "source": [
        "!nvcc --version"
      ]
    },
    {
      "cell_type": "code",
      "execution_count": null,
      "metadata": {
        "id": "KQ11p-znjG6w"
      },
      "outputs": [],
      "source": [
        "import tensorflow as tf\n",
        "print(tf.__version__)\n",
        "device_name = tf.test.gpu_device_name()\n",
        "if device_name != '/device:GPU:0':\n",
        "  print('GPU device not found')\n",
        "print('Found GPU at: {}'.format(device_name))"
      ]
    },
    {
      "cell_type": "code",
      "execution_count": null,
      "metadata": {
        "id": "JpuJwcqQivyJ"
      },
      "outputs": [],
      "source": [
        "!python --version"
      ]
    },
    {
      "cell_type": "code",
      "execution_count": null,
      "metadata": {
        "id": "riFGs0u1YiHZ"
      },
      "outputs": [],
      "source": [
        "# !pip3 install keras==2.3.1\n",
        "!pip3 install keras==2.4"
      ]
    },
    {
      "cell_type": "code",
      "execution_count": null,
      "metadata": {
        "id": "fyPJbGdsNmiB"
      },
      "outputs": [],
      "source": [
        "!pip show keras"
      ]
    },
    {
      "cell_type": "code",
      "execution_count": null,
      "metadata": {
        "id": "V-ozmszUhIcB"
      },
      "outputs": [],
      "source": [
        "# !pip3 install tensorflow==2.2.0"
      ]
    },
    {
      "cell_type": "code",
      "execution_count": null,
      "metadata": {
        "id": "yzBfzNQONq_Q"
      },
      "outputs": [],
      "source": [
        "!pip show tensorflow"
      ]
    },
    {
      "cell_type": "code",
      "source": [
        "!pip3 install imageai"
      ],
      "metadata": {
        "id": "hLuKvlJarb15"
      },
      "execution_count": null,
      "outputs": []
    },
    {
      "cell_type": "code",
      "execution_count": null,
      "metadata": {
        "id": "p-5bNweJNi53"
      },
      "outputs": [],
      "source": [
        "!pip3 install https://github.com/OlafenwaMoses/ImageAI/releases/download/2.1.0/imageai-2.1.0-py3-none-any.whl"
      ]
    },
    {
      "cell_type": "code",
      "execution_count": null,
      "metadata": {
        "id": "vZ_NZ0ofSaY5"
      },
      "outputs": [],
      "source": [
        "# !pip3 install https://github.com/OlafenwaMoses/ImageAI/releases/download/2.0.2/imageai-2.0.2-py3-none-any.whl"
      ]
    },
    {
      "cell_type": "markdown",
      "metadata": {
        "id": "2xoXuAMbQAEQ"
      },
      "source": [
        "## Download model (RetinaNet YOLOv3 TinyYOLOv3)"
      ]
    },
    {
      "cell_type": "code",
      "execution_count": null,
      "metadata": {
        "id": "lOHS0FMhN4Hy"
      },
      "outputs": [],
      "source": [
        "\n",
        "\n",
        "!wget https://github.com/OlafenwaMoses/ImageAI/releases/download/1.0/resnet50_coco_best_v2.0.1.h5\n",
        "\n",
        "!wget https://github.com/OlafenwaMoses/ImageAI/releases/download/1.0/yolo.h5\n",
        "\n",
        "!wget https://github.com/OlafenwaMoses/ImageAI/releases/download/1.0/yolo-tiny.h5\n",
        "\n"
      ]
    },
    {
      "cell_type": "markdown",
      "metadata": {
        "id": "SApGx128QFBv"
      },
      "source": [
        "## Download sample image(dog.jpg)"
      ]
    },
    {
      "cell_type": "code",
      "execution_count": null,
      "metadata": {
        "id": "KWjy5yopPJf8"
      },
      "outputs": [],
      "source": [
        "! wget https://blog.keras.io/img/simple-keras-rest-api/dog.jpg\n",
        "!ls"
      ]
    },
    {
      "cell_type": "code",
      "execution_count": null,
      "metadata": {
        "id": "_gfXpwB1Qngi"
      },
      "outputs": [],
      "source": [
        "from PIL import Image\n",
        "Image.open(\"dog.jpg\")"
      ]
    },
    {
      "cell_type": "markdown",
      "metadata": {
        "id": "yqUVTke7V-Vd"
      },
      "source": [
        "## Object Detection with ImageAI(RetinaNet)"
      ]
    },
    {
      "cell_type": "code",
      "execution_count": null,
      "metadata": {
        "id": "vc3Zml1_V9X3"
      },
      "outputs": [],
      "source": [
        "from imageai.Detection import ObjectDetection\n",
        "import os\n",
        "import time\n",
        "\n",
        "execution_path = os.getcwd()\n",
        "\n",
        "retina = ObjectDetection()\n",
        "retina.setModelTypeAsRetinaNet()\n",
        "retina.setModelPath( os.path.join(execution_path , \"resnet50_coco_best_v2.0.1.h5\"))\n",
        "retina.loadModel()"
      ]
    },
    {
      "cell_type": "code",
      "execution_count": null,
      "metadata": {
        "id": "9DT_euk7RurB"
      },
      "outputs": [],
      "source": []
    },
    {
      "cell_type": "code",
      "execution_count": null,
      "metadata": {
        "id": "SiDuLzSzWhZm"
      },
      "outputs": [],
      "source": [
        "start = time.time()\n",
        "detections = retina.detectObjectsFromImage(input_image=os.path.join(execution_path , \"dog.jpg\"), output_image_path=os.path.join(execution_path , \"imagenew.jpg\"))\n",
        "print('sec',time.time() - start)\n",
        "for eachObject in detections:\n",
        "    print(eachObject[\"name\"] , \" : \" , eachObject[\"percentage_probability\"] )\n",
        "Image.open(\"imagenew.jpg\")\n"
      ]
    },
    {
      "cell_type": "markdown",
      "metadata": {
        "id": "oM6ZsAITQOYI"
      },
      "source": [
        "## Object Detection with ImageAI(YOLOv3)"
      ]
    },
    {
      "cell_type": "code",
      "execution_count": null,
      "metadata": {
        "id": "Y44FqVoLNl7j"
      },
      "outputs": [],
      "source": [
        "yolo = ObjectDetection()\n",
        "yolo.setModelTypeAsYOLOv3()\n",
        "yolo.setModelPath( os.path.join(execution_path , \"yolo.h5\"))\n"
      ]
    },
    {
      "cell_type": "code",
      "execution_count": null,
      "metadata": {
        "id": "Jo-JivfgSAso"
      },
      "outputs": [],
      "source": [
        "yolo.loadModel()"
      ]
    },
    {
      "cell_type": "code",
      "execution_count": null,
      "metadata": {
        "id": "JdNJLPH6NsgY"
      },
      "outputs": [],
      "source": [
        "start = time.time()\n",
        "detections = yolo.detectObjectsFromImage(input_image=os.path.join(execution_path , \"dog.jpg\"), output_image_path=os.path.join(execution_path , \"imagenew.jpg\"))\n",
        "print('sec',time.time() - start)\n",
        "for eachObject in detections:\n",
        "    print(eachObject[\"name\"] , \" : \" , eachObject[\"percentage_probability\"] )\n",
        "Image.open(\"imagenew.jpg\")\n"
      ]
    },
    {
      "cell_type": "markdown",
      "metadata": {
        "id": "gEqSq8BFWreh"
      },
      "source": [
        "## Object Detection with ImageAI(TinyYOLOv3)"
      ]
    },
    {
      "cell_type": "code",
      "execution_count": null,
      "metadata": {
        "id": "mdNf-asbVV3X"
      },
      "outputs": [],
      "source": [
        "tiny = ObjectDetection()\n",
        "tiny.setModelTypeAsTinyYOLOv3()\n",
        "tiny.setModelPath( os.path.join(execution_path , \"yolo-tiny.h5\"))\n"
      ]
    },
    {
      "cell_type": "code",
      "execution_count": null,
      "metadata": {
        "id": "FxvG3OsZSCYb"
      },
      "outputs": [],
      "source": [
        "tiny.loadModel()"
      ]
    },
    {
      "cell_type": "code",
      "execution_count": null,
      "metadata": {
        "id": "UUMxmfZyWwnj"
      },
      "outputs": [],
      "source": [
        "start = time.time()\n",
        "detections = tiny.detectObjectsFromImage(input_image=os.path.join(execution_path , \"dog.jpg\"), output_image_path=os.path.join(execution_path , \"imagenew.jpg\"))\n",
        "print('sec',time.time() - start)\n",
        "\n",
        "for eachObject in detections:\n",
        "    print(eachObject[\"name\"] , \" : \" , eachObject[\"percentage_probability\"] )\n",
        "Image.open(\"imagenew.jpg\")\n"
      ]
    },
    {
      "cell_type": "code",
      "execution_count": null,
      "metadata": {
        "id": "lQLdqbsRYgH4"
      },
      "outputs": [],
      "source": []
    }
  ],
  "metadata": {
    "colab": {
      "provenance": [],
      "include_colab_link": true
    },
    "kernelspec": {
      "display_name": "Python 3",
      "name": "python3"
    }
  },
  "nbformat": 4,
  "nbformat_minor": 0
}