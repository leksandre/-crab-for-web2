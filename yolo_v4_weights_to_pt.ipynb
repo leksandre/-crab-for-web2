{
  "nbformat": 4,
  "nbformat_minor": 0,
  "metadata": {
    "colab": {
      "provenance": [],
      "authorship_tag": "ABX9TyO38nGSo+ZtSpHsK23TFwoq",
      "include_colab_link": true
    },
    "kernelspec": {
      "name": "python3",
      "display_name": "Python 3"
    },
    "language_info": {
      "name": "python"
    }
  },
  "cells": [
    {
      "cell_type": "markdown",
      "metadata": {
        "id": "view-in-github",
        "colab_type": "text"
      },
      "source": [
        "<a href=\"https://colab.research.google.com/github/leksandre/-crab-for-web2ipr_book_shop/blob/main/yolo_v4_weights_to_pt.ipynb\" target=\"_parent\"><img src=\"https://colab.research.google.com/assets/colab-badge.svg\" alt=\"Open In Colab\"/></a>"
      ]
    },
    {
      "cell_type": "code",
      "source": [
        "!git clone https://github.com/Tianxiaomo/pytorch-YOLOv4.git"
      ],
      "metadata": {
        "colab": {
          "base_uri": "https://localhost:8080/"
        },
        "id": "rO5PmX647Rcb",
        "outputId": "00578c51-346b-4150-f7d8-dfe3f75b56e8"
      },
      "execution_count": null,
      "outputs": [
        {
          "output_type": "stream",
          "name": "stdout",
          "text": [
            "Cloning into 'pytorch-YOLOv4'...\n",
            "remote: Enumerating objects: 1052, done.\u001b[K\n",
            "remote: Counting objects: 100% (9/9), done.\u001b[K\n",
            "remote: Compressing objects: 100% (9/9), done.\u001b[K\n",
            "remote: Total 1052 (delta 4), reused 0 (delta 0), pack-reused 1043\u001b[K\n",
            "Receiving objects: 100% (1052/1052), 2.39 MiB | 17.12 MiB/s, done.\n",
            "Resolving deltas: 100% (646/646), done.\n"
          ]
        }
      ]
    },
    {
      "cell_type": "code",
      "source": [
        "!cd pytorch-YOLOv4"
      ],
      "metadata": {
        "id": "a483sDh_7g3q"
      },
      "execution_count": null,
      "outputs": []
    },
    {
      "cell_type": "code",
      "source": [
        "!mv pytorch-YOLOv4/* ./"
      ],
      "metadata": {
        "id": "PK7Nr9Q48iVa"
      },
      "execution_count": null,
      "outputs": []
    },
    {
      "cell_type": "code",
      "source": [
        "!pwd"
      ],
      "metadata": {
        "colab": {
          "base_uri": "https://localhost:8080/"
        },
        "id": "91bS4a2x8Lr2",
        "outputId": "7dd78d20-52b4-4845-9419-0a70e390be69"
      },
      "execution_count": null,
      "outputs": [
        {
          "output_type": "stream",
          "name": "stdout",
          "text": [
            "/content\n"
          ]
        }
      ]
    },
    {
      "cell_type": "code",
      "source": [
        "# !pip install tool"
      ],
      "metadata": {
        "id": "mTlE0JAq4cM-"
      },
      "execution_count": null,
      "outputs": []
    },
    {
      "cell_type": "code",
      "source": [
        "# !pip install context_locals"
      ],
      "metadata": {
        "id": "x4uUVPaJ4luS"
      },
      "execution_count": null,
      "outputs": []
    },
    {
      "cell_type": "code",
      "source": [
        "from tool import darknet2pytorch\n"
      ],
      "metadata": {
        "id": "I8L-_xkV0Bfj"
      },
      "execution_count": null,
      "outputs": []
    },
    {
      "cell_type": "code",
      "source": [
        "import torch"
      ],
      "metadata": {
        "id": "4Et5FOQm4o5K"
      },
      "execution_count": null,
      "outputs": []
    },
    {
      "cell_type": "code",
      "execution_count": null,
      "metadata": {
        "id": "CIwCps8Lzp0Y"
      },
      "outputs": [],
      "source": [
        "# load weights from darknet format\n",
        "model = darknet2pytorch.Darknet('/content/yoloMyvN.cfg', inference=True)\n",
        "model.load_weights('/content/yoloMyvN_120000.weights')\n",
        "\n",
        "# save weights to pytorch format\n",
        "torch.save(model.state_dict(), 'yolov4-pytorch.pth')\n",
        "\n",
        "# reload weights from pytorch format\n",
        "# model_pt = darknet2pytorch.Darknet('path/to/cfg/yolov4-416.cfg', inference=True)\n",
        "# model_pt.load_state_dict(torch.load('path/to/save/yolov4-pytorch.pth'))"
      ]
    }
  ]
}